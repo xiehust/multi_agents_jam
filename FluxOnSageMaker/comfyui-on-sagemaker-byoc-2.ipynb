{
 "cells": [
  {
   "cell_type": "markdown",
   "id": "54c880c6",
   "metadata": {
    "tags": []
   },
   "source": [
    "### 1. 升级boto3, sagemaker python sdk"
   ]
  },
  {
   "cell_type": "code",
   "execution_count": 1,
   "id": "f17e7cdf",
   "metadata": {
    "collapsed": true,
    "jupyter": {
     "outputs_hidden": true
    },
    "tags": []
   },
   "outputs": [
    {
     "name": "stdout",
     "output_type": "stream",
     "text": [
      "Requirement already satisfied: boto3 in /home/ec2-user/anaconda3/envs/pytorch_p310/lib/python3.10/site-packages (1.35.36)\n",
      "Requirement already satisfied: sagemaker in /home/ec2-user/anaconda3/envs/pytorch_p310/lib/python3.10/site-packages (2.232.2)\n",
      "Requirement already satisfied: botocore<1.36.0,>=1.35.36 in /home/ec2-user/anaconda3/envs/pytorch_p310/lib/python3.10/site-packages (from boto3) (1.35.36)\n",
      "Requirement already satisfied: jmespath<2.0.0,>=0.7.1 in /home/ec2-user/anaconda3/envs/pytorch_p310/lib/python3.10/site-packages (from boto3) (1.0.1)\n",
      "Requirement already satisfied: s3transfer<0.11.0,>=0.10.0 in /home/ec2-user/anaconda3/envs/pytorch_p310/lib/python3.10/site-packages (from boto3) (0.10.2)\n",
      "Requirement already satisfied: attrs<24,>=23.1.0 in /home/ec2-user/anaconda3/envs/pytorch_p310/lib/python3.10/site-packages (from sagemaker) (23.2.0)\n",
      "Requirement already satisfied: cloudpickle==2.2.1 in /home/ec2-user/anaconda3/envs/pytorch_p310/lib/python3.10/site-packages (from sagemaker) (2.2.1)\n",
      "Requirement already satisfied: docker in /home/ec2-user/anaconda3/envs/pytorch_p310/lib/python3.10/site-packages (from sagemaker) (7.1.0)\n",
      "Requirement already satisfied: google-pasta in /home/ec2-user/anaconda3/envs/pytorch_p310/lib/python3.10/site-packages (from sagemaker) (0.2.0)\n",
      "Requirement already satisfied: importlib-metadata<7.0,>=1.4.0 in /home/ec2-user/anaconda3/envs/pytorch_p310/lib/python3.10/site-packages (from sagemaker) (6.11.0)\n",
      "Requirement already satisfied: jsonschema in /home/ec2-user/anaconda3/envs/pytorch_p310/lib/python3.10/site-packages (from sagemaker) (4.23.0)\n",
      "Requirement already satisfied: numpy<2.0,>=1.9.0 in /home/ec2-user/anaconda3/envs/pytorch_p310/lib/python3.10/site-packages (from sagemaker) (1.26.4)\n",
      "Requirement already satisfied: packaging>=20.0 in /home/ec2-user/anaconda3/envs/pytorch_p310/lib/python3.10/site-packages (from sagemaker) (21.3)\n",
      "Requirement already satisfied: pandas in /home/ec2-user/anaconda3/envs/pytorch_p310/lib/python3.10/site-packages (from sagemaker) (1.5.3)\n",
      "Requirement already satisfied: pathos in /home/ec2-user/anaconda3/envs/pytorch_p310/lib/python3.10/site-packages (from sagemaker) (0.3.2)\n",
      "Requirement already satisfied: platformdirs in /home/ec2-user/anaconda3/envs/pytorch_p310/lib/python3.10/site-packages (from sagemaker) (4.2.2)\n",
      "Requirement already satisfied: protobuf<5.0,>=3.12 in /home/ec2-user/anaconda3/envs/pytorch_p310/lib/python3.10/site-packages (from sagemaker) (4.25.4)\n",
      "Requirement already satisfied: psutil in /home/ec2-user/anaconda3/envs/pytorch_p310/lib/python3.10/site-packages (from sagemaker) (6.0.0)\n",
      "Requirement already satisfied: pyyaml~=6.0 in /home/ec2-user/anaconda3/envs/pytorch_p310/lib/python3.10/site-packages (from sagemaker) (6.0.1)\n",
      "Requirement already satisfied: requests in /home/ec2-user/anaconda3/envs/pytorch_p310/lib/python3.10/site-packages (from sagemaker) (2.32.3)\n",
      "Requirement already satisfied: sagemaker-core<2.0.0,>=1.0.0 in /home/ec2-user/anaconda3/envs/pytorch_p310/lib/python3.10/site-packages (from sagemaker) (1.0.4)\n",
      "Requirement already satisfied: sagemaker-mlflow in /home/ec2-user/anaconda3/envs/pytorch_p310/lib/python3.10/site-packages (from sagemaker) (0.1.0)\n",
      "Requirement already satisfied: schema in /home/ec2-user/anaconda3/envs/pytorch_p310/lib/python3.10/site-packages (from sagemaker) (0.7.7)\n",
      "Requirement already satisfied: smdebug-rulesconfig==1.0.1 in /home/ec2-user/anaconda3/envs/pytorch_p310/lib/python3.10/site-packages (from sagemaker) (1.0.1)\n",
      "Requirement already satisfied: tblib<4,>=1.7.0 in /home/ec2-user/anaconda3/envs/pytorch_p310/lib/python3.10/site-packages (from sagemaker) (3.0.0)\n",
      "Requirement already satisfied: tqdm in /home/ec2-user/anaconda3/envs/pytorch_p310/lib/python3.10/site-packages (from sagemaker) (4.66.4)\n",
      "Requirement already satisfied: urllib3<3.0.0,>=1.26.8 in /home/ec2-user/anaconda3/envs/pytorch_p310/lib/python3.10/site-packages (from sagemaker) (2.2.2)\n",
      "Requirement already satisfied: python-dateutil<3.0.0,>=2.1 in /home/ec2-user/anaconda3/envs/pytorch_p310/lib/python3.10/site-packages (from botocore<1.36.0,>=1.35.36->boto3) (2.9.0)\n",
      "Requirement already satisfied: zipp>=0.5 in /home/ec2-user/anaconda3/envs/pytorch_p310/lib/python3.10/site-packages (from importlib-metadata<7.0,>=1.4.0->sagemaker) (3.19.2)\n",
      "Requirement already satisfied: pyparsing!=3.0.5,>=2.0.2 in /home/ec2-user/anaconda3/envs/pytorch_p310/lib/python3.10/site-packages (from packaging>=20.0->sagemaker) (3.1.2)\n",
      "Requirement already satisfied: pydantic<3.0.0,>=1.7.0 in /home/ec2-user/anaconda3/envs/pytorch_p310/lib/python3.10/site-packages (from sagemaker-core<2.0.0,>=1.0.0->sagemaker) (2.8.2)\n",
      "Requirement already satisfied: rich<14.0.0,>=13.0.0 in /home/ec2-user/anaconda3/envs/pytorch_p310/lib/python3.10/site-packages (from sagemaker-core<2.0.0,>=1.0.0->sagemaker) (13.8.1)\n",
      "Requirement already satisfied: mock<5.0,>4.0 in /home/ec2-user/anaconda3/envs/pytorch_p310/lib/python3.10/site-packages (from sagemaker-core<2.0.0,>=1.0.0->sagemaker) (4.0.3)\n",
      "Requirement already satisfied: jsonschema-specifications>=2023.03.6 in /home/ec2-user/anaconda3/envs/pytorch_p310/lib/python3.10/site-packages (from jsonschema->sagemaker) (2023.12.1)\n",
      "Requirement already satisfied: referencing>=0.28.4 in /home/ec2-user/anaconda3/envs/pytorch_p310/lib/python3.10/site-packages (from jsonschema->sagemaker) (0.35.1)\n",
      "Requirement already satisfied: rpds-py>=0.7.1 in /home/ec2-user/anaconda3/envs/pytorch_p310/lib/python3.10/site-packages (from jsonschema->sagemaker) (0.19.1)\n",
      "Requirement already satisfied: charset-normalizer<4,>=2 in /home/ec2-user/anaconda3/envs/pytorch_p310/lib/python3.10/site-packages (from requests->sagemaker) (3.3.2)\n",
      "Requirement already satisfied: idna<4,>=2.5 in /home/ec2-user/anaconda3/envs/pytorch_p310/lib/python3.10/site-packages (from requests->sagemaker) (3.7)\n",
      "Requirement already satisfied: certifi>=2017.4.17 in /home/ec2-user/anaconda3/envs/pytorch_p310/lib/python3.10/site-packages (from requests->sagemaker) (2024.7.4)\n",
      "Requirement already satisfied: six in /home/ec2-user/anaconda3/envs/pytorch_p310/lib/python3.10/site-packages (from google-pasta->sagemaker) (1.16.0)\n",
      "Requirement already satisfied: pytz>=2020.1 in /home/ec2-user/anaconda3/envs/pytorch_p310/lib/python3.10/site-packages (from pandas->sagemaker) (2024.1)\n",
      "Requirement already satisfied: ppft>=1.7.6.8 in /home/ec2-user/anaconda3/envs/pytorch_p310/lib/python3.10/site-packages (from pathos->sagemaker) (1.7.6.8)\n",
      "Requirement already satisfied: dill>=0.3.8 in /home/ec2-user/anaconda3/envs/pytorch_p310/lib/python3.10/site-packages (from pathos->sagemaker) (0.3.8)\n",
      "Requirement already satisfied: pox>=0.3.4 in /home/ec2-user/anaconda3/envs/pytorch_p310/lib/python3.10/site-packages (from pathos->sagemaker) (0.3.4)\n",
      "Requirement already satisfied: multiprocess>=0.70.16 in /home/ec2-user/anaconda3/envs/pytorch_p310/lib/python3.10/site-packages (from pathos->sagemaker) (0.70.16)\n",
      "Requirement already satisfied: mlflow>=2.8 in /home/ec2-user/anaconda3/envs/pytorch_p310/lib/python3.10/site-packages (from sagemaker-mlflow->sagemaker) (2.16.2)\n",
      "Requirement already satisfied: mlflow-skinny==2.16.2 in /home/ec2-user/anaconda3/envs/pytorch_p310/lib/python3.10/site-packages (from mlflow>=2.8->sagemaker-mlflow->sagemaker) (2.16.2)\n",
      "Requirement already satisfied: Flask<4 in /home/ec2-user/anaconda3/envs/pytorch_p310/lib/python3.10/site-packages (from mlflow>=2.8->sagemaker-mlflow->sagemaker) (3.0.3)\n",
      "Requirement already satisfied: alembic!=1.10.0,<2 in /home/ec2-user/anaconda3/envs/pytorch_p310/lib/python3.10/site-packages (from mlflow>=2.8->sagemaker-mlflow->sagemaker) (1.13.3)\n",
      "Requirement already satisfied: graphene<4 in /home/ec2-user/anaconda3/envs/pytorch_p310/lib/python3.10/site-packages (from mlflow>=2.8->sagemaker-mlflow->sagemaker) (3.3)\n",
      "Requirement already satisfied: markdown<4,>=3.3 in /home/ec2-user/anaconda3/envs/pytorch_p310/lib/python3.10/site-packages (from mlflow>=2.8->sagemaker-mlflow->sagemaker) (3.7)\n",
      "Requirement already satisfied: matplotlib<4 in /home/ec2-user/anaconda3/envs/pytorch_p310/lib/python3.10/site-packages (from mlflow>=2.8->sagemaker-mlflow->sagemaker) (3.9.1)\n",
      "Requirement already satisfied: pyarrow<18,>=4.0.0 in /home/ec2-user/anaconda3/envs/pytorch_p310/lib/python3.10/site-packages (from mlflow>=2.8->sagemaker-mlflow->sagemaker) (17.0.0)\n",
      "Requirement already satisfied: scikit-learn<2 in /home/ec2-user/anaconda3/envs/pytorch_p310/lib/python3.10/site-packages (from mlflow>=2.8->sagemaker-mlflow->sagemaker) (1.5.1)\n",
      "Requirement already satisfied: scipy<2 in /home/ec2-user/anaconda3/envs/pytorch_p310/lib/python3.10/site-packages (from mlflow>=2.8->sagemaker-mlflow->sagemaker) (1.14.0)\n",
      "Requirement already satisfied: sqlalchemy<3,>=1.4.0 in /home/ec2-user/anaconda3/envs/pytorch_p310/lib/python3.10/site-packages (from mlflow>=2.8->sagemaker-mlflow->sagemaker) (2.0.35)\n",
      "Requirement already satisfied: Jinja2<4,>=2.11 in /home/ec2-user/anaconda3/envs/pytorch_p310/lib/python3.10/site-packages (from mlflow>=2.8->sagemaker-mlflow->sagemaker) (3.1.4)\n",
      "Requirement already satisfied: gunicorn<24 in /home/ec2-user/anaconda3/envs/pytorch_p310/lib/python3.10/site-packages (from mlflow>=2.8->sagemaker-mlflow->sagemaker) (23.0.0)\n",
      "Requirement already satisfied: cachetools<6,>=5.0.0 in /home/ec2-user/anaconda3/envs/pytorch_p310/lib/python3.10/site-packages (from mlflow-skinny==2.16.2->mlflow>=2.8->sagemaker-mlflow->sagemaker) (5.5.0)\n",
      "Requirement already satisfied: click<9,>=7.0 in /home/ec2-user/anaconda3/envs/pytorch_p310/lib/python3.10/site-packages (from mlflow-skinny==2.16.2->mlflow>=2.8->sagemaker-mlflow->sagemaker) (8.1.7)\n",
      "Requirement already satisfied: databricks-sdk<1,>=0.20.0 in /home/ec2-user/anaconda3/envs/pytorch_p310/lib/python3.10/site-packages (from mlflow-skinny==2.16.2->mlflow>=2.8->sagemaker-mlflow->sagemaker) (0.34.0)\n",
      "Requirement already satisfied: gitpython<4,>=3.1.9 in /home/ec2-user/anaconda3/envs/pytorch_p310/lib/python3.10/site-packages (from mlflow-skinny==2.16.2->mlflow>=2.8->sagemaker-mlflow->sagemaker) (3.1.43)\n",
      "Requirement already satisfied: opentelemetry-api<3,>=1.9.0 in /home/ec2-user/anaconda3/envs/pytorch_p310/lib/python3.10/site-packages (from mlflow-skinny==2.16.2->mlflow>=2.8->sagemaker-mlflow->sagemaker) (1.27.0)\n",
      "Requirement already satisfied: opentelemetry-sdk<3,>=1.9.0 in /home/ec2-user/anaconda3/envs/pytorch_p310/lib/python3.10/site-packages (from mlflow-skinny==2.16.2->mlflow>=2.8->sagemaker-mlflow->sagemaker) (1.27.0)\n",
      "Requirement already satisfied: sqlparse<1,>=0.4.0 in /home/ec2-user/anaconda3/envs/pytorch_p310/lib/python3.10/site-packages (from mlflow-skinny==2.16.2->mlflow>=2.8->sagemaker-mlflow->sagemaker) (0.5.1)\n",
      "Requirement already satisfied: annotated-types>=0.4.0 in /home/ec2-user/anaconda3/envs/pytorch_p310/lib/python3.10/site-packages (from pydantic<3.0.0,>=1.7.0->sagemaker-core<2.0.0,>=1.0.0->sagemaker) (0.7.0)\n",
      "Requirement already satisfied: pydantic-core==2.20.1 in /home/ec2-user/anaconda3/envs/pytorch_p310/lib/python3.10/site-packages (from pydantic<3.0.0,>=1.7.0->sagemaker-core<2.0.0,>=1.0.0->sagemaker) (2.20.1)\n",
      "Requirement already satisfied: typing-extensions>=4.6.1 in /home/ec2-user/anaconda3/envs/pytorch_p310/lib/python3.10/site-packages (from pydantic<3.0.0,>=1.7.0->sagemaker-core<2.0.0,>=1.0.0->sagemaker) (4.12.2)\n",
      "Requirement already satisfied: markdown-it-py>=2.2.0 in /home/ec2-user/anaconda3/envs/pytorch_p310/lib/python3.10/site-packages (from rich<14.0.0,>=13.0.0->sagemaker-core<2.0.0,>=1.0.0->sagemaker) (3.0.0)\n",
      "Requirement already satisfied: pygments<3.0.0,>=2.13.0 in /home/ec2-user/anaconda3/envs/pytorch_p310/lib/python3.10/site-packages (from rich<14.0.0,>=13.0.0->sagemaker-core<2.0.0,>=1.0.0->sagemaker) (2.18.0)\n",
      "Requirement already satisfied: Mako in /home/ec2-user/anaconda3/envs/pytorch_p310/lib/python3.10/site-packages (from alembic!=1.10.0,<2->mlflow>=2.8->sagemaker-mlflow->sagemaker) (1.3.5)\n",
      "Requirement already satisfied: Werkzeug>=3.0.0 in /home/ec2-user/anaconda3/envs/pytorch_p310/lib/python3.10/site-packages (from Flask<4->mlflow>=2.8->sagemaker-mlflow->sagemaker) (3.0.3)\n",
      "Requirement already satisfied: itsdangerous>=2.1.2 in /home/ec2-user/anaconda3/envs/pytorch_p310/lib/python3.10/site-packages (from Flask<4->mlflow>=2.8->sagemaker-mlflow->sagemaker) (2.2.0)\n",
      "Requirement already satisfied: blinker>=1.6.2 in /home/ec2-user/anaconda3/envs/pytorch_p310/lib/python3.10/site-packages (from Flask<4->mlflow>=2.8->sagemaker-mlflow->sagemaker) (1.8.2)\n",
      "Requirement already satisfied: graphql-core<3.3,>=3.1 in /home/ec2-user/anaconda3/envs/pytorch_p310/lib/python3.10/site-packages (from graphene<4->mlflow>=2.8->sagemaker-mlflow->sagemaker) (3.2.4)\n",
      "Requirement already satisfied: graphql-relay<3.3,>=3.1 in /home/ec2-user/anaconda3/envs/pytorch_p310/lib/python3.10/site-packages (from graphene<4->mlflow>=2.8->sagemaker-mlflow->sagemaker) (3.2.0)\n",
      "Requirement already satisfied: aniso8601<10,>=8 in /home/ec2-user/anaconda3/envs/pytorch_p310/lib/python3.10/site-packages (from graphene<4->mlflow>=2.8->sagemaker-mlflow->sagemaker) (9.0.1)\n",
      "Requirement already satisfied: MarkupSafe>=2.0 in /home/ec2-user/anaconda3/envs/pytorch_p310/lib/python3.10/site-packages (from Jinja2<4,>=2.11->mlflow>=2.8->sagemaker-mlflow->sagemaker) (2.1.5)\n",
      "Requirement already satisfied: mdurl~=0.1 in /home/ec2-user/anaconda3/envs/pytorch_p310/lib/python3.10/site-packages (from markdown-it-py>=2.2.0->rich<14.0.0,>=13.0.0->sagemaker-core<2.0.0,>=1.0.0->sagemaker) (0.1.2)\n",
      "Requirement already satisfied: contourpy>=1.0.1 in /home/ec2-user/anaconda3/envs/pytorch_p310/lib/python3.10/site-packages (from matplotlib<4->mlflow>=2.8->sagemaker-mlflow->sagemaker) (1.2.1)\n",
      "Requirement already satisfied: cycler>=0.10 in /home/ec2-user/anaconda3/envs/pytorch_p310/lib/python3.10/site-packages (from matplotlib<4->mlflow>=2.8->sagemaker-mlflow->sagemaker) (0.12.1)\n",
      "Requirement already satisfied: fonttools>=4.22.0 in /home/ec2-user/anaconda3/envs/pytorch_p310/lib/python3.10/site-packages (from matplotlib<4->mlflow>=2.8->sagemaker-mlflow->sagemaker) (4.53.1)\n",
      "Requirement already satisfied: kiwisolver>=1.3.1 in /home/ec2-user/anaconda3/envs/pytorch_p310/lib/python3.10/site-packages (from matplotlib<4->mlflow>=2.8->sagemaker-mlflow->sagemaker) (1.4.5)\n",
      "Requirement already satisfied: pillow>=8 in /home/ec2-user/anaconda3/envs/pytorch_p310/lib/python3.10/site-packages (from matplotlib<4->mlflow>=2.8->sagemaker-mlflow->sagemaker) (10.4.0)\n",
      "Requirement already satisfied: joblib>=1.2.0 in /home/ec2-user/anaconda3/envs/pytorch_p310/lib/python3.10/site-packages (from scikit-learn<2->mlflow>=2.8->sagemaker-mlflow->sagemaker) (1.4.2)\n",
      "Requirement already satisfied: threadpoolctl>=3.1.0 in /home/ec2-user/anaconda3/envs/pytorch_p310/lib/python3.10/site-packages (from scikit-learn<2->mlflow>=2.8->sagemaker-mlflow->sagemaker) (3.5.0)\n",
      "Requirement already satisfied: greenlet!=0.4.17 in /home/ec2-user/anaconda3/envs/pytorch_p310/lib/python3.10/site-packages (from sqlalchemy<3,>=1.4.0->mlflow>=2.8->sagemaker-mlflow->sagemaker) (3.1.1)\n",
      "Requirement already satisfied: google-auth~=2.0 in /home/ec2-user/anaconda3/envs/pytorch_p310/lib/python3.10/site-packages (from databricks-sdk<1,>=0.20.0->mlflow-skinny==2.16.2->mlflow>=2.8->sagemaker-mlflow->sagemaker) (2.35.0)\n",
      "Requirement already satisfied: gitdb<5,>=4.0.1 in /home/ec2-user/anaconda3/envs/pytorch_p310/lib/python3.10/site-packages (from gitpython<4,>=3.1.9->mlflow-skinny==2.16.2->mlflow>=2.8->sagemaker-mlflow->sagemaker) (4.0.11)\n",
      "Requirement already satisfied: deprecated>=1.2.6 in /home/ec2-user/anaconda3/envs/pytorch_p310/lib/python3.10/site-packages (from opentelemetry-api<3,>=1.9.0->mlflow-skinny==2.16.2->mlflow>=2.8->sagemaker-mlflow->sagemaker) (1.2.14)\n",
      "Requirement already satisfied: opentelemetry-semantic-conventions==0.48b0 in /home/ec2-user/anaconda3/envs/pytorch_p310/lib/python3.10/site-packages (from opentelemetry-sdk<3,>=1.9.0->mlflow-skinny==2.16.2->mlflow>=2.8->sagemaker-mlflow->sagemaker) (0.48b0)\n",
      "Requirement already satisfied: wrapt<2,>=1.10 in /home/ec2-user/anaconda3/envs/pytorch_p310/lib/python3.10/site-packages (from deprecated>=1.2.6->opentelemetry-api<3,>=1.9.0->mlflow-skinny==2.16.2->mlflow>=2.8->sagemaker-mlflow->sagemaker) (1.16.0)\n",
      "Requirement already satisfied: smmap<6,>=3.0.1 in /home/ec2-user/anaconda3/envs/pytorch_p310/lib/python3.10/site-packages (from gitdb<5,>=4.0.1->gitpython<4,>=3.1.9->mlflow-skinny==2.16.2->mlflow>=2.8->sagemaker-mlflow->sagemaker) (5.0.1)\n",
      "Requirement already satisfied: pyasn1-modules>=0.2.1 in /home/ec2-user/anaconda3/envs/pytorch_p310/lib/python3.10/site-packages (from google-auth~=2.0->databricks-sdk<1,>=0.20.0->mlflow-skinny==2.16.2->mlflow>=2.8->sagemaker-mlflow->sagemaker) (0.4.1)\n",
      "Requirement already satisfied: rsa<5,>=3.1.4 in /home/ec2-user/anaconda3/envs/pytorch_p310/lib/python3.10/site-packages (from google-auth~=2.0->databricks-sdk<1,>=0.20.0->mlflow-skinny==2.16.2->mlflow>=2.8->sagemaker-mlflow->sagemaker) (4.7.2)\n",
      "Requirement already satisfied: pyasn1<0.7.0,>=0.4.6 in /home/ec2-user/anaconda3/envs/pytorch_p310/lib/python3.10/site-packages (from pyasn1-modules>=0.2.1->google-auth~=2.0->databricks-sdk<1,>=0.20.0->mlflow-skinny==2.16.2->mlflow>=2.8->sagemaker-mlflow->sagemaker) (0.6.0)\n"
     ]
    }
   ],
   "source": [
    "!pip install --upgrade boto3 sagemaker sagemaker_ssh_helper"
   ]
  },
  {
   "cell_type": "code",
   "execution_count": 4,
   "id": "13486437",
   "metadata": {
    "tags": []
   },
   "outputs": [
    {
     "name": "stdout",
     "output_type": "stream",
     "text": [
      "sagemaker.config INFO - Not applying SDK defaults from location: /etc/xdg/sagemaker/config.yaml\n",
      "sagemaker.config INFO - Not applying SDK defaults from location: /home/ec2-user/.config/sagemaker/config.yaml\n",
      "account id:434444145045\n",
      "sagemaker sdk version: 2.232.2\n",
      "role:  arn:aws:iam::434444145045:role/test2-ExecutionRole-R1gUnbXC9ZOp  \n",
      "bucket:  sagemaker-us-west-2-434444145045\n"
     ]
    }
   ],
   "source": [
    "#导入对应的库\n",
    "\n",
    "import re\n",
    "import os\n",
    "import json\n",
    "import uuid\n",
    "\n",
    "import numpy as np\n",
    "import pandas as pd\n",
    "from time import gmtime, strftime\n",
    "\n",
    "\n",
    "import boto3\n",
    "import sagemaker\n",
    "\n",
    "from sagemaker import get_execution_role,session\n",
    "from sagemaker import Model, image_uris, serializers, deserializers\n",
    "\n",
    "role = get_execution_role()\n",
    "sage_session = session.Session()\n",
    "bucket = sage_session.default_bucket()\n",
    "aws_region = boto3.Session().region_name\n",
    "sts_client = boto3.client('sts')\n",
    "account_id = sts_client.get_caller_identity()['Account']\n",
    "print(f'account id:{account_id}')\n",
    "\n",
    "print(f'sagemaker sdk version: {sagemaker.__version__}\\nrole:  {role}  \\nbucket:  {bucket}')"
   ]
  },
  {
   "cell_type": "markdown",
   "id": "40088bc5",
   "metadata": {
    "tags": []
   },
   "source": [
    "### 2. 编译docker image (comfyui-inference)"
   ]
  },
  {
   "cell_type": "code",
   "execution_count": 5,
   "id": "6e12c79e-b795-4b99-bab8-400f9be2625b",
   "metadata": {
    "tags": []
   },
   "outputs": [],
   "source": [
    "## You should change below region code to the region you used, here sample is use us-west-2\n",
    "# !aws ecr get-login-password --region us-west-2 | docker login --username AWS --password-stdin 763104351884.dkr.ecr.us-west-2.amazonaws.com"
   ]
  },
  {
   "cell_type": "code",
   "execution_count": 93,
   "id": "28cd0cbc-361f-4838-be3f-88bb8628c8ca",
   "metadata": {
    "collapsed": true,
    "jupyter": {
     "outputs_hidden": true
    },
    "tags": []
   },
   "outputs": [],
   "source": [
    "# !bash build_and_push.sh docker/Dockerfile_deploy"
   ]
  },
  {
   "cell_type": "code",
   "execution_count": 94,
   "id": "efbc709d",
   "metadata": {
    "tags": []
   },
   "outputs": [],
   "source": [
    "# !touch dummy\n",
    "# !tar czvf model.tar.gz dummy\n",
    "# assets_dir = 's3://{0}/{1}/assets/'.format(bucket, 'stablediffusion')\n",
    "# model_data = 's3://{0}/{1}/assets/model.tar.gz'.format(bucket, 'stablediffusion')\n",
    "# !aws s3 cp model.tar.gz $assets_dir\n",
    "# !rm -f dummy model.tar.gz"
   ]
  },
  {
   "cell_type": "markdown",
   "id": "aae8a3a1-d800-4cda-a375-8c17dbfa5976",
   "metadata": {},
   "source": [
    "### 下载flux模型并上传到S3"
   ]
  },
  {
   "cell_type": "code",
   "execution_count": 80,
   "id": "6d9a3106-162b-4387-8d5e-033564255ed7",
   "metadata": {
    "tags": []
   },
   "outputs": [
    {
     "name": "stdout",
     "output_type": "stream",
     "text": [
      "--2024-10-10 03:33:32--  https://huggingface.co/lllyasviel/flux1-dev-bnb-nf4/resolve/main/flux1-dev-bnb-nf4-v2.safetensors\n",
      "Resolving huggingface.co (huggingface.co)... 3.165.160.61, 3.165.160.59, 3.165.160.11, ...\n",
      "Connecting to huggingface.co (huggingface.co)|3.165.160.61|:443... connected.\n",
      "HTTP request sent, awaiting response... 302 Found\n",
      "Location: https://cdn-lfs-us-1.hf.co/repos/22/5b/225be068416fc1776856b384b9f3482592328892f6dd54ca5fe279b4c52f3817/fef37763b8f2c8cc3463139bbb6d91aa517c605b654d4e5c540de52813f30306?response-content-disposition=inline%3B+filename*%3DUTF-8%27%27flux1-dev-bnb-nf4-v2.safetensors%3B+filename%3D%22flux1-dev-bnb-nf4-v2.safetensors%22%3B&Expires=1728790412&Policy=eyJTdGF0ZW1lbnQiOlt7IkNvbmRpdGlvbiI6eyJEYXRlTGVzc1RoYW4iOnsiQVdTOkVwb2NoVGltZSI6MTcyODc5MDQxMn19LCJSZXNvdXJjZSI6Imh0dHBzOi8vY2RuLWxmcy11cy0xLmhmLmNvL3JlcG9zLzIyLzViLzIyNWJlMDY4NDE2ZmMxNzc2ODU2YjM4NGI5ZjM0ODI1OTIzMjg4OTJmNmRkNTRjYTVmZTI3OWI0YzUyZjM4MTcvZmVmMzc3NjNiOGYyYzhjYzM0NjMxMzliYmI2ZDkxYWE1MTdjNjA1YjY1NGQ0ZTVjNTQwZGU1MjgxM2YzMDMwNj9yZXNwb25zZS1jb250ZW50LWRpc3Bvc2l0aW9uPSoifV19&Signature=ndKNXL5ZeeY6o78rMlW98A9WiD45vgnAjOb0%7EZoBdYJ7kBhJE4noSpOEs3N8DzMKZhEHLhx0BBytgti0AwHR07PhlLXGJhlhW2EdoVaWTQXz%7EImxYHiQwm7FzYdKv92voagrhBY98knntr79E8jOTDIwtRJj38fELhNGuBtO9gJKsrxu9QpTVNHQU6BsERGXHq63wwAUmxOa8gtGeBbNDbOddNMSlXBEnv9y8FO-Vc8ciOIP53FHZDWZCrO5bQVYW%7ELj5JwGc0-wmIycuAH785wjxQItztWtXeXBcGqMnjCGMMzDEwFJ3C-yKu6m-hOBsdBpCBDH9Nf8RmrtmCe68g__&Key-Pair-Id=K24J24Z295AEI9 [following]\n",
      "--2024-10-10 03:33:32--  https://cdn-lfs-us-1.hf.co/repos/22/5b/225be068416fc1776856b384b9f3482592328892f6dd54ca5fe279b4c52f3817/fef37763b8f2c8cc3463139bbb6d91aa517c605b654d4e5c540de52813f30306?response-content-disposition=inline%3B+filename*%3DUTF-8%27%27flux1-dev-bnb-nf4-v2.safetensors%3B+filename%3D%22flux1-dev-bnb-nf4-v2.safetensors%22%3B&Expires=1728790412&Policy=eyJTdGF0ZW1lbnQiOlt7IkNvbmRpdGlvbiI6eyJEYXRlTGVzc1RoYW4iOnsiQVdTOkVwb2NoVGltZSI6MTcyODc5MDQxMn19LCJSZXNvdXJjZSI6Imh0dHBzOi8vY2RuLWxmcy11cy0xLmhmLmNvL3JlcG9zLzIyLzViLzIyNWJlMDY4NDE2ZmMxNzc2ODU2YjM4NGI5ZjM0ODI1OTIzMjg4OTJmNmRkNTRjYTVmZTI3OWI0YzUyZjM4MTcvZmVmMzc3NjNiOGYyYzhjYzM0NjMxMzliYmI2ZDkxYWE1MTdjNjA1YjY1NGQ0ZTVjNTQwZGU1MjgxM2YzMDMwNj9yZXNwb25zZS1jb250ZW50LWRpc3Bvc2l0aW9uPSoifV19&Signature=ndKNXL5ZeeY6o78rMlW98A9WiD45vgnAjOb0%7EZoBdYJ7kBhJE4noSpOEs3N8DzMKZhEHLhx0BBytgti0AwHR07PhlLXGJhlhW2EdoVaWTQXz%7EImxYHiQwm7FzYdKv92voagrhBY98knntr79E8jOTDIwtRJj38fELhNGuBtO9gJKsrxu9QpTVNHQU6BsERGXHq63wwAUmxOa8gtGeBbNDbOddNMSlXBEnv9y8FO-Vc8ciOIP53FHZDWZCrO5bQVYW%7ELj5JwGc0-wmIycuAH785wjxQItztWtXeXBcGqMnjCGMMzDEwFJ3C-yKu6m-hOBsdBpCBDH9Nf8RmrtmCe68g__&Key-Pair-Id=K24J24Z295AEI9\n",
      "Resolving cdn-lfs-us-1.hf.co (cdn-lfs-us-1.hf.co)... 3.165.160.3, 3.165.160.77, 3.165.160.38, ...\n",
      "Connecting to cdn-lfs-us-1.hf.co (cdn-lfs-us-1.hf.co)|3.165.160.3|:443... connected.\n",
      "HTTP request sent, awaiting response... 200 OK\n",
      "Length: 12044280207 (11G) [binary/octet-stream]\n",
      "Saving to: ‘./flux-model/flux1-dev-bnb-nf4-v2.safetensors’\n",
      "\n",
      "100%[===================================>] 12,044,280,207  252MB/s   in 41s    \n",
      "\n",
      "2024-10-10 03:34:14 (278 MB/s) - ‘./flux-model/flux1-dev-bnb-nf4-v2.safetensors’ saved [12044280207/12044280207]\n",
      "\n"
     ]
    }
   ],
   "source": [
    "from pathlib import Path\n",
    "local_model_path = Path(\"./flux-model\")\n",
    "local_model_path.mkdir(exist_ok=True)\n",
    "\n",
    "!wget -O ./flux-model/flux1-dev-bnb-nf4-v2.safetensors https://huggingface.co/lllyasviel/flux1-dev-bnb-nf4/resolve/main/flux1-dev-bnb-nf4-v2.safetensors "
   ]
  },
  {
   "cell_type": "code",
   "execution_count": 10,
   "id": "64ce0444-4a32-4c49-b74b-296c8f5ea1ac",
   "metadata": {
    "tags": []
   },
   "outputs": [],
   "source": [
    "import sagemaker\n",
    "sess = sagemaker.session.Session()  # sagemaker session for interacting with different AWS APIs\n",
    "bucket = sess.default_bucket()  # bucket to house artifacts\n",
    "region = sess._region_name\n",
    "s3_model_prefix = \"flux-models\"  # folder where model checkpoint will go\n",
    "\n"
   ]
  },
  {
   "cell_type": "code",
   "execution_count": 82,
   "id": "b3cfd7fc-c982-4f93-aaa4-2c023c24db51",
   "metadata": {
    "tags": []
   },
   "outputs": [
    {
     "name": "stdout",
     "output_type": "stream",
     "text": [
      "upload: flux-model/flux1-dev-bnb-nf4-v2.safetensors to s3://sagemaker-us-west-2-434444145045/flux-models/flux1-dev-bnb-nf4-v2.safetensors\n"
     ]
    }
   ],
   "source": [
    "!aws s3 cp --recursive ./flux-model s3://{bucket}/{s3_model_prefix}"
   ]
  },
  {
   "cell_type": "code",
   "execution_count": 78,
   "id": "f207e0f7-5eaf-4467-9d4c-7c5a66486122",
   "metadata": {
    "tags": []
   },
   "outputs": [
    {
     "name": "stdout",
     "output_type": "stream",
     "text": [
      "2024-10-09 15:41:43   18319825 flux1-dev-bnb-nf4-v2.safetensors\n"
     ]
    }
   ],
   "source": [
    "!aws s3 ls s3://{bucket}/{s3_model_prefix}/"
   ]
  },
  {
   "cell_type": "code",
   "execution_count": 11,
   "id": "3ee4fb37-f507-4dee-a919-e9eb40208aeb",
   "metadata": {
    "tags": []
   },
   "outputs": [
    {
     "data": {
      "text/plain": [
       "{'s3_bucket': 'sagemaker-us-west-2-434444145045',\n",
       " 'MODEL_PATH': 's3://sagemaker-us-west-2-434444145045/flux-models'}"
      ]
     },
     "execution_count": 11,
     "metadata": {},
     "output_type": "execute_result"
    }
   ],
   "source": [
    "models = {\"s3_bucket\": f\"{bucket}\", \"MODEL_PATH\": f\"s3://{bucket}/{s3_model_prefix}\"}\n",
    "models"
   ]
  },
  {
   "cell_type": "markdown",
   "id": "0344b348-f6f1-4df5-9a23-5a7358123f9b",
   "metadata": {},
   "source": [
    "### 部署模型"
   ]
  },
  {
   "cell_type": "code",
   "execution_count": 12,
   "id": "2485fa70-d044-4631-8d70-22aab163fb5e",
   "metadata": {
    "tags": []
   },
   "outputs": [],
   "source": [
    "import jinja2\n",
    "from jinja2 import Template\n",
    "import os\n",
    "import time\n",
    "\n",
    "node_urls = ['https://github.com/comfyanonymous/ComfyUI_bitsandbytes_NF4']\n",
    "\n",
    "def build_image():\n",
    "    print(\"build_image====\")\n",
    "    global models, node_urls\n",
    "    deploy_output = \"\"\n",
    "    # 读取 Dockerfile 模板\n",
    "    with open('dockerfile.template', 'r') as file:\n",
    "        template_content = file.read()\n",
    "    # 创建 Jinja2 模板对象\n",
    "    template = Template(template_content)\n",
    "    # 定义要克隆的 Git 仓库 URL 列表\n",
    "    git_urls = node_urls\n",
    "    # 生成 git clone 命令列表\n",
    "    git_clone_commands = []\n",
    "    for url in git_urls:\n",
    "        repo_name = os.path.splitext(os.path.basename(url))[0]\n",
    "        command = f\"RUN git clone {url} /opt/program/custom_nodes/{repo_name}\"\n",
    "        git_clone_commands.append(command)\n",
    "    # 渲染模板\n",
    "    rendered_content = template.render(git_clone_commands=git_clone_commands)\n",
    "    # 将渲染后的内容写入新的 Dockerfile\n",
    "    with open('Dockerfile_deploy', 'w') as file:\n",
    "        file.write(rendered_content)\n",
    "\n",
    "    #gr.Info(\"New Dockerfile has been generated.\")\n",
    "    print(\"New Dockerfile has been generated.\")\n",
    "\n",
    "    ## step1: build docker image\n",
    "    deploy_output=f\"开始build镜像（初次build会下载base image，有一定的时间，请耐心等待)\"\n",
    "    #gr.Info(deploy_output)\n",
    "    print(deploy_output)\n",
    "\n",
    "    # AWS ECR login\n",
    "    os.system(\"aws ecr get-login-password --region us-west-2 | docker login --username AWS --password-stdin 763104351884.dkr.ecr.us-west-2.amazonaws.com\")\n",
    "    # Build and push\n",
    "    os.system(\"./build_and_push.sh Dockerfile_deploy\")\n",
    "\n",
    "# 部署模型\n",
    "def deploy_model(instance_type, region):\n",
    "    # Create dummy file and tar\n",
    "    with open('dummy', 'w') as f:\n",
    "        pass\n",
    "    os.system(\"tar czvf model.tar.gz dummy\")\n",
    "    # Set S3 paths\n",
    "    assets_dir = f's3://{bucket}/stablediffusion/assets/'\n",
    "    model_data = f's3://{bucket}/stablediffusion/assets/model.tar.gz'\n",
    "    # Upload to S3\n",
    "    os.system(\"aws s3 cp model.tar.gz \"+assets_dir)\n",
    "    # Clean up\n",
    "    os.remove('dummy')\n",
    "    os.remove('model.tar.gz')\n",
    "\n",
    "    ## step2: create sagemaker model config\n",
    "    env = models\n",
    "    print(env)\n",
    "    container=f\"{account_id}.dkr.ecr.{aws_region}.amazonaws.com/comfyui-inference:latest\"\n",
    "\n",
    "    model = Model(image_uri=container,\n",
    "              model_data=model_data,\n",
    "              role=role,\n",
    "              env=env,\n",
    "              #dependencies=[SSHModelWrapper.dependency_dir()]\n",
    "              )\n",
    "\n",
    "    deploy_output = f\"开始部署模型\\n实例类型: {instance_type}\\n区域: {region}\\n\"\n",
    "    #gr.Info(deploy_output)\n",
    "    print(deploy_output)\n",
    "\n",
    "    ## step3: start deployment\n",
    "    endpoint_name = f\"comfyui-endpoint-{int(time.time())}\"\n",
    "    try:\n",
    "        deploy_output = f\"正在创建 SageMaker endpoint: {endpoint_name}\\n\"\n",
    "        print(deploy_output)\n",
    "        model.deploy(initial_instance_count=1,\n",
    "             instance_type=instance_type,\n",
    "             endpoint_name=endpoint_name,\n",
    "             container_startup_health_check_timeout=2600\n",
    "            )\n",
    "        deploy_output += f\"{endpoint_name}部署成功!\\n\"\n",
    "        #gr.Info(deploy_output)\n",
    "        print(deploy_output)\n",
    "        print(\"here2====\")\n",
    "        return endpoint_name\n",
    "    except Exception as e:\n",
    "        print(\"here3====\")\n",
    "        print(e)\n",
    "        deploy_output += f\"部署过程中出现错误: {str(e)}\\n\"\n",
    "        print(deploy_output)\n",
    "        return endpoint_name"
   ]
  },
  {
   "cell_type": "markdown",
   "id": "da892a52-38ea-4517-ba95-bc09aa4be47c",
   "metadata": {},
   "source": [
    "### build 镜像"
   ]
  },
  {
   "cell_type": "code",
   "execution_count": 2,
   "id": "0ddf4e2b-3c0d-4dab-aa19-faa2f497c079",
   "metadata": {
    "collapsed": true,
    "jupyter": {
     "outputs_hidden": true
    },
    "tags": []
   },
   "outputs": [
    {
     "name": "stdout",
     "output_type": "stream",
     "text": [
      "build_image====\n",
      "New Dockerfile has been generated.\n",
      "开始build镜像（初次build会下载base image，有一定的时间，请耐心等待)\n"
     ]
    },
    {
     "name": "stderr",
     "output_type": "stream",
     "text": [
      "WARNING! Your password will be stored unencrypted in /home/ec2-user/.docker/config.json.\n",
      "Configure a credential helper to remove this warning. See\n",
      "https://docs.docker.com/engine/reference/commandline/login/#credentials-store\n",
      "\n"
     ]
    },
    {
     "name": "stdout",
     "output_type": "stream",
     "text": [
      "Login Succeeded\n"
     ]
    },
    {
     "name": "stderr",
     "output_type": "stream",
     "text": [
      "WARNING! Using --password via the CLI is insecure. Use --password-stdin.\n",
      "WARNING! Your password will be stored unencrypted in /home/ec2-user/.docker/config.json.\n",
      "Configure a credential helper to remove this warning. See\n",
      "https://docs.docker.com/engine/reference/commandline/login/#credentials-store\n",
      "\n",
      "fatal: destination path 'ComfyUI' already exists and is not an empty directory.\n",
      "#0 building with \"default\" instance using docker driver\n",
      "\n",
      "#1 [internal] load build definition from Dockerfile_deploy\n",
      "#1 DONE 0.0s\n"
     ]
    },
    {
     "name": "stdout",
     "output_type": "stream",
     "text": [
      "Login Succeeded\n"
     ]
    },
    {
     "name": "stderr",
     "output_type": "stream",
     "text": [
      "\n",
      "#1 [internal] load build definition from Dockerfile_deploy\n",
      "#1 transferring dockerfile: 1.82kB done\n",
      "#1 DONE 0.0s\n",
      "\n",
      "#2 [internal] load metadata for nvcr.io/nvidia/pytorch:23.05-py3\n",
      "#2 DONE 0.5s\n",
      "\n",
      "#3 [internal] load .dockerignore\n",
      "#3 transferring context: 2B done\n",
      "#3 DONE 0.0s\n",
      "\n",
      "#4 [ 1/28] FROM nvcr.io/nvidia/pytorch:23.05-py3@sha256:d5aa1e516e68afab9cd3ecaaeac3dd2178618bd26cd7ad96762ed53e32e9e0bd\n",
      "#4 DONE 0.0s\n",
      "\n",
      "#5 [internal] load build context\n",
      "#5 transferring context: 29.56kB 0.0s done\n",
      "#5 DONE 0.0s\n",
      "\n",
      "#6 [23/28] RUN mkdir -p /opt/program/models/xlabs/loras\n",
      "#6 CACHED\n",
      "\n",
      "#7 [ 5/28] RUN pip install sagemaker-ssh-helper\n",
      "#7 CACHED\n",
      "\n",
      "#8 [10/28] RUN pip install -U xformers\n",
      "#8 CACHED\n",
      "\n",
      "#9 [18/28] RUN wget https://huggingface.co/black-forest-labs/FLUX.1-schnell/resolve/main/ae.safetensors\n",
      "#9 CACHED\n",
      "\n",
      "#10 [16/28] RUN pip install bitsandbytes\n",
      "#10 CACHED\n",
      "\n",
      "#11 [21/28] RUN git clone https://github.com/comfyanonymous/ComfyUI_bitsandbytes_NF4 /opt/program/custom_nodes/ComfyUI_bitsandbytes_NF4\n",
      "#11 CACHED\n",
      "\n",
      "#12 [ 3/28] RUN chmod 777 /opt/program\n",
      "#12 CACHED\n",
      "\n",
      "#13 [20/28] RUN mv ./ae.safetensors /opt/program/models/vae/\n",
      "#13 CACHED\n",
      "\n",
      "#14 [22/28] RUN mkdir -p /opt/program/models/xlabs/ipadapters\n",
      "#14 CACHED\n",
      "\n",
      "#15 [14/28] RUN pip install retry\n",
      "#15 CACHED\n",
      "\n",
      "#16 [ 2/28] RUN mkdir -p /opt/program\n",
      "#16 CACHED\n",
      "\n",
      "#17 [12/28] RUN pip install imageio_ffmpeg\n",
      "#17 CACHED\n",
      "\n",
      "#18 [ 8/28] RUN pip install -r /opt/program/requirements.txt\n",
      "#18 CACHED\n",
      "\n",
      "#19 [26/28] RUN chmod 755 /opt/program\n",
      "#19 CACHED\n",
      "\n",
      "#20 [ 6/28] RUN curl -L https://github.com/peak/s5cmd/releases/download/v2.2.2/s5cmd_2.2.2_Linux-64bit.tar.gz | tar -xz && mv s5cmd /opt/program/\n",
      "#20 CACHED\n",
      "\n",
      "#21 [ 7/28] COPY ComfyUI /opt/program\n",
      "#21 CACHED\n",
      "\n",
      "#22 [ 4/28] RUN pip install --no-cache-dir fastapi uvicorn sagemaker\n",
      "#22 CACHED\n",
      "\n",
      "#23 [15/28] RUN pip install segment-anything\n",
      "#23 CACHED\n",
      "\n",
      "#24 [11/28] RUN pip install scikit-image\n",
      "#24 CACHED\n",
      "\n",
      "#25 [24/28] RUN pip3 install websocket-client\n",
      "#25 CACHED\n",
      "\n",
      "#26 [13/28] RUN pip install wget\n",
      "#26 CACHED\n",
      "\n",
      "#27 [17/28] RUN wget https://huggingface.co/mmmoof1/vae-ft-mse-840000-ema-pruned/resolve/main/vae-ft-mse-840000-ema-pruned.safetensors\n",
      "#27 CACHED\n",
      "\n",
      "#28 [25/28] RUN pip3 install pydantic\n",
      "#28 CACHED\n",
      "\n",
      "#29 [19/28] RUN mv ./vae*.safetensors /opt/program/models/vae/\n",
      "#29 CACHED\n",
      "\n",
      "#30 [ 9/28] RUN pip install torch torchvision --upgrade --index-url https://download.pytorch.org/whl/cu121\n",
      "#30 CACHED\n",
      "\n",
      "#31 [27/28] RUN chmod 755 /opt/program/serve\n",
      "#31 CACHED\n",
      "\n",
      "#32 [28/28] WORKDIR /opt/program\n",
      "#32 CACHED\n",
      "\n",
      "#33 exporting to image\n",
      "#33 exporting layers done\n",
      "#33 writing image sha256:c5bbc74388fd134c364afc1824cd20040c445c5e84aedb7bc8be3215ecfc8880 0.0s done\n",
      "#33 naming to docker.io/library/comfyui-inference 0.0s done\n",
      "#33 DONE 0.0s\n"
     ]
    },
    {
     "name": "stdout",
     "output_type": "stream",
     "text": [
      "The push refers to repository [434444145045.dkr.ecr.us-west-2.amazonaws.com/comfyui-inference]\n",
      "5f70bf18a086: Preparing\n",
      "8561ab695c97: Preparing\n",
      "4c102b3b386d: Preparing\n",
      "cec0b36a3c89: Preparing\n",
      "a144c9d746a1: Preparing\n",
      "a52ce2251f46: Preparing\n",
      "5d9a364842ad: Preparing\n",
      "68fecde52660: Preparing\n",
      "e517da2e68cd: Preparing\n",
      "9aeab4c64788: Preparing\n",
      "f5190a4a52c7: Preparing\n",
      "4157985c3eb2: Preparing\n",
      "4a7da64c63df: Preparing\n",
      "2109a0dc0b92: Preparing\n",
      "5588a9e44b78: Preparing\n",
      "a660e6973195: Preparing\n",
      "0518724b63f1: Preparing\n",
      "0c4dfd1acb82: Preparing\n",
      "5b9b245fa845: Preparing\n",
      "481b8ba2a2cc: Preparing\n",
      "b59126ae116b: Preparing\n",
      "f15c037aedda: Preparing\n",
      "acad10c3c71e: Preparing\n",
      "2d706a9cd37e: Preparing\n",
      "52ef53958d0b: Preparing\n",
      "af5bd1acd6a0: Preparing\n",
      "25e08d43b658: Preparing\n",
      "34e30321ba09: Preparing\n",
      "f684be5caa97: Preparing\n",
      "9b11fc966566: Preparing\n",
      "a5bc09d60ea2: Preparing\n",
      "7411a27d7ac3: Preparing\n",
      "60ee97d95a35: Preparing\n",
      "c8a46bb5d982: Preparing\n",
      "f3f637c3407a: Preparing\n",
      "4e81a870531b: Preparing\n",
      "21cfa7f07daf: Preparing\n",
      "975d84760b95: Preparing\n",
      "976596680330: Preparing\n",
      "5f70bf18a086: Preparing\n",
      "36822368d317: Preparing\n",
      "1189c0f8059d: Preparing\n",
      "e488ba05f449: Preparing\n",
      "38ba134b1e5b: Preparing\n",
      "c1e27b7be35e: Preparing\n",
      "40a75b9cde99: Preparing\n",
      "fe6fa0813c59: Preparing\n",
      "b3056c20cf36: Preparing\n",
      "a52ce2251f46: Waiting\n",
      "bb4e804b9ed2: Preparing\n",
      "5d9a364842ad: Waiting\n",
      "9cc12df5c8e0: Preparing\n",
      "68fecde52660: Waiting\n",
      "1ddc49141383: Preparing\n",
      "e517da2e68cd: Waiting\n",
      "9aeab4c64788: Waiting\n",
      "e050e94159cd: Preparing\n",
      "8deb383e486d: Preparing\n",
      "25e08d43b658: Waiting\n",
      "f5190a4a52c7: Waiting\n",
      "30f6896c3b3a: Preparing\n",
      "4157985c3eb2: Waiting\n",
      "34e30321ba09: Waiting\n",
      "4a7da64c63df: Waiting\n",
      "20f9f8d287c0: Preparing\n",
      "2109a0dc0b92: Waiting\n",
      "0628e1ed6527: Preparing\n",
      "5588a9e44b78: Waiting\n",
      "f684be5caa97: Waiting\n",
      "a7548a7db118: Preparing\n",
      "a660e6973195: Waiting\n",
      "0518724b63f1: Waiting\n",
      "6574b5896c8c: Preparing\n",
      "0c4dfd1acb82: Waiting\n",
      "f75ce9343902: Preparing\n",
      "5b9b245fa845: Waiting\n",
      "2c0a2c522bea: Preparing\n",
      "481b8ba2a2cc: Waiting\n",
      "9b11fc966566: Waiting\n",
      "b59126ae116b: Waiting\n",
      "5f70bf18a086: Preparing\n",
      "44696bd5e851: Preparing\n",
      "f15c037aedda: Waiting\n",
      "acad10c3c71e: Waiting\n",
      "40abc0c1f9b7: Preparing\n",
      "2d706a9cd37e: Waiting\n",
      "a5bc09d60ea2: Waiting\n",
      "d5af1bf91380: Preparing\n",
      "52ef53958d0b: Waiting\n",
      "af5bd1acd6a0: Waiting\n",
      "1649b46d7a72: Preparing\n",
      "cc4020295ad2: Preparing\n",
      "7411a27d7ac3: Waiting\n",
      "1bffb63a5613: Preparing\n",
      "60ee97d95a35: Waiting\n",
      "1aaa5323b213: Preparing\n",
      "976596680330: Waiting\n",
      "c8a46bb5d982: Waiting\n",
      "12fa423146a2: Preparing\n",
      "f3f637c3407a: Waiting\n",
      "44962a08a349: Preparing\n",
      "36822368d317: Waiting\n",
      "67f37f41694c: Preparing\n",
      "e050e94159cd: Waiting\n",
      "b31064da7568: Preparing\n",
      "1189c0f8059d: Waiting\n",
      "fbf380ecac68: Preparing\n",
      "8deb383e486d: Waiting\n",
      "b5eef279b1b9: Preparing\n",
      "e488ba05f449: Waiting\n",
      "da1fa333cd99: Preparing\n",
      "30f6896c3b3a: Waiting\n",
      "87da2c54cfd3: Preparing\n",
      "f1c52a5f1f6e: Preparing\n",
      "38ba134b1e5b: Waiting\n",
      "20f9f8d287c0: Waiting\n",
      "b93c1bd012ab: Preparing\n",
      "c1e27b7be35e: Waiting\n",
      "0628e1ed6527: Waiting\n",
      "44696bd5e851: Waiting\n",
      "40a75b9cde99: Waiting\n",
      "a7548a7db118: Waiting\n",
      "40abc0c1f9b7: Waiting\n",
      "d5af1bf91380: Waiting\n",
      "6574b5896c8c: Waiting\n",
      "fe6fa0813c59: Waiting\n",
      "1649b46d7a72: Waiting\n",
      "cc4020295ad2: Waiting\n",
      "f75ce9343902: Waiting\n",
      "b3056c20cf36: Waiting\n",
      "1bffb63a5613: Waiting\n",
      "1aaa5323b213: Waiting\n",
      "bb4e804b9ed2: Waiting\n",
      "2c0a2c522bea: Waiting\n",
      "12fa423146a2: Waiting\n",
      "9cc12df5c8e0: Waiting\n",
      "4e81a870531b: Waiting\n",
      "44962a08a349: Waiting\n",
      "67f37f41694c: Waiting\n",
      "1ddc49141383: Waiting\n",
      "b31064da7568: Waiting\n",
      "975d84760b95: Waiting\n",
      "fbf380ecac68: Waiting\n",
      "21cfa7f07daf: Waiting\n",
      "b93c1bd012ab: Waiting\n",
      "b5eef279b1b9: Waiting\n",
      "87da2c54cfd3: Waiting\n",
      "da1fa333cd99: Waiting\n",
      "f1c52a5f1f6e: Waiting\n",
      "5f70bf18a086: Layer already exists\n",
      "8561ab695c97: Pushed\n",
      "cec0b36a3c89: Pushed\n",
      "4c102b3b386d: Pushed\n",
      "a144c9d746a1: Pushed\n",
      "a52ce2251f46: Pushed\n",
      "5d9a364842ad: Pushed\n",
      "68fecde52660: Pushed\n",
      "e517da2e68cd: Pushed\n",
      "2109a0dc0b92: Pushed\n",
      "9aeab4c64788: Pushed\n",
      "a660e6973195: Pushed\n",
      "5588a9e44b78: Pushed\n",
      "4157985c3eb2: Pushed\n",
      "f5190a4a52c7: Pushed\n",
      "0518724b63f1: Pushed\n",
      "5b9b245fa845: Pushed\n",
      "4a7da64c63df: Pushed\n",
      "acad10c3c71e: Layer already exists\n",
      "2d706a9cd37e: Layer already exists\n",
      "52ef53958d0b: Layer already exists\n",
      "af5bd1acd6a0: Layer already exists\n",
      "25e08d43b658: Layer already exists\n",
      "34e30321ba09: Layer already exists\n",
      "f684be5caa97: Layer already exists\n",
      "9b11fc966566: Layer already exists\n",
      "a5bc09d60ea2: Layer already exists\n",
      "7411a27d7ac3: Layer already exists\n",
      "60ee97d95a35: Layer already exists\n",
      "c8a46bb5d982: Layer already exists\n",
      "f3f637c3407a: Layer already exists\n",
      "4e81a870531b: Layer already exists\n",
      "21cfa7f07daf: Layer already exists\n",
      "975d84760b95: Layer already exists\n",
      "976596680330: Layer already exists\n",
      "36822368d317: Layer already exists\n",
      "1189c0f8059d: Layer already exists\n",
      "e488ba05f449: Layer already exists\n",
      "38ba134b1e5b: Layer already exists\n",
      "c1e27b7be35e: Layer already exists\n",
      "40a75b9cde99: Layer already exists\n",
      "fe6fa0813c59: Layer already exists\n",
      "b3056c20cf36: Layer already exists\n",
      "bb4e804b9ed2: Layer already exists\n",
      "f15c037aedda: Pushed\n",
      "9cc12df5c8e0: Layer already exists\n",
      "1ddc49141383: Layer already exists\n",
      "e050e94159cd: Layer already exists\n",
      "8deb383e486d: Layer already exists\n",
      "30f6896c3b3a: Layer already exists\n",
      "20f9f8d287c0: Layer already exists\n",
      "0628e1ed6527: Layer already exists\n",
      "a7548a7db118: Layer already exists\n",
      "6574b5896c8c: Layer already exists\n",
      "f75ce9343902: Layer already exists\n",
      "2c0a2c522bea: Layer already exists\n",
      "44696bd5e851: Layer already exists\n",
      "40abc0c1f9b7: Layer already exists\n",
      "d5af1bf91380: Layer already exists\n",
      "0c4dfd1acb82: Pushed\n",
      "1649b46d7a72: Layer already exists\n",
      "cc4020295ad2: Layer already exists\n",
      "1bffb63a5613: Layer already exists\n",
      "1aaa5323b213: Layer already exists\n",
      "12fa423146a2: Layer already exists\n",
      "44962a08a349: Layer already exists\n",
      "67f37f41694c: Layer already exists\n",
      "b31064da7568: Layer already exists\n",
      "fbf380ecac68: Layer already exists\n",
      "b5eef279b1b9: Layer already exists\n",
      "87da2c54cfd3: Layer already exists\n",
      "f1c52a5f1f6e: Layer already exists\n",
      "da1fa333cd99: Layer already exists\n",
      "b93c1bd012ab: Layer already exists\n",
      "b59126ae116b: Pushed\n",
      "481b8ba2a2cc: Pushed\n",
      "latest: digest: sha256:c6c388f6dca253b27e054a632fd3b9e8ed1497f18ede8cc9946aa9efe1b94b62 size: 16742\n"
     ]
    }
   ],
   "source": [
    "build_image()"
   ]
  },
  {
   "cell_type": "code",
   "execution_count": 13,
   "id": "0e5e95ae-91cf-429a-9e68-16b01e3b3db2",
   "metadata": {
    "tags": []
   },
   "outputs": [
    {
     "name": "stdout",
     "output_type": "stream",
     "text": [
      "dummy\n",
      "upload: ./model.tar.gz to s3://sagemaker-us-west-2-434444145045/stablediffusion/assets/model.tar.gz\n",
      "{'s3_bucket': 'sagemaker-us-west-2-434444145045', 'MODEL_PATH': 's3://sagemaker-us-west-2-434444145045/flux-models'}\n",
      "开始部署模型\n",
      "实例类型: ml.g4dn.2xlarge\n",
      "区域: us-west-2\n",
      "\n",
      "正在创建 SageMaker endpoint: comfyui-endpoint-1728539826\n",
      "\n",
      "--------------------!正在创建 SageMaker endpoint: comfyui-endpoint-1728539826\n",
      "comfyui-endpoint-1728539826部署成功!\n",
      "\n",
      "here2====\n"
     ]
    }
   ],
   "source": [
    "instance_type = \"ml.g4dn.2xlarge\"\n",
    "endpoint_name = deploy_model(instance_type,aws_region)"
   ]
  }
 ],
 "metadata": {
  "kernelspec": {
   "display_name": "conda_pytorch_p310",
   "language": "python",
   "name": "conda_pytorch_p310"
  },
  "language_info": {
   "codemirror_mode": {
    "name": "ipython",
    "version": 3
   },
   "file_extension": ".py",
   "mimetype": "text/x-python",
   "name": "python",
   "nbconvert_exporter": "python",
   "pygments_lexer": "ipython3",
   "version": "3.10.14"
  }
 },
 "nbformat": 4,
 "nbformat_minor": 5
}
