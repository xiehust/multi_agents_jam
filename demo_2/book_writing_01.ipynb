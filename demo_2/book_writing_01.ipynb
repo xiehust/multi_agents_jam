{
 "cells": [
  {
   "cell_type": "markdown",
   "id": "a262470d-15cb-4a69-8059-8d8baefcabad",
   "metadata": {},
   "source": [
    "# Build an autonomous multi-agents workflow to write picture book"
   ]
  },
  {
   "cell_type": "markdown",
   "id": "8f17d3e1-7dd4-4e38-979b-0e7d9e5487db",
   "metadata": {},
   "source": [
    "# Part 1\n",
    "- **Goal**: Write a outline for a story"
   ]
  },
  {
   "cell_type": "markdown",
   "id": "b05c2834-d7b8-4600-8e1e-3cfdf489a5ee",
   "metadata": {},
   "source": [
    "## 1. Install dependecies"
   ]
  },
  {
   "cell_type": "code",
   "execution_count": 2,
   "id": "682675cb-d9a0-4947-8ad4-4511e77fb3af",
   "metadata": {},
   "outputs": [
    {
     "name": "stdout",
     "output_type": "stream",
     "text": [
      "Note: you may need to restart the kernel to use updated packages.\n"
     ]
    }
   ],
   "source": [
    "%pip install -q langchain_community==0.0.32 langgraph==0.0.51 langchain-aws==0.1.6 pygraphviz==1.13"
   ]
  },
  {
   "cell_type": "markdown",
   "id": "fd6d541e-6cb4-48c6-8d4e-53acc0cb36a4",
   "metadata": {},
   "source": [
    "## 2. Some Utils functions"
   ]
  },
  {
   "cell_type": "markdown",
   "id": "095aa5c8-d5ea-441c-8609-10c48c93ddf6",
   "metadata": {},
   "source": [
    "### 2.1 Structrued Output parser\n",
    "- In our case, we need to parse the LLM output to a pydantic object, so will define Structrued Output parser"
   ]
  },
  {
   "cell_type": "code",
   "execution_count": 102,
   "id": "8d52631e-9eb7-4eab-958a-ae9441b2589b",
   "metadata": {},
   "outputs": [],
   "source": [
    "import os\n",
    "import json\n",
    "import re\n",
    "from langchain_core.output_parsers.base import BaseOutputParser\n",
    "from langchain_core.runnables import RunnableLambda\n",
    "from langchain_core.output_parsers import StrOutputParser\n",
    "from langchain_core.pydantic_v1 import BaseModel, Field\n",
    "from json import JSONDecodeError\n",
    "\n",
    "\n",
    "def dict_to_obj(json_str:dict, target:object):\n",
    "    return target.parse_obj(json_str)\n",
    "\n",
    "class CustJsonOuputParser(BaseOutputParser[str]): \n",
    "    verbose :bool = Field( default=True)\n",
    "\n",
    "    def parse(self, text: str) -> str:\n",
    "        if self.verbose:\n",
    "            print(text)\n",
    "        pattern = r\"<answer>(.*?)</answer>\"\n",
    "        match = re.search(pattern, text, re.DOTALL)\n",
    "        if match:\n",
    "            text = match.group(1)\n",
    "        else:\n",
    "            return {}    \n",
    "        new_dict = json.loads(text.replace('\\n','  '))\n",
    "        \n",
    "        return new_dict\n",
    "\n",
    "    @property\n",
    "    def _type(self) -> str:\n",
    "        return \"cust_output_parser\"\n",
    "\n",
    "class TextOuputParser(BaseOutputParser[str]): \n",
    "    verbose :bool = Field( default=True)\n",
    "\n",
    "    def parse(self, text: str) -> str:\n",
    "        if self.verbose:\n",
    "            print(text)\n",
    "        pattern = r\"<answer>(.*?)</answer>\"\n",
    "        match = re.search(pattern, text, re.DOTALL)\n",
    "        if match:\n",
    "            text = match.group(1)\n",
    "            return text.strip()\n",
    "        else:\n",
    "            return ''\n",
    "\n",
    "    @property\n",
    "    def _type(self) -> str:\n",
    "        return \"TextOuputParser\""
   ]
  },
  {
   "cell_type": "markdown",
   "id": "04e8ec2d-e150-454a-aa1c-b1aac9e58e21",
   "metadata": {},
   "source": [
    "- prompt facilitate to json output"
   ]
  },
  {
   "cell_type": "code",
   "execution_count": 25,
   "id": "0b1d5826-53fa-4717-b52d-ee46814d21cb",
   "metadata": {},
   "outputs": [],
   "source": [
    "fc_desc = \"\"\"\n",
    "You will ALWAYS follow the below guidelines when you are answering a question:\n",
    "<guidelines>\n",
    "- Think through the user's question, extract all data from the question and the previous conversations before creating a plan.\n",
    "- Always output your thoughts within <thinking></thinking> xml tags before you respond to the user. \n",
    "- Your response must be follow the pydantic schema as:\n",
    "<schema>\n",
    "{schema}\n",
    "</shema>\n",
    "- output your answer in json format, enclosed in tag <answer>, so that the user can use pydantic basemodel.parse_obj() to parse the json string into an object which defined as:\n",
    " <schema>\n",
    " {schema}\n",
    " </shema>\n",
    "- Avoid quotation mark within a quotation mark, if encountering a quotation mark within a quotation mark, it needs to be single quotation mark instead\n",
    "</guidelines>\n",
    "\"\"\""
   ]
  },
  {
   "cell_type": "markdown",
   "id": "4032eff3-205e-489a-9793-564257d15a80",
   "metadata": {},
   "source": [
    "### 2.2 LLM models"
   ]
  },
  {
   "cell_type": "code",
   "execution_count": 94,
   "id": "1d649fd2-d40d-479f-bfbc-b5558744b136",
   "metadata": {},
   "outputs": [],
   "source": [
    "from langchain_aws import ChatBedrock\n",
    "\n",
    "from langchain.callbacks.streaming_stdout import StreamingStdOutCallbackHandler\n",
    "\n",
    "llm_sonnet = ChatBedrock(model_id=\"anthropic.claude-3-sonnet-20240229-v1:0\",\n",
    "                  model_kwargs={\"temperature\": 0.8,\n",
    "                                \"top_k\":250,\n",
    "                                \"max_tokens\": 4096,\n",
    "                                \"top_p\":0.9,\n",
    "                                \"stop_sequences\":['</invoke>','</error>']\n",
    "                               },\n",
    "                  streaming=True,\n",
    "                  # callbacks=[StreamingStdOutCallbackHandler()]\n",
    "                )\n",
    "\n",
    "llm_haiku = ChatBedrock(model_id=\"anthropic.claude-3-haiku-20240307-v1:0\",\n",
    "                  model_kwargs={\"temperature\": 0.8,\n",
    "                                \"top_k\":250,\n",
    "                                \"max_tokens\": 4096,\n",
    "                                \"top_p\":0.9,\n",
    "                                \"stop_sequences\":['</invoke>','</error>']\n",
    "                               },\n",
    "                  streaming=True,\n",
    "                  # callbacks=[StreamingStdOutCallbackHandler()]\n",
    "                  )"
   ]
  },
  {
   "cell_type": "markdown",
   "id": "6ed64263-b74e-4fea-9d2b-dccd98bb0c0b",
   "metadata": {},
   "source": [
    "## 3 Agent Roles settings"
   ]
  },
  {
   "cell_type": "markdown",
   "id": "089025a7-114b-4c37-8ea7-72a5022efae9",
   "metadata": {},
   "source": [
    "- In this step, we will create two agents \"cartoonist\" and \"screenwriter\", to create an outline.\n",
    "- The cartoonist create an initial draft, and then ask screenwriter to create the characters. Then cartoonist will revise the outline draft by incooperating the characters."
   ]
  },
  {
   "cell_type": "code",
   "execution_count": 16,
   "id": "c25c7f9a-c037-42ae-9279-1833ac028db7",
   "metadata": {},
   "outputs": [],
   "source": [
    "#set background information\n",
    "company_setting = \"\"\"You are woking in a cartoon studio, the best and creative cartoon studio in the world.\\n\"\"\""
   ]
  },
  {
   "cell_type": "code",
   "execution_count": 17,
   "id": "5e17af86-97bf-4cd9-a46d-da66031c3bf3",
   "metadata": {},
   "outputs": [],
   "source": [
    "role_config = {\n",
    "\"cartoonist\":  \n",
    "      company_setting+\"\"\"You are a cartoonist.\n",
    "Your task is to write an outline for a comics book about a user-provided topic. Be comprehensive and specific. And keep the outline as long as possible.\n",
    "You can refine your story if there is suggestion provided by other roles in your studio.\n",
    "      \"\"\",\n",
    "      \n",
    "\"screenwriter\":  \n",
    "      company_setting+\"\"\"You are a Screenwriter.\n",
    "Your task is to create a main character and a diverse and distinct group of supporting characters for a new story, based on the provided topic and outline.\n",
    "For each supporting character, please provide the following:\n",
    "1. A unique name and role in the story (e.g. sidekick, mentor, rival, etc.)\n",
    "2. A brief description of their perspective, affiliation, or background related to the story's themes\n",
    "3. An explanation of what aspects of the story they will focus on or influence\n",
    "Additionally, think step-by-step about how to make this group of characters distinct and complementary to create an engaging, multifaceted narrative\n",
    "\"\"\",\n",
    "}"
   ]
  },
  {
   "cell_type": "markdown",
   "id": "1c2e5ef3-9fa3-45da-b848-787dcf46dbd1",
   "metadata": {},
   "source": [
    "## 4.Create Prompts template and Chains"
   ]
  },
  {
   "cell_type": "markdown",
   "id": "25cbd685-101f-4543-a484-0a9d57ff8f5f",
   "metadata": {},
   "source": [
    "### 4.1 Create a Outline class to format the LLM output"
   ]
  },
  {
   "cell_type": "code",
   "execution_count": 23,
   "id": "61e498fd-2a44-4e3a-adb9-cd3017b8c431",
   "metadata": {},
   "outputs": [],
   "source": [
    "from langchain_core.pydantic_v1 import BaseModel, Field\n",
    "from typing import List, Optional\n",
    "from langchain_core.prompts import ChatPromptTemplate,MessagesPlaceholder\n",
    "from langchain_core.messages import AIMessage, BaseMessage, HumanMessage, ToolMessage\n",
    "\n",
    "class Chapter(BaseModel):\n",
    "    chapter_title: str = Field(..., title=\"Title of the chapter\")\n",
    "    description: str = Field(..., title=\"Summary description of the chapter\")\n",
    "\n",
    "    @property\n",
    "    def as_str(self) -> str:\n",
    "        return f\"## {self.chapter_title}\\n\\n{self.description}\".strip()\n",
    "\n",
    "\n",
    "class Outline(BaseModel):\n",
    "    page_title: str = Field(..., title=\"Title of the comics book\")\n",
    "    chapters: List[Chapter] = Field(\n",
    "        default_factory=list,\n",
    "        min_items=8,\n",
    "        # max_items=20,\n",
    "        title=\"Titles and descriptions for each chapter of the comics book.\",\n",
    "    )\n",
    "\n",
    "    @property\n",
    "    def as_str(self) -> str:\n",
    "        chapter = \"\\n\\n\".join(chapter.as_str for chapter in self.chapters)\n",
    "        return f\"# {self.page_title}\\n\\n{chapter}\".strip()\n"
   ]
  },
  {
   "cell_type": "markdown",
   "id": "63fc94a6-9827-42a0-ace9-c71d945252e8",
   "metadata": {},
   "source": [
    "- prompt template"
   ]
  },
  {
   "cell_type": "code",
   "execution_count": 36,
   "id": "223ccc24-6e75-4f8e-8cbb-c304d4b3fb37",
   "metadata": {},
   "outputs": [],
   "source": [
    "direct_gen_outline_prompt = ChatPromptTemplate.from_messages(\n",
    "    [\n",
    "        (\n",
    "            \"system\",\n",
    "            role_config[\"cartoonist\"]+ fc_desc,\n",
    "        ),\n",
    "        MessagesPlaceholder(variable_name=\"messages\")\n",
    "    ]\n",
    ")"
   ]
  },
  {
   "cell_type": "markdown",
   "id": "2325af1d-c35e-4b67-883c-344e82ca00b4",
   "metadata": {},
   "source": [
    "### 4.2 Give a story topic  "
   ]
  },
  {
   "cell_type": "code",
   "execution_count": 27,
   "id": "cecc92bb-f486-4f18-84ea-993f638b2df3",
   "metadata": {},
   "outputs": [],
   "source": [
    "topic = \"A little boy who lived in a mountain village obtained a magic book in the wild. He became self-taught and became the most powerful magician in the world, helping the world resist alien invasions. \"\n"
   ]
  },
  {
   "cell_type": "code",
   "execution_count": 33,
   "id": "240603ad-2074-4420-bf40-18ac9dce0b7a",
   "metadata": {},
   "outputs": [],
   "source": [
    "# define a chain\n",
    "generate_outline_direct = direct_gen_outline_prompt | llm_sonnet | CustJsonOuputParser(verbose=True) | RunnableLambda(dict_to_obj).bind(target=Outline)"
   ]
  },
  {
   "cell_type": "markdown",
   "id": "998c6443-ce93-4e86-8e92-32a6a0b83954",
   "metadata": {},
   "source": [
    "- test for generation\n",
    "- If you encounter JSONDecodeError, please rerun again"
   ]
  },
  {
   "cell_type": "code",
   "execution_count": 32,
   "id": "2dfbd9e1-7e9e-401e-8517-88bc0e3ade6e",
   "metadata": {},
   "outputs": [
    {
     "name": "stdout",
     "output_type": "stream",
     "text": [
      "<thinking>\n",
      "Based on the topic provided, here are the key points I need to cover in the outline for a comics book:\n",
      "\n",
      "- Introduce the little boy character living in a mountain village\n",
      "- Describe how he obtained a magic book in the wild \n",
      "- Show how he taught himself magic from the book and became very powerful\n",
      "- Depict his journey to becoming the most powerful magician in the world\n",
      "- Explain the alien invasion threat to the world\n",
      "- Illustrate how the boy, now a powerful magician, helps resist the alien invasion and saves the world\n",
      "\n",
      "With those key points in mind, I will structure the outline into multiple chapters covering the character's journey and ultimate battle against the alien invasion.\n",
      "</thinking>\n",
      "\n",
      "<answer>\n",
      "{\n",
      "  \"page_title\": \"The Magic Book and the Alien Invasion\",\n",
      "  \"chapters\": [\n",
      "    {\n",
      "      \"chapter_title\": \"The Mountain Village Boy\",\n",
      "      \"description\": \"Introduce the young boy living a simple life in a remote mountain village.\"\n",
      "    },\n",
      "    {\n",
      "      \"chapter_title\": \"Discovery in the Wild\",\n",
      "      \"description\": \"The boy finds a mysterious ancient book of magic while exploring the wilderness around his village.\"\n",
      "    },\n",
      "    {\n",
      "      \"chapter_title\": \"Self-Taught Sorcery\",\n",
      "      \"description\": \"Alone, the boy studies and practices the magic from the book, mastering powerful spells.\"\n",
      "    },\n",
      "    {\n",
      "      \"chapter_title\": \"The Prodigious Prodigy\",\n",
      "      \"description\": \"Through relentless training, the boy becomes a prodigiously skilled young magician.\"\n",
      "    },\n",
      "    {\n",
      "      \"chapter_title\": \"The Alien Threat Emerges\",\n",
      "      \"description\": \"Strange alien ships appear in the skies, harbingers of an imminent extraterrestrial invasion.\"\n",
      "    },\n",
      "    {\n",
      "      \"chapter_title\": \"A Lone Beacon of Hope\",\n",
      "      \"description\": \"The world's leaders realize the boy is the only one powerful enough to combat the alien invasion.\"\n",
      "    },\n",
      "    {\n",
      "      \"chapter_title\": \"The Sorcerer Supreme\",\n",
      "      \"description\": \"The young magician is declared the world's Sorcerer Supreme and leads the defense against the aliens.\"\n",
      "    },\n",
      "    {\n",
      "      \"chapter_title\": \"The Final Cosmic Battle\",\n",
      "      \"description\": \"In an epic magical confrontation, the Sorcerer Supreme faces the alien invasion force to decide the fate of Earth.\"\n",
      "    }\n",
      "  ]\n",
      "}\n",
      "</answer>\n"
     ]
    }
   ],
   "source": [
    "outline = generate_outline_direct.invoke({\"messages\": [HumanMessage(content=f\"Here is the topic:{topic}\")],\"schema\":Outline.schema_json() })"
   ]
  },
  {
   "cell_type": "code",
   "execution_count": 43,
   "id": "0f963869-abf3-43fb-bcf8-4f0a94ad95cd",
   "metadata": {},
   "outputs": [
    {
     "name": "stdout",
     "output_type": "stream",
     "text": [
      "# The Magic Book and the Alien Invasion\n",
      "\n",
      "## The Mountain Village Boy\n",
      "\n",
      "Introduce the young boy living a simple life in a remote mountain village.\n",
      "\n",
      "## Discovery in the Wild\n",
      "\n",
      "The boy finds a mysterious ancient book of magic while exploring the wilderness around his village.\n",
      "\n",
      "## Self-Taught Sorcery\n",
      "\n",
      "Alone, the boy studies and practices the magic from the book, mastering powerful spells.\n",
      "\n",
      "## The Prodigious Prodigy\n",
      "\n",
      "Through relentless training, the boy becomes a prodigiously skilled young magician.\n",
      "\n",
      "## The Alien Threat Emerges\n",
      "\n",
      "Strange alien ships appear in the skies, harbingers of an imminent extraterrestrial invasion.\n",
      "\n",
      "## A Lone Beacon of Hope\n",
      "\n",
      "The world's leaders realize the boy is the only one powerful enough to combat the alien invasion.\n",
      "\n",
      "## The Sorcerer Supreme\n",
      "\n",
      "The young magician is declared the world's Sorcerer Supreme and leads the defense against the aliens.\n",
      "\n",
      "## The Final Cosmic Battle\n",
      "\n",
      "In an epic magical confrontation, the Sorcerer Supreme faces the alien invasion force to decide the fate of Earth.\n"
     ]
    }
   ],
   "source": [
    "print(outline.as_str)"
   ]
  },
  {
   "cell_type": "markdown",
   "id": "295d64b0-aadf-4894-b029-2a1e21590ac7",
   "metadata": {},
   "source": [
    "### 4.3 Create characters"
   ]
  },
  {
   "cell_type": "markdown",
   "id": "aee341e7-6d93-45fa-b344-64f455d87405",
   "metadata": {},
   "source": [
    "- Create a Character class to format the LLM output\n",
    "- You can change the number of supporting characters"
   ]
  },
  {
   "cell_type": "code",
   "execution_count": 35,
   "id": "a6c53aca-9973-4087-8603-d23e302bfc9b",
   "metadata": {},
   "outputs": [],
   "source": [
    "class Persona(BaseModel):\n",
    "    affiliation: str = Field(\n",
    "        description=\"Primary affiliation of the character.\",\n",
    "    )\n",
    "    name: str = Field(\n",
    "        description=\"only first name of character, need to match with '^[a-zA-Z0-9_-]{1,64}$'\",\n",
    "    )\n",
    "    role: str = Field(\n",
    "        description=\"Role of the character in the story.\",\n",
    "    )\n",
    "    background: str = Field(\n",
    "        description=\"background of the person in the story.\",\n",
    "    )\n",
    "    description: str = Field(\n",
    "        description=\"description of the character’s personality, hobbies, etc.\",\n",
    "    )\n",
    "    figure: str = Field(\n",
    "        description=\"figure representing such as a boy,a girl,a man, a women, a young woman,an old man or etc\",\n",
    "    )\n",
    "    appearance: str = Field(\n",
    "        description=\"appearance, attire of the character in the story.\",\n",
    "    )\n",
    "\n",
    "    @property\n",
    "    def persona(self) -> str:\n",
    "        return f\"Name: {self.name}\\nRole: {self.role}\\nAffiliation: {self.affiliation}\\nBackground: {self.background}\\nDescription: {self.description}\\nFigure:{self.figure}\\nAppearance: {self.appearance}\\n\"\n",
    "    \n",
    "class Character(BaseModel):\n",
    "    main_character: Persona = Field(\n",
    "        description=\"the main character in the story.\",\n",
    "    )\n",
    "    \n",
    "    supporting_character: List[Persona] = Field(\n",
    "        description=\"Comprehensive list of supporting characters in the story.\",\n",
    "        min_items=1,\n",
    "        max_items=3,\n",
    "    )\n",
    "    @property\n",
    "    def as_str(self) -> str:\n",
    "        return \"\\n\".join([e.persona for e in self.supporting_character])+'\\n'+self.main_character.persona"
   ]
  },
  {
   "cell_type": "markdown",
   "id": "cb78aa7c-efaf-4e7e-8b6e-3c925fe1e6f8",
   "metadata": {},
   "source": [
    "- prompt template "
   ]
  },
  {
   "cell_type": "code",
   "execution_count": 41,
   "id": "7984f008-a7a1-4814-8b04-bed75d080846",
   "metadata": {},
   "outputs": [],
   "source": [
    "gen_character_prompt = ChatPromptTemplate.from_messages(\n",
    "    [\n",
    "        (\n",
    "            \"system\",\n",
    "           role_config[\"screenwriter\"]+ fc_desc,\n",
    "        ),\n",
    "         MessagesPlaceholder(variable_name=\"messages\")\n",
    "    ]\n",
    ")\n",
    "gen_characters_chain = gen_character_prompt | llm_sonnet | CustJsonOuputParser(verbose=True) |RunnableLambda(dict_to_obj).bind(target=Character)"
   ]
  },
  {
   "cell_type": "markdown",
   "id": "aa0dc255-7a07-46f7-8973-bea4a7dd9d33",
   "metadata": {},
   "source": [
    "- test for generation"
   ]
  },
  {
   "cell_type": "code",
   "execution_count": 42,
   "id": "fafdcf06-f3b3-4b20-9fc6-a0463ebb2d4a",
   "metadata": {},
   "outputs": [
    {
     "name": "stdout",
     "output_type": "stream",
     "text": [
      "<thinking>\n",
      "Based on the provided outline for \"The Magic Book and the Alien Invasion\" story, the main character will be a young boy from a remote mountain village who discovers an ancient magic book and becomes a powerful sorcerer. He will then have to use his newfound abilities to defend Earth against an alien invasion.\n",
      "\n",
      "For the supporting characters, I will create:\n",
      "\n",
      "1. A wise old mentor figure to guide the boy in learning magic initially\n",
      "2. A skeptical village leader who doubts the boy's powers at first but comes to respect him\n",
      "3. A female alien commander leading the invasion who serves as the main antagonist\n",
      "\n",
      "These supporting characters will help develop different aspects of the story:\n",
      "\n",
      "- The mentor will teach the boy about magic and its responsibilities, representing wisdom and guidance.\n",
      "- The village leader's skepticism will create conflict and obstacles for the boy to overcome through perseverance.\n",
      "- The alien commander will drive the invasion plot and serve as the central threat/opposition that the boy must ultimately defeat.\n",
      "\n",
      "By having characters with distinct perspectives and roles, it will create a richer, more engaging narrative with different viewpoints and dynamics surrounding the main character's journey.\n",
      "</thinking>\n",
      "\n",
      "<answer>\n",
      "{\n",
      "  \"main_character\": {\n",
      "    \"affiliation\": \"Mountain Village\",\n",
      "    \"name\": \"Kai\",\n",
      "    \"role\": \"Protagonist\",\n",
      "    \"background\": \"Kai is a young boy living a simple life in a remote mountain village, until he discovers an ancient book of magic while exploring the wilderness. Alone, he studies and practices the magic from the book, mastering powerful spells through relentless training. When strange alien ships appear, threatening an extraterrestrial invasion, Kai becomes the world's only hope as he is declared the Sorcerer Supreme to lead the defense against the alien threat.\",\n",
      "    \"description\": \"Kai is a curious, determined, and courageous young boy. Despite his humble beginnings, he possesses a sharp intellect and an unwavering spirit. Once he discovers the magic book, he becomes utterly devoted to mastering its secrets, spending countless hours studying and honing his skills. As he grows into a powerful sorcerer, Kai remains humble and compassionate, driven by a desire to protect his world.\",\n",
      "    \"figure\": \"a boy\",\n",
      "    \"appearance\": \"Kai is a young boy with messy brown hair and bright, inquisitive eyes. He typically wears simple village clothes like a tunic and trousers, but as the Sorcerer Supreme, he dons a long, flowing robe adorned with mystical symbols.\"\n",
      "  },\n",
      "  \"supporting_character\": [\n",
      "    {\n",
      "      \"affiliation\": \"Mountain Village\",\n",
      "      \"name\": \"Ezra\",\n",
      "      \"role\": \"Mentor\",\n",
      "      \"background\": \"Ezra is an ancient and wise sorcerer who has lived in seclusion deep in the mountains for centuries, guarding the magic book. When Kai finds the book, Ezra senses his potential and emerges from hiding to guide and mentor the young prodigy in the ways of magic.\",\n",
      "      \"description\": \"Ezra is a stoic and enigmatic figure, his face lined with the wisdom of ages. Though he speaks infrequently, his words carry great weight and insight. Despite his immense power, Ezra believes in allowing Kai to discover his own path, offering gentle guidance and lessons when needed.\",\n",
      "      \"figure\": \"an old man\",\n",
      "      \"appearance\": \"Ezra is an elderly man with a long, unkempt silver beard and piercing blue eyes. He wears tattered robes and a weathered cloak, carrying a gnarled wooden staff etched with arcane symbols.\"\n",
      "    },\n",
      "    {\n",
      "      \"affiliation\": \"Mountain Village\",\n",
      "      \"name\": \"Greta\",\n",
      "      \"role\": \"Village Leader\",\n",
      "      \"background\": \"Greta is the respected elder and leader of Kai's mountain village. Initially skeptical of the boy's claims of magic, she comes to recognize his immense powers and the grave threat posed by the alien invasion. Though slow to trust, Greta ultimately becomes a fierce ally and advocate for Kai as the Sorcerer Supreme.\",\n",
      "      \"description\": \"Greta is a no-nonsense, pragmatic woman who values hard work and tradition. While initially dismissive of Kai's pursuit of magic, she cannot deny the evidence before her eyes. As the alien threat grows, Greta's protective instincts for her people emerge, and she fully backs Kai's mission to defend their world.\",\n",
      "      \"figure\": \"a woman\",\n",
      "      \"appearance\": \"Greta is a stern-faced woman in her 50s with graying hair tied back in a braid. She typically wears rugged, functional clothing suited for mountain life, like a thick wool tunic and sturdy boots.\"\n",
      "    },\n",
      "    {\n",
      "      \"affiliation\": \"Alien Invasion Force\",\n",
      "      \"name\": \"Zelara\",\n",
      "      \"role\": \"Antagonist\",\n",
      "      \"background\": \"Zelara is the cunning and merciless commander of the alien invasion force targeting Earth. Hailing from a powerful, technologically advanced alien civilization, she views humans as weak, primitive beings unworthy of Earth's precious resources. Zelara aims to subjugate the planet through overwhelming force, seeing Kai's mastery of magic as a mere nuisance to be eliminated.\",\n",
      "      \"description\": \"Zelara is a cold, calculating strategist who shows no mercy to her adversaries. Though her alien physiology appears slender and delicate, she possesses incredible strength and fighting prowess. Zelara is arrogant and dismissive of human capabilities, but she may come to respect Kai's formidable powers as the ultimate battle draws near.\",\n",
      "      \"figure\": \"a woman\",\n",
      "      \"appearance\": \"Zelara has a lithe, almost ethereal form with pale blue skin and glowing violet eyes. She wears sleek, form-fitting armor that seems to be crafted from an unknown alien alloy. Her movements are graceful yet lethal, and she wields advanced alien weaponry.\"\n",
      "    }\n",
      "  ]\n",
      "}\n",
      "</answer><thinking>\n",
      "Based on the provided outline for \"The Magic Book and the Alien Invasion\" story, the main character will be a young boy from a remote mountain village who discovers an ancient magic book and becomes a powerful sorcerer. He will then have to use his newfound abilities to defend Earth against an alien invasion.\n",
      "\n",
      "For the supporting characters, I will create:\n",
      "\n",
      "1. A wise old mentor figure to guide the boy in learning magic initially\n",
      "2. A skeptical village leader who doubts the boy's powers at first but comes to respect him\n",
      "3. A female alien commander leading the invasion who serves as the main antagonist\n",
      "\n",
      "These supporting characters will help develop different aspects of the story:\n",
      "\n",
      "- The mentor will teach the boy about magic and its responsibilities, representing wisdom and guidance.\n",
      "- The village leader's skepticism will create conflict and obstacles for the boy to overcome through perseverance.\n",
      "- The alien commander will drive the invasion plot and serve as the central threat/opposition that the boy must ultimately defeat.\n",
      "\n",
      "By having characters with distinct perspectives and roles, it will create a richer, more engaging narrative with different viewpoints and dynamics surrounding the main character's journey.\n",
      "</thinking>\n",
      "\n",
      "<answer>\n",
      "{\n",
      "  \"main_character\": {\n",
      "    \"affiliation\": \"Mountain Village\",\n",
      "    \"name\": \"Kai\",\n",
      "    \"role\": \"Protagonist\",\n",
      "    \"background\": \"Kai is a young boy living a simple life in a remote mountain village, until he discovers an ancient book of magic while exploring the wilderness. Alone, he studies and practices the magic from the book, mastering powerful spells through relentless training. When strange alien ships appear, threatening an extraterrestrial invasion, Kai becomes the world's only hope as he is declared the Sorcerer Supreme to lead the defense against the alien threat.\",\n",
      "    \"description\": \"Kai is a curious, determined, and courageous young boy. Despite his humble beginnings, he possesses a sharp intellect and an unwavering spirit. Once he discovers the magic book, he becomes utterly devoted to mastering its secrets, spending countless hours studying and honing his skills. As he grows into a powerful sorcerer, Kai remains humble and compassionate, driven by a desire to protect his world.\",\n",
      "    \"figure\": \"a boy\",\n",
      "    \"appearance\": \"Kai is a young boy with messy brown hair and bright, inquisitive eyes. He typically wears simple village clothes like a tunic and trousers, but as the Sorcerer Supreme, he dons a long, flowing robe adorned with mystical symbols.\"\n",
      "  },\n",
      "  \"supporting_character\": [\n",
      "    {\n",
      "      \"affiliation\": \"Mountain Village\",\n",
      "      \"name\": \"Ezra\",\n",
      "      \"role\": \"Mentor\",\n",
      "      \"background\": \"Ezra is an ancient and wise sorcerer who has lived in seclusion deep in the mountains for centuries, guarding the magic book. When Kai finds the book, Ezra senses his potential and emerges from hiding to guide and mentor the young prodigy in the ways of magic.\",\n",
      "      \"description\": \"Ezra is a stoic and enigmatic figure, his face lined with the wisdom of ages. Though he speaks infrequently, his words carry great weight and insight. Despite his immense power, Ezra believes in allowing Kai to discover his own path, offering gentle guidance and lessons when needed.\",\n",
      "      \"figure\": \"an old man\",\n",
      "      \"appearance\": \"Ezra is an elderly man with a long, unkempt silver beard and piercing blue eyes. He wears tattered robes and a weathered cloak, carrying a gnarled wooden staff etched with arcane symbols.\"\n",
      "    },\n",
      "    {\n",
      "      \"affiliation\": \"Mountain Village\",\n",
      "      \"name\": \"Greta\",\n",
      "      \"role\": \"Village Leader\",\n",
      "      \"background\": \"Greta is the respected elder and leader of Kai's mountain village. Initially skeptical of the boy's claims of magic, she comes to recognize his immense powers and the grave threat posed by the alien invasion. Though slow to trust, Greta ultimately becomes a fierce ally and advocate for Kai as the Sorcerer Supreme.\",\n",
      "      \"description\": \"Greta is a no-nonsense, pragmatic woman who values hard work and tradition. While initially dismissive of Kai's pursuit of magic, she cannot deny the evidence before her eyes. As the alien threat grows, Greta's protective instincts for her people emerge, and she fully backs Kai's mission to defend their world.\",\n",
      "      \"figure\": \"a woman\",\n",
      "      \"appearance\": \"Greta is a stern-faced woman in her 50s with graying hair tied back in a braid. She typically wears rugged, functional clothing suited for mountain life, like a thick wool tunic and sturdy boots.\"\n",
      "    },\n",
      "    {\n",
      "      \"affiliation\": \"Alien Invasion Force\",\n",
      "      \"name\": \"Zelara\",\n",
      "      \"role\": \"Antagonist\",\n",
      "      \"background\": \"Zelara is the cunning and merciless commander of the alien invasion force targeting Earth. Hailing from a powerful, technologically advanced alien civilization, she views humans as weak, primitive beings unworthy of Earth's precious resources. Zelara aims to subjugate the planet through overwhelming force, seeing Kai's mastery of magic as a mere nuisance to be eliminated.\",\n",
      "      \"description\": \"Zelara is a cold, calculating strategist who shows no mercy to her adversaries. Though her alien physiology appears slender and delicate, she possesses incredible strength and fighting prowess. Zelara is arrogant and dismissive of human capabilities, but she may come to respect Kai's formidable powers as the ultimate battle draws near.\",\n",
      "      \"figure\": \"a woman\",\n",
      "      \"appearance\": \"Zelara has a lithe, almost ethereal form with pale blue skin and glowing violet eyes. She wears sleek, form-fitting armor that seems to be crafted from an unknown alien alloy. Her movements are graceful yet lethal, and she wields advanced alien weaponry.\"\n",
      "    }\n",
      "  ]\n",
      "}\n",
      "</answer>\n"
     ]
    }
   ],
   "source": [
    "request = HumanMessage(content=f\"Here is the outline:{outline.json()}\")\n",
    "characters = gen_characters_chain.invoke({\"messages\": [request],\"schema\":Character.schema_json()})"
   ]
  },
  {
   "cell_type": "code",
   "execution_count": 44,
   "id": "e4d2bfc8-1eee-433a-876c-0e2910755156",
   "metadata": {},
   "outputs": [
    {
     "name": "stdout",
     "output_type": "stream",
     "text": [
      "Name: Ezra\n",
      "Role: Mentor\n",
      "Affiliation: Mountain Village\n",
      "Background: Ezra is an ancient and wise sorcerer who has lived in seclusion deep in the mountains for centuries, guarding the magic book. When Kai finds the book, Ezra senses his potential and emerges from hiding to guide and mentor the young prodigy in the ways of magic.\n",
      "Description: Ezra is a stoic and enigmatic figure, his face lined with the wisdom of ages. Though he speaks infrequently, his words carry great weight and insight. Despite his immense power, Ezra believes in allowing Kai to discover his own path, offering gentle guidance and lessons when needed.\n",
      "Figure:an old man\n",
      "Appearance: Ezra is an elderly man with a long, unkempt silver beard and piercing blue eyes. He wears tattered robes and a weathered cloak, carrying a gnarled wooden staff etched with arcane symbols.\n",
      "\n",
      "Name: Greta\n",
      "Role: Village Leader\n",
      "Affiliation: Mountain Village\n",
      "Background: Greta is the respected elder and leader of Kai's mountain village. Initially skeptical of the boy's claims of magic, she comes to recognize his immense powers and the grave threat posed by the alien invasion. Though slow to trust, Greta ultimately becomes a fierce ally and advocate for Kai as the Sorcerer Supreme.\n",
      "Description: Greta is a no-nonsense, pragmatic woman who values hard work and tradition. While initially dismissive of Kai's pursuit of magic, she cannot deny the evidence before her eyes. As the alien threat grows, Greta's protective instincts for her people emerge, and she fully backs Kai's mission to defend their world.\n",
      "Figure:a woman\n",
      "Appearance: Greta is a stern-faced woman in her 50s with graying hair tied back in a braid. She typically wears rugged, functional clothing suited for mountain life, like a thick wool tunic and sturdy boots.\n",
      "\n",
      "Name: Zelara\n",
      "Role: Antagonist\n",
      "Affiliation: Alien Invasion Force\n",
      "Background: Zelara is the cunning and merciless commander of the alien invasion force targeting Earth. Hailing from a powerful, technologically advanced alien civilization, she views humans as weak, primitive beings unworthy of Earth's precious resources. Zelara aims to subjugate the planet through overwhelming force, seeing Kai's mastery of magic as a mere nuisance to be eliminated.\n",
      "Description: Zelara is a cold, calculating strategist who shows no mercy to her adversaries. Though her alien physiology appears slender and delicate, she possesses incredible strength and fighting prowess. Zelara is arrogant and dismissive of human capabilities, but she may come to respect Kai's formidable powers as the ultimate battle draws near.\n",
      "Figure:a woman\n",
      "Appearance: Zelara has a lithe, almost ethereal form with pale blue skin and glowing violet eyes. She wears sleek, form-fitting armor that seems to be crafted from an unknown alien alloy. Her movements are graceful yet lethal, and she wields advanced alien weaponry.\n",
      "\n",
      "Name: Kai\n",
      "Role: Protagonist\n",
      "Affiliation: Mountain Village\n",
      "Background: Kai is a young boy living a simple life in a remote mountain village, until he discovers an ancient book of magic while exploring the wilderness. Alone, he studies and practices the magic from the book, mastering powerful spells through relentless training. When strange alien ships appear, threatening an extraterrestrial invasion, Kai becomes the world's only hope as he is declared the Sorcerer Supreme to lead the defense against the alien threat.\n",
      "Description: Kai is a curious, determined, and courageous young boy. Despite his humble beginnings, he possesses a sharp intellect and an unwavering spirit. Once he discovers the magic book, he becomes utterly devoted to mastering its secrets, spending countless hours studying and honing his skills. As he grows into a powerful sorcerer, Kai remains humble and compassionate, driven by a desire to protect his world.\n",
      "Figure:a boy\n",
      "Appearance: Kai is a young boy with messy brown hair and bright, inquisitive eyes. He typically wears simple village clothes like a tunic and trousers, but as the Sorcerer Supreme, he dons a long, flowing robe adorned with mystical symbols.\n",
      "\n"
     ]
    }
   ],
   "source": [
    "print(characters.as_str)"
   ]
  },
  {
   "cell_type": "markdown",
   "id": "2f97e399-321d-4638-b314-de3b9913c4ea",
   "metadata": {},
   "source": [
    "### 4.4 Add charaters to refine outline"
   ]
  },
  {
   "cell_type": "markdown",
   "id": "cc517115-1011-4111-bfe7-14495f9dc391",
   "metadata": {},
   "source": [
    "- test for refine generation"
   ]
  },
  {
   "cell_type": "code",
   "execution_count": 46,
   "id": "299c8a62-6647-4abe-bdb6-07438501effc",
   "metadata": {},
   "outputs": [
    {
     "name": "stdout",
     "output_type": "stream",
     "text": [
      "<thinking>\n",
      "Based on the provided character descriptions, I will update the outline draft to incorporate the key characters and their roles in the story:\n",
      "\n",
      "- Kai will be the main protagonist, a young boy from a mountain village who discovers the magic book and becomes a powerful sorcerer to defend against the alien invasion.\n",
      "- Ezra will be introduced as Kai's mentor, an ancient sorcerer who guides Kai in learning magic from the book.\n",
      "- Greta will be the village leader who is initially skeptical of Kai's magic but comes to support him as the Sorcerer Supreme against the alien threat.\n",
      "- Zelara will be the main antagonist, the commander of the alien invasion force seeking to conquer Earth and subjugate humanity.\n",
      "\n",
      "I will expand the chapter descriptions to weave in these characters and their roles, while maintaining the overall story arc of Kai's journey from a village boy to the world's greatest sorcerer defending against the alien invasion.\n",
      "</thinking>\n",
      "\n",
      "<answer>\n",
      "{\n",
      "  \"page_title\": \"The Magic Book and the Alien Invasion\",\n",
      "  \"chapters\": [\n",
      "    {\n",
      "      \"chapter_title\": \"The Mountain Village Boy\",\n",
      "      \"description\": \"Introduce Kai, a young boy living a simple life in a remote mountain village under the leadership of Greta, the respected village elder.\"\n",
      "    },\n",
      "    {\n",
      "      \"chapter_title\": \"The Ancient Sorcerer's Tome\",\n",
      "      \"description\": \"While exploring the wilderness, Kai stumbles upon an ancient book of magic, guarded by the reclusive sorcerer Ezra for centuries.\"\n",
      "    },\n",
      "    {\n",
      "      \"chapter_title\": \"Ezra's Apprentice\",\n",
      "      \"description\": \"Sensing Kai's potential, Ezra emerges from hiding to mentor the boy in the ways of magic, guiding his studies of the ancient tome.\"\n",
      "    },\n",
      "    {\n",
      "      \"chapter_title\": \"The Prodigious Prodigy\",\n",
      "      \"description\": \"Through relentless training under Ezra's tutelage, Kai masters powerful spells and becomes a prodigiously skilled young magician, much to Greta's initial skepticism.\"\n",
      "    },\n",
      "    {\n",
      "      \"chapter_title\": \"The Alien Invasion Begins\",\n",
      "      \"description\": \"Strange alien ships commanded by the merciless Zelara appear in the skies, harbingers of an imminent extraterrestrial invasion to subjugate Earth.\"\n",
      "    },\n",
      "    {\n",
      "      \"chapter_title\": \"The Sorcerer Supreme\",\n",
      "      \"description\": \"As the alien threat grows, Greta recognizes Kai as the world's only hope and rallies support for him to be declared the Sorcerer Supreme to lead the defense.\"\n",
      "    },\n",
      "    {\n",
      "      \"chapter_title\": \"The Battle for Earth\",\n",
      "      \"description\": \"Kai, now the Sorcerer Supreme, faces Zelara and her technologically advanced alien forces in a series of epic magical confrontations across the globe.\"\n",
      "    },\n",
      "    {\n",
      "      \"chapter_title\": \"The Final Cosmic Clash\",\n",
      "      \"description\": \"In a climactic showdown, Kai unleashes the full extent of his sorcery against Zelara's alien armada in a battle to decide the fate of Earth and humanity.\"\n",
      "    }\n",
      "  ]\n",
      "}\n",
      "</answer><thinking>\n",
      "Based on the provided character descriptions, I will update the outline draft to incorporate the key characters and their roles in the story:\n",
      "\n",
      "- Kai will be the main protagonist, a young boy from a mountain village who discovers the magic book and becomes a powerful sorcerer to defend against the alien invasion.\n",
      "- Ezra will be introduced as Kai's mentor, an ancient sorcerer who guides Kai in learning magic from the book.\n",
      "- Greta will be the village leader who is initially skeptical of Kai's magic but comes to support him as the Sorcerer Supreme against the alien threat.\n",
      "- Zelara will be the main antagonist, the commander of the alien invasion force seeking to conquer Earth and subjugate humanity.\n",
      "\n",
      "I will expand the chapter descriptions to weave in these characters and their roles, while maintaining the overall story arc of Kai's journey from a village boy to the world's greatest sorcerer defending against the alien invasion.\n",
      "</thinking>\n",
      "\n",
      "<answer>\n",
      "{\n",
      "  \"page_title\": \"The Magic Book and the Alien Invasion\",\n",
      "  \"chapters\": [\n",
      "    {\n",
      "      \"chapter_title\": \"The Mountain Village Boy\",\n",
      "      \"description\": \"Introduce Kai, a young boy living a simple life in a remote mountain village under the leadership of Greta, the respected village elder.\"\n",
      "    },\n",
      "    {\n",
      "      \"chapter_title\": \"The Ancient Sorcerer's Tome\",\n",
      "      \"description\": \"While exploring the wilderness, Kai stumbles upon an ancient book of magic, guarded by the reclusive sorcerer Ezra for centuries.\"\n",
      "    },\n",
      "    {\n",
      "      \"chapter_title\": \"Ezra's Apprentice\",\n",
      "      \"description\": \"Sensing Kai's potential, Ezra emerges from hiding to mentor the boy in the ways of magic, guiding his studies of the ancient tome.\"\n",
      "    },\n",
      "    {\n",
      "      \"chapter_title\": \"The Prodigious Prodigy\",\n",
      "      \"description\": \"Through relentless training under Ezra's tutelage, Kai masters powerful spells and becomes a prodigiously skilled young magician, much to Greta's initial skepticism.\"\n",
      "    },\n",
      "    {\n",
      "      \"chapter_title\": \"The Alien Invasion Begins\",\n",
      "      \"description\": \"Strange alien ships commanded by the merciless Zelara appear in the skies, harbingers of an imminent extraterrestrial invasion to subjugate Earth.\"\n",
      "    },\n",
      "    {\n",
      "      \"chapter_title\": \"The Sorcerer Supreme\",\n",
      "      \"description\": \"As the alien threat grows, Greta recognizes Kai as the world's only hope and rallies support for him to be declared the Sorcerer Supreme to lead the defense.\"\n",
      "    },\n",
      "    {\n",
      "      \"chapter_title\": \"The Battle for Earth\",\n",
      "      \"description\": \"Kai, now the Sorcerer Supreme, faces Zelara and her technologically advanced alien forces in a series of epic magical confrontations across the globe.\"\n",
      "    },\n",
      "    {\n",
      "      \"chapter_title\": \"The Final Cosmic Clash\",\n",
      "      \"description\": \"In a climactic showdown, Kai unleashes the full extent of his sorcery against Zelara's alien armada in a battle to decide the fate of Earth and humanity.\"\n",
      "    }\n",
      "  ]\n",
      "}\n",
      "</answer>\n"
     ]
    }
   ],
   "source": [
    "outline = generate_outline_direct.invoke({\"messages\": [HumanMessage(content=f\"Here is the topic:{topic}\"),\n",
    "                                                               AIMessage(content=f\"Here is the outline draft:{outline.json()}, \"),\n",
    "                                                               HumanMessage(content=f\"Here is the characters description:{characters.json()}.\\n Your task is to rewrite the outline draft for a comics book based on the outline draft. Please incorporate all the characters in the story, and keep the outline Be comprehensive and specific \")],\n",
    "                                          \"schema\":Outline.schema_json() })"
   ]
  },
  {
   "cell_type": "code",
   "execution_count": 47,
   "id": "74b4abd6-d4ec-4678-9100-a5cbcc49b6ce",
   "metadata": {},
   "outputs": [
    {
     "name": "stdout",
     "output_type": "stream",
     "text": [
      "# The Magic Book and the Alien Invasion\n",
      "\n",
      "## The Mountain Village Boy\n",
      "\n",
      "Introduce Kai, a young boy living a simple life in a remote mountain village under the leadership of Greta, the respected village elder.\n",
      "\n",
      "## The Ancient Sorcerer's Tome\n",
      "\n",
      "While exploring the wilderness, Kai stumbles upon an ancient book of magic, guarded by the reclusive sorcerer Ezra for centuries.\n",
      "\n",
      "## Ezra's Apprentice\n",
      "\n",
      "Sensing Kai's potential, Ezra emerges from hiding to mentor the boy in the ways of magic, guiding his studies of the ancient tome.\n",
      "\n",
      "## The Prodigious Prodigy\n",
      "\n",
      "Through relentless training under Ezra's tutelage, Kai masters powerful spells and becomes a prodigiously skilled young magician, much to Greta's initial skepticism.\n",
      "\n",
      "## The Alien Invasion Begins\n",
      "\n",
      "Strange alien ships commanded by the merciless Zelara appear in the skies, harbingers of an imminent extraterrestrial invasion to subjugate Earth.\n",
      "\n",
      "## The Sorcerer Supreme\n",
      "\n",
      "As the alien threat grows, Greta recognizes Kai as the world's only hope and rallies support for him to be declared the Sorcerer Supreme to lead the defense.\n",
      "\n",
      "## The Battle for Earth\n",
      "\n",
      "Kai, now the Sorcerer Supreme, faces Zelara and her technologically advanced alien forces in a series of epic magical confrontations across the globe.\n",
      "\n",
      "## The Final Cosmic Clash\n",
      "\n",
      "In a climactic showdown, Kai unleashes the full extent of his sorcery against Zelara's alien armada in a battle to decide the fate of Earth and humanity.\n"
     ]
    }
   ],
   "source": [
    "print(outline.as_str)"
   ]
  },
  {
   "cell_type": "markdown",
   "id": "9436fccc-119a-409b-8e9f-2231af459c88",
   "metadata": {},
   "source": [
    "## 5 build outline workflow graph"
   ]
  },
  {
   "cell_type": "markdown",
   "id": "b5e4b8a9-48d9-4480-86b4-a2b6ca0ccc4c",
   "metadata": {},
   "source": [
    "#### Create LangGraph state"
   ]
  },
  {
   "cell_type": "code",
   "execution_count": 48,
   "id": "cb807663-5028-4e06-8bfe-45934e84d87d",
   "metadata": {},
   "outputs": [],
   "source": [
    "from langgraph.graph import StateGraph, END\n",
    "import operator\n",
    "from typing import Annotated, Sequence,Dict,Optional,Any,TypedDict\n",
    "\n",
    "class AgentState(TypedDict):\n",
    "    messages: Annotated[Sequence[BaseMessage], operator.add]\n",
    "    env_var: Optional[Annotated[Dict[str, Any], operator.ior]]"
   ]
  },
  {
   "cell_type": "markdown",
   "id": "a4c597ab-313b-42a7-a382-aac004a07dbd",
   "metadata": {},
   "source": [
    "#### Create claude message format function"
   ]
  },
  {
   "cell_type": "code",
   "execution_count": 95,
   "id": "c3a68166-e719-4002-b29f-2e3d6c8b6cce",
   "metadata": {},
   "outputs": [],
   "source": [
    "def convert_message_name(message:BaseMessage):\n",
    "    if isinstance(message, AIMessage) and message.name:\n",
    "        return AIMessage(content=f\"{message.name} : {message.content}\")\n",
    "    elif isinstance(message, HumanMessage) and message.name:\n",
    "        return HumanMessage(content=f\"{message.name} : {message.content}\")\n",
    "    else:\n",
    "        return message\n",
    "\n",
    "##merge the continouse roles, and change sequences \n",
    "def reconstruct_to_claude_messages(messages):\n",
    "    rec_messages = []\n",
    "    for message in messages:\n",
    "        message = convert_message_name(message)\n",
    "        if rec_messages:\n",
    "            if isinstance(rec_messages[0], AIMessage):\n",
    "                rec_messages[0] = HumanMessage(content=rec_messages[0].content)\n",
    "            last_msg = rec_messages[-1]\n",
    "            last_role = 'assistant' if isinstance(last_msg,AIMessage) else 'user'\n",
    "            current_role = 'assistant' if isinstance(message,AIMessage) else 'user'\n",
    "            if last_role == current_role:\n",
    "                last_msg_content = last_msg.content[-1]['text'] if isinstance(last_msg.content,list) else last_msg.content\n",
    "                current_msg_content = message.content[-1]['text'] if isinstance(message.content, list) else message.content\n",
    "                new_content = last_msg_content +\"\\n\\n\" + current_msg_content\n",
    "                rec_messages[-1] = HumanMessage(content=new_content) if last_role == 'user' else AIMessage(content=new_content)\n",
    "            else:\n",
    "                rec_messages.append(message)\n",
    "        else:\n",
    "            rec_messages.append(message)\n",
    "    return rec_messages\n",
    "\n",
    "def swap_roles(messages, name: str):\n",
    "    converted = []\n",
    "    for message in messages:\n",
    "        if isinstance(message, AIMessage) and message.name != name:\n",
    "            message = HumanMessage(**message.dict(exclude={\"type\"}))\n",
    "        converted.append(message)\n",
    "    return  converted"
   ]
  },
  {
   "cell_type": "markdown",
   "id": "ae0dd9d0-0081-4d17-ad8f-1d1ba8a38537",
   "metadata": {},
   "source": [
    "#### Retry mechanism to ensure the success rate of final json output "
   ]
  },
  {
   "cell_type": "code",
   "execution_count": 124,
   "id": "9db47fde-7750-4970-8d17-cb490f6999fe",
   "metadata": {},
   "outputs": [],
   "source": [
    "from langchain_core.pydantic_v1 import ValidationError\n",
    "\n",
    "async def retry_call(chain,args: Dict[str,Any],times:int=5):\n",
    "    try:\n",
    "        content = await chain.ainvoke(args)\n",
    "        return content\n",
    "    except JSONDecodeError as e:\n",
    "        if times:\n",
    "            print(f'JSONDecodeError, retry again [{times}]')\n",
    "            return await retry_call(chain,args,times=times-1)\n",
    "        else:\n",
    "            raise(JSONDecodeError(e))\n",
    "    except ValidationError as e:\n",
    "        print(e)\n",
    "        if times:\n",
    "            print(f'ValidationError, retry again [{times}]')\n",
    "            return await retry_call(chain,args,times=times-1)\n",
    "        else:\n",
    "            raise(ValidationError(e))"
   ]
  },
  {
   "cell_type": "markdown",
   "id": "5e64b882-e541-46d8-98b4-f3dab035a4c2",
   "metadata": {},
   "source": [
    "#### Define node"
   ]
  },
  {
   "cell_type": "code",
   "execution_count": 126,
   "id": "e625193a-7be5-47b6-a1fd-c81f4969f00c",
   "metadata": {},
   "outputs": [],
   "source": [
    "async def generate_outline(state:AgentState):\n",
    "    \"\"\"\n",
    "    Generate outline\n",
    "\n",
    "    Args:\n",
    "        state (AgentState): The current state\n",
    "\n",
    "    Returns:\n",
    "         dict: The updated state\n",
    "    \"\"\"\n",
    "    print(\"---generate_outline---\")\n",
    "    env_var =  state.get(\"env_var\")\n",
    "    assert not env_var is None\n",
    "    \n",
    "    generate_outline_chain = direct_gen_outline_prompt | llm_haiku | CustJsonOuputParser(verbose=False) | RunnableLambda(dict_to_obj).bind(target=Outline)\n",
    "    name = \"cartoonist\"\n",
    "    messages = swap_roles(state['messages'],name)\n",
    "    messages = reconstruct_to_claude_messages(messages)\n",
    "    outline = await retry_call(generate_outline_chain,{\"messages\": messages,\"schema\":Outline.schema_json() })\n",
    "    response = AIMessage(content=f\"Here is the outline: \\n{outline.json()}\",name=name)\n",
    "    return {\"messages\":[response],\"env_var\":{**env_var,\"outline\":outline}}\n",
    "\n",
    "async def generate_characters(state:AgentState):\n",
    "    \"\"\"\n",
    "    Generate characters\n",
    "\n",
    "    Args:\n",
    "        state (AgentState): The current state\n",
    "\n",
    "    Returns:\n",
    "         dict: The updated state\n",
    "    \"\"\"\n",
    "    print(\"---generate_characters---\")\n",
    "    env_var =  state.get(\"env_var\")\n",
    "    assert not env_var is None\n",
    "    \n",
    "    name = 'screenwriter'\n",
    "    messages = swap_roles(state['messages'],name)\n",
    "    messages = reconstruct_to_claude_messages(state['messages'])\n",
    "    gen_characters_chain = gen_character_prompt | llm_sonnet | CustJsonOuputParser(verbose=False) |RunnableLambda(dict_to_obj).bind(target=Character)\n",
    "    characters = await retry_call(gen_characters_chain,{\"messages\": messages,\"schema\":Character.schema_json() })\n",
    "    print(\"characters\",characters)\n",
    "    response = AIMessage(content=f\"Here is the characters description:\\n{characters.json()}.\\n Your task is to rewrite the outline draft for a story based on the outline draft. Please incorporate all the characters in the story, and keep the outline be comprehensive and specific \",name=name)\n",
    "\n",
    "    return {\"messages\":[response],\"env_var\":{**env_var,\"characters\":characters}}"
   ]
  },
  {
   "cell_type": "markdown",
   "id": "0cb5a857-c980-4faa-b2e8-dab168682d57",
   "metadata": {},
   "source": [
    "#### add conditional edge"
   ]
  },
  {
   "cell_type": "code",
   "execution_count": 127,
   "id": "0bff1258-eae6-49d4-87e6-da5c26737bb9",
   "metadata": {},
   "outputs": [],
   "source": [
    "MAX_TURNS = 3\n",
    "def should_repeat_outline(state: AgentState):\n",
    "    messages = state['messages']\n",
    "    # print(messages)\n",
    "    num_responses = len(\n",
    "        [m for m in messages if isinstance(m, AIMessage)]\n",
    "    )\n",
    "    print('messages:',num_responses)\n",
    "    if num_responses > MAX_TURNS:\n",
    "        return 'end'\n",
    "    else:\n",
    "        return 'generate_characters'"
   ]
  },
  {
   "cell_type": "markdown",
   "id": "e5a4a262-2b70-405c-a2b3-83ab900190b7",
   "metadata": {},
   "source": [
    "#### build workflow"
   ]
  },
  {
   "cell_type": "code",
   "execution_count": 128,
   "id": "e372b3be-68f7-419a-91d0-89a7650a5e68",
   "metadata": {},
   "outputs": [],
   "source": [
    "outline_graph = StateGraph(AgentState)\n",
    "outline_graph.add_node(\"generate_outline\",generate_outline)\n",
    "outline_graph.add_node(\"generate_characters\",generate_characters)\n",
    "outline_graph.set_entry_point(\"generate_outline\")\n",
    "outline_graph.add_edge(\"generate_characters\", \"generate_outline\")\n",
    "outline_graph.add_conditional_edges(\"generate_outline\",\n",
    "                                   should_repeat_outline,\n",
    "                                   {\n",
    "                                       'end':END,\n",
    "                                       'generate_characters':'generate_characters'\n",
    "                                   }\n",
    "                                   )\n",
    "outline_workflow = outline_graph.compile()"
   ]
  },
  {
   "cell_type": "markdown",
   "id": "2291f09e-7924-4b2a-ad05-b65cee752f03",
   "metadata": {},
   "source": [
    "#### print out the graph"
   ]
  },
  {
   "cell_type": "code",
   "execution_count": 129,
   "id": "25e05ced-ad1b-4e15-8fd0-d527c14e26df",
   "metadata": {},
   "outputs": [
    {
     "data": {
      "image/png": "[encoded data removed]",
      "text/plain": [
       "<IPython.core.display.Image object>"
      ]
     },
     "execution_count": 129,
     "metadata": {},
     "output_type": "execute_result"
    }
   ],
   "source": [
    "from IPython.display import Image\n",
    "\n",
    "Image(outline_workflow.get_graph().draw_png())"
   ]
  },
  {
   "cell_type": "markdown",
   "id": "4a217203-1fc0-496c-970c-6d6245f59de0",
   "metadata": {},
   "source": [
    "- test generation"
   ]
  },
  {
   "cell_type": "code",
   "execution_count": 130,
   "id": "d8941978-ae49-4676-842b-9829da9417ec",
   "metadata": {
    "scrolled": true
   },
   "outputs": [
    {
     "name": "stdout",
     "output_type": "stream",
     "text": [
      "---generate_outline---\n",
      "messages: 1\n",
      "Output from node 'generate_outline':\n",
      "---\n",
      "{'messages': [AIMessage(content='Here is the outline: \\n{\"page_title\": \"The Magician\\'s Apprentice\", \"chapters\": [{\"chapter_title\": \"The Mountain Village\", \"description\": \"Introduces the young protagonist, a curious and imaginative boy living in a remote mountain village. He spends his days exploring the nearby forests and daydreaming about magic and adventure.\"}, {\"chapter_title\": \"The Discovery of the Magic Book\", \"description\": \"While wandering in the woods, the boy stumbles upon an ancient, weathered book hidden in the hollow of a tree. He takes it back to his home, and upon opening it, discovers that it contains powerful spells and incantations.\"}, {\"chapter_title\": \"The Self-Taught Magician\", \"description\": \"Fascinated by the book\\'s contents, the boy begins to study and practice the magic rituals, teaching himself the arcane arts. As he masters the spells, he realizes the true extent of the book\\'s power and his own potential.\"}, {\"chapter_title\": \"The Call to Adventure\", \"description\": \"News of the boy\\'s magical abilities begins to spread, and he is soon sought out by the elders of the village, who ask him to use his powers to help their community. The boy reluctantly agrees, realizing that his destiny lies beyond the confines of the mountain.\"}, {\"chapter_title\": \"The Journey to the City\", \"description\": \"The boy embarks on a perilous journey, leaving his village behind and traveling to the nearest city, where he hopes to hone his skills and learn more about the extent of his powers.\"}, {\"chapter_title\": \"Mastering the Arcane Arts\", \"description\": \"In the city, the boy meets a wise and experienced magician who takes him under his wing. Together, they delve deeper into the mysteries of the magic book, unlocking its most powerful spells and teaching the boy to harness his abilities.\"}, {\"chapter_title\": \"The Alien Invasion\", \"description\": \"Suddenly, the world is threatened by a powerful alien force, intent on conquering and enslaving humanity. The boy, now a skilled and confident magician, steps up to defend his home and the people he loves.\"}, {\"chapter_title\": \"The Final Battle\", \"description\": \"In an epic showdown, the boy-turned-magician uses his mastery of the arcane arts to battle the alien invaders, drawing on the full power of the magic book to protect the world and emerge victorious. The story ends with the boy realizing the true extent of his power and his responsibility to use it for the greater good.\"}]}', name='cartoonist')], 'env_var': {'topic': 'A little boy who lived in a mountain village obtained a magic book in the wild. He became self-taught and became the most powerful magician in the world, helping the world resist alien invasions. ', 'outline': Outline(page_title=\"The Magician's Apprentice\", chapters=[Chapter(chapter_title='The Mountain Village', description='Introduces the young protagonist, a curious and imaginative boy living in a remote mountain village. He spends his days exploring the nearby forests and daydreaming about magic and adventure.'), Chapter(chapter_title='The Discovery of the Magic Book', description='While wandering in the woods, the boy stumbles upon an ancient, weathered book hidden in the hollow of a tree. He takes it back to his home, and upon opening it, discovers that it contains powerful spells and incantations.'), Chapter(chapter_title='The Self-Taught Magician', description=\"Fascinated by the book's contents, the boy begins to study and practice the magic rituals, teaching himself the arcane arts. As he masters the spells, he realizes the true extent of the book's power and his own potential.\"), Chapter(chapter_title='The Call to Adventure', description=\"News of the boy's magical abilities begins to spread, and he is soon sought out by the elders of the village, who ask him to use his powers to help their community. The boy reluctantly agrees, realizing that his destiny lies beyond the confines of the mountain.\"), Chapter(chapter_title='The Journey to the City', description='The boy embarks on a perilous journey, leaving his village behind and traveling to the nearest city, where he hopes to hone his skills and learn more about the extent of his powers.'), Chapter(chapter_title='Mastering the Arcane Arts', description='In the city, the boy meets a wise and experienced magician who takes him under his wing. Together, they delve deeper into the mysteries of the magic book, unlocking its most powerful spells and teaching the boy to harness his abilities.'), Chapter(chapter_title='The Alien Invasion', description='Suddenly, the world is threatened by a powerful alien force, intent on conquering and enslaving humanity. The boy, now a skilled and confident magician, steps up to defend his home and the people he loves.'), Chapter(chapter_title='The Final Battle', description='In an epic showdown, the boy-turned-magician uses his mastery of the arcane arts to battle the alien invaders, drawing on the full power of the magic book to protect the world and emerge victorious. The story ends with the boy realizing the true extent of his power and his responsibility to use it for the greater good.')])}}\n",
      "\n",
      "---\n",
      "\n",
      "---generate_characters---\n",
      "characters main_character=Persona(affiliation='Mountain Village', name='Ari', role='Protagonist', background='A curious and imaginative young boy from a remote mountain village, who discovers an ancient magic book and becomes a self-taught, powerful magician.', description='Ari is a wide-eyed, inquisitive boy with a vivid imagination and an insatiable thirst for knowledge. He spends his days exploring the forests around his village, dreaming of adventure and magic. When he discovers the ancient book of spells, his life changes forever, and he embarks on a journey to master the arcane arts and use his newfound powers to protect the world.', figure='a boy', appearance='Ari has tousled brown hair, bright green eyes, and a slim, agile build. He often wears simple clothing suited for outdoor exploration, such as a tunic, trousers, and sturdy boots.') supporting_character=[Persona(affiliation='City of Mages', name='Zarina', role='Mentor', background='A wise and experienced magician from the City of Mages, who takes Ari under her wing and guides his magical training.', description='Zarina is a powerful and enigmatic mage, with a deep understanding of the arcane arts. She is patient and nurturing, yet firm in her teachings, pushing Ari to reach his full potential. Beneath her calm exterior lies a fierce determination to protect the world from the looming alien threat.', figure='an old woman', appearance='Zarina has long, silver hair and piercing blue eyes. She wears flowing robes adorned with intricate magical symbols, and carries a gnarled staff imbued with ancient power.'), Persona(affiliation='Alien Invaders', name='Kravath', role='Antagonist', background='The ruthless leader of the alien invasion force, seeking to conquer and enslave humanity.', description='Kravath is a cold, calculating being with an insatiable hunger for power. He views humans as inferior creatures, ripe for subjugation, and will stop at nothing to achieve his goals. Kravath possesses advanced technology and formidable abilities, making him a formidable foe for Ari and the forces of good.', figure='an alien', appearance='Kravath has a towering, imposing figure with metallic, exoskeleton-like armor covering his body. His face is obscured by a menacing mask, and his eyes glow with a sinister, otherworldly energy.'), Persona(affiliation='Mountain Village', name='Mira', role='Friend/Ally', background=\"Ari's childhood friend from the mountain village, who supports and believes in him throughout his journey.\", description=\"Mira is a kind, loyal, and determined young woman who has been Ari's closest friend since they were children. She encourages his pursuit of magic and stands by his side, even when others doubt him. Mira represents the strength and resilience of the villagers Ari is fighting to protect.\", figure='a young woman', appearance='Mira has long, braided black hair and warm brown eyes. She often wears simple, practical clothing suited for life in the mountain village, such as a tunic, leggings, and a woven shawl.')]\n",
      "Output from node 'generate_characters':\n",
      "---\n",
      "{'messages': [AIMessage(content='Here is the characters description:\\n{\"main_character\": {\"affiliation\": \"Mountain Village\", \"name\": \"Ari\", \"role\": \"Protagonist\", \"background\": \"A curious and imaginative young boy from a remote mountain village, who discovers an ancient magic book and becomes a self-taught, powerful magician.\", \"description\": \"Ari is a wide-eyed, inquisitive boy with a vivid imagination and an insatiable thirst for knowledge. He spends his days exploring the forests around his village, dreaming of adventure and magic. When he discovers the ancient book of spells, his life changes forever, and he embarks on a journey to master the arcane arts and use his newfound powers to protect the world.\", \"figure\": \"a boy\", \"appearance\": \"Ari has tousled brown hair, bright green eyes, and a slim, agile build. He often wears simple clothing suited for outdoor exploration, such as a tunic, trousers, and sturdy boots.\"}, \"supporting_character\": [{\"affiliation\": \"City of Mages\", \"name\": \"Zarina\", \"role\": \"Mentor\", \"background\": \"A wise and experienced magician from the City of Mages, who takes Ari under her wing and guides his magical training.\", \"description\": \"Zarina is a powerful and enigmatic mage, with a deep understanding of the arcane arts. She is patient and nurturing, yet firm in her teachings, pushing Ari to reach his full potential. Beneath her calm exterior lies a fierce determination to protect the world from the looming alien threat.\", \"figure\": \"an old woman\", \"appearance\": \"Zarina has long, silver hair and piercing blue eyes. She wears flowing robes adorned with intricate magical symbols, and carries a gnarled staff imbued with ancient power.\"}, {\"affiliation\": \"Alien Invaders\", \"name\": \"Kravath\", \"role\": \"Antagonist\", \"background\": \"The ruthless leader of the alien invasion force, seeking to conquer and enslave humanity.\", \"description\": \"Kravath is a cold, calculating being with an insatiable hunger for power. He views humans as inferior creatures, ripe for subjugation, and will stop at nothing to achieve his goals. Kravath possesses advanced technology and formidable abilities, making him a formidable foe for Ari and the forces of good.\", \"figure\": \"an alien\", \"appearance\": \"Kravath has a towering, imposing figure with metallic, exoskeleton-like armor covering his body. His face is obscured by a menacing mask, and his eyes glow with a sinister, otherworldly energy.\"}, {\"affiliation\": \"Mountain Village\", \"name\": \"Mira\", \"role\": \"Friend/Ally\", \"background\": \"Ari\\'s childhood friend from the mountain village, who supports and believes in him throughout his journey.\", \"description\": \"Mira is a kind, loyal, and determined young woman who has been Ari\\'s closest friend since they were children. She encourages his pursuit of magic and stands by his side, even when others doubt him. Mira represents the strength and resilience of the villagers Ari is fighting to protect.\", \"figure\": \"a young woman\", \"appearance\": \"Mira has long, braided black hair and warm brown eyes. She often wears simple, practical clothing suited for life in the mountain village, such as a tunic, leggings, and a woven shawl.\"}]}.\\n Your task is to rewrite the outline draft for a story based on the outline draft. Please incorporate all the characters in the story, and keep the outline be comprehensive and specific ', name='screenwriter')], 'env_var': {'topic': 'A little boy who lived in a mountain village obtained a magic book in the wild. He became self-taught and became the most powerful magician in the world, helping the world resist alien invasions. ', 'outline': Outline(page_title=\"The Magician's Apprentice\", chapters=[Chapter(chapter_title='The Mountain Village', description='Introduces the young protagonist, a curious and imaginative boy living in a remote mountain village. He spends his days exploring the nearby forests and daydreaming about magic and adventure.'), Chapter(chapter_title='The Discovery of the Magic Book', description='While wandering in the woods, the boy stumbles upon an ancient, weathered book hidden in the hollow of a tree. He takes it back to his home, and upon opening it, discovers that it contains powerful spells and incantations.'), Chapter(chapter_title='The Self-Taught Magician', description=\"Fascinated by the book's contents, the boy begins to study and practice the magic rituals, teaching himself the arcane arts. As he masters the spells, he realizes the true extent of the book's power and his own potential.\"), Chapter(chapter_title='The Call to Adventure', description=\"News of the boy's magical abilities begins to spread, and he is soon sought out by the elders of the village, who ask him to use his powers to help their community. The boy reluctantly agrees, realizing that his destiny lies beyond the confines of the mountain.\"), Chapter(chapter_title='The Journey to the City', description='The boy embarks on a perilous journey, leaving his village behind and traveling to the nearest city, where he hopes to hone his skills and learn more about the extent of his powers.'), Chapter(chapter_title='Mastering the Arcane Arts', description='In the city, the boy meets a wise and experienced magician who takes him under his wing. Together, they delve deeper into the mysteries of the magic book, unlocking its most powerful spells and teaching the boy to harness his abilities.'), Chapter(chapter_title='The Alien Invasion', description='Suddenly, the world is threatened by a powerful alien force, intent on conquering and enslaving humanity. The boy, now a skilled and confident magician, steps up to defend his home and the people he loves.'), Chapter(chapter_title='The Final Battle', description='In an epic showdown, the boy-turned-magician uses his mastery of the arcane arts to battle the alien invaders, drawing on the full power of the magic book to protect the world and emerge victorious. The story ends with the boy realizing the true extent of his power and his responsibility to use it for the greater good.')]), 'characters': Character(main_character=Persona(affiliation='Mountain Village', name='Ari', role='Protagonist', background='A curious and imaginative young boy from a remote mountain village, who discovers an ancient magic book and becomes a self-taught, powerful magician.', description='Ari is a wide-eyed, inquisitive boy with a vivid imagination and an insatiable thirst for knowledge. He spends his days exploring the forests around his village, dreaming of adventure and magic. When he discovers the ancient book of spells, his life changes forever, and he embarks on a journey to master the arcane arts and use his newfound powers to protect the world.', figure='a boy', appearance='Ari has tousled brown hair, bright green eyes, and a slim, agile build. He often wears simple clothing suited for outdoor exploration, such as a tunic, trousers, and sturdy boots.'), supporting_character=[Persona(affiliation='City of Mages', name='Zarina', role='Mentor', background='A wise and experienced magician from the City of Mages, who takes Ari under her wing and guides his magical training.', description='Zarina is a powerful and enigmatic mage, with a deep understanding of the arcane arts. She is patient and nurturing, yet firm in her teachings, pushing Ari to reach his full potential. Beneath her calm exterior lies a fierce determination to protect the world from the looming alien threat.', figure='an old woman', appearance='Zarina has long, silver hair and piercing blue eyes. She wears flowing robes adorned with intricate magical symbols, and carries a gnarled staff imbued with ancient power.'), Persona(affiliation='Alien Invaders', name='Kravath', role='Antagonist', background='The ruthless leader of the alien invasion force, seeking to conquer and enslave humanity.', description='Kravath is a cold, calculating being with an insatiable hunger for power. He views humans as inferior creatures, ripe for subjugation, and will stop at nothing to achieve his goals. Kravath possesses advanced technology and formidable abilities, making him a formidable foe for Ari and the forces of good.', figure='an alien', appearance='Kravath has a towering, imposing figure with metallic, exoskeleton-like armor covering his body. His face is obscured by a menacing mask, and his eyes glow with a sinister, otherworldly energy.'), Persona(affiliation='Mountain Village', name='Mira', role='Friend/Ally', background=\"Ari's childhood friend from the mountain village, who supports and believes in him throughout his journey.\", description=\"Mira is a kind, loyal, and determined young woman who has been Ari's closest friend since they were children. She encourages his pursuit of magic and stands by his side, even when others doubt him. Mira represents the strength and resilience of the villagers Ari is fighting to protect.\", figure='a young woman', appearance='Mira has long, braided black hair and warm brown eyes. She often wears simple, practical clothing suited for life in the mountain village, such as a tunic, leggings, and a woven shawl.')])}}\n",
      "\n",
      "---\n",
      "\n",
      "---generate_outline---\n",
      "messages: 3\n",
      "Output from node 'generate_outline':\n",
      "---\n",
      "{'messages': [AIMessage(content='Here is the outline: \\n{\"page_title\": \"The Magician\\'s Apprentice\", \"chapters\": [{\"chapter_title\": \"The Mountain Village\", \"description\": \"The story opens in a remote mountain village, where we are introduced to the young protagonist, Ari. Ari is a curious and imaginative boy who spends his days exploring the nearby forests and daydreaming about magic and adventure. He is close friends with Mira, a kind and loyal young woman who supports and believes in him. The villagers lead a simple, peaceful life, unaware of the looming threat on the horizon.\"}, {\"chapter_title\": \"The Discovery of the Magic Book\", \"description\": \"One day, while wandering in the woods, Ari stumbles upon an ancient, weathered book hidden in the hollow of a tree. Intrigued, he takes the book back to his home and begins to study its contents. As he delves into the pages, he discovers that the book contains powerful spells and incantations, unlocking a world of magic that he never knew existed.\"}, {\"chapter_title\": \"The Self-Taught Magician\", \"description\": \"Fascinated by the book\\'s secrets, Ari begins to practice the rituals and spells, teaching himself the arcane arts. He spends countless hours poring over the pages, mastering the magic with a determination and focus that surprises even his closest friends. As Ari\\'s abilities grow, he realizes the true extent of the book\\'s power and his own potential.\"}, {\"chapter_title\": \"The Call to Adventure\", \"description\": \"News of Ari\\'s magical abilities soon spreads, and he is sought out by the elders of the village, who ask him to use his powers to help their community. Ari is initially hesitant, but he ultimately agrees, realizing that his destiny lies beyond the confines of the mountain. With Mira\\'s unwavering support, Ari prepares to embark on a perilous journey, leaving his beloved village behind.\"}, {\"chapter_title\": \"The Journey to the City\", \"description\": \"Ari sets out on a treacherous journey, traveling to the nearest city in search of guidance and further training. Along the way, he faces numerous challenges and obstacles, but his determination and the magic of the ancient book sustain him. Upon reaching the city, Ari is awestruck by the grandeur and complexity of the bustling urban center.\"}, {\"chapter_title\": \"Mastering the Arcane Arts\", \"description\": \"In the city, Ari meets Zarina, a wise and experienced magician who takes him under her wing. Together, they delve deeper into the mysteries of the magic book, unlocking its most powerful spells and teaching Ari to harness his abilities. Under Zarina\\'s tutelage, Ari\\'s skills grow exponentially, and he becomes a formidable practitioner of the arcane arts.\"}, {\"chapter_title\": \"The Alien Invasion\", \"description\": \"Suddenly, the world is threatened by a powerful alien force, led by the ruthless Kravath. This alien invader seeks to conquer and enslave humanity, and his advanced technology and formidable abilities make him a daunting foe. Ari, now a skilled and confident magician, steps up to defend his home and the people he loves, including his childhood friend Mira.\"}, {\"chapter_title\": \"The Final Battle\", \"description\": \"In an epic showdown, Ari, aided by Zarina and the other mages of the city, confronts Kravath and his alien forces. Drawing on the full power of the magic book, Ari unleashes a barrage of spells and incantations, using his mastery of the arcane arts to protect the world from the alien invasion. After a fierce and intense battle, Ari emerges victorious, realizing the true extent of his power and his responsibility to use it for the greater good.\"}]}', name='cartoonist')], 'env_var': {'topic': 'A little boy who lived in a mountain village obtained a magic book in the wild. He became self-taught and became the most powerful magician in the world, helping the world resist alien invasions. ', 'outline': Outline(page_title=\"The Magician's Apprentice\", chapters=[Chapter(chapter_title='The Mountain Village', description='The story opens in a remote mountain village, where we are introduced to the young protagonist, Ari. Ari is a curious and imaginative boy who spends his days exploring the nearby forests and daydreaming about magic and adventure. He is close friends with Mira, a kind and loyal young woman who supports and believes in him. The villagers lead a simple, peaceful life, unaware of the looming threat on the horizon.'), Chapter(chapter_title='The Discovery of the Magic Book', description='One day, while wandering in the woods, Ari stumbles upon an ancient, weathered book hidden in the hollow of a tree. Intrigued, he takes the book back to his home and begins to study its contents. As he delves into the pages, he discovers that the book contains powerful spells and incantations, unlocking a world of magic that he never knew existed.'), Chapter(chapter_title='The Self-Taught Magician', description=\"Fascinated by the book's secrets, Ari begins to practice the rituals and spells, teaching himself the arcane arts. He spends countless hours poring over the pages, mastering the magic with a determination and focus that surprises even his closest friends. As Ari's abilities grow, he realizes the true extent of the book's power and his own potential.\"), Chapter(chapter_title='The Call to Adventure', description=\"News of Ari's magical abilities soon spreads, and he is sought out by the elders of the village, who ask him to use his powers to help their community. Ari is initially hesitant, but he ultimately agrees, realizing that his destiny lies beyond the confines of the mountain. With Mira's unwavering support, Ari prepares to embark on a perilous journey, leaving his beloved village behind.\"), Chapter(chapter_title='The Journey to the City', description='Ari sets out on a treacherous journey, traveling to the nearest city in search of guidance and further training. Along the way, he faces numerous challenges and obstacles, but his determination and the magic of the ancient book sustain him. Upon reaching the city, Ari is awestruck by the grandeur and complexity of the bustling urban center.'), Chapter(chapter_title='Mastering the Arcane Arts', description=\"In the city, Ari meets Zarina, a wise and experienced magician who takes him under her wing. Together, they delve deeper into the mysteries of the magic book, unlocking its most powerful spells and teaching Ari to harness his abilities. Under Zarina's tutelage, Ari's skills grow exponentially, and he becomes a formidable practitioner of the arcane arts.\"), Chapter(chapter_title='The Alien Invasion', description='Suddenly, the world is threatened by a powerful alien force, led by the ruthless Kravath. This alien invader seeks to conquer and enslave humanity, and his advanced technology and formidable abilities make him a daunting foe. Ari, now a skilled and confident magician, steps up to defend his home and the people he loves, including his childhood friend Mira.'), Chapter(chapter_title='The Final Battle', description='In an epic showdown, Ari, aided by Zarina and the other mages of the city, confronts Kravath and his alien forces. Drawing on the full power of the magic book, Ari unleashes a barrage of spells and incantations, using his mastery of the arcane arts to protect the world from the alien invasion. After a fierce and intense battle, Ari emerges victorious, realizing the true extent of his power and his responsibility to use it for the greater good.')]), 'characters': Character(main_character=Persona(affiliation='Mountain Village', name='Ari', role='Protagonist', background='A curious and imaginative young boy from a remote mountain village, who discovers an ancient magic book and becomes a self-taught, powerful magician.', description='Ari is a wide-eyed, inquisitive boy with a vivid imagination and an insatiable thirst for knowledge. He spends his days exploring the forests around his village, dreaming of adventure and magic. When he discovers the ancient book of spells, his life changes forever, and he embarks on a journey to master the arcane arts and use his newfound powers to protect the world.', figure='a boy', appearance='Ari has tousled brown hair, bright green eyes, and a slim, agile build. He often wears simple clothing suited for outdoor exploration, such as a tunic, trousers, and sturdy boots.'), supporting_character=[Persona(affiliation='City of Mages', name='Zarina', role='Mentor', background='A wise and experienced magician from the City of Mages, who takes Ari under her wing and guides his magical training.', description='Zarina is a powerful and enigmatic mage, with a deep understanding of the arcane arts. She is patient and nurturing, yet firm in her teachings, pushing Ari to reach his full potential. Beneath her calm exterior lies a fierce determination to protect the world from the looming alien threat.', figure='an old woman', appearance='Zarina has long, silver hair and piercing blue eyes. She wears flowing robes adorned with intricate magical symbols, and carries a gnarled staff imbued with ancient power.'), Persona(affiliation='Alien Invaders', name='Kravath', role='Antagonist', background='The ruthless leader of the alien invasion force, seeking to conquer and enslave humanity.', description='Kravath is a cold, calculating being with an insatiable hunger for power. He views humans as inferior creatures, ripe for subjugation, and will stop at nothing to achieve his goals. Kravath possesses advanced technology and formidable abilities, making him a formidable foe for Ari and the forces of good.', figure='an alien', appearance='Kravath has a towering, imposing figure with metallic, exoskeleton-like armor covering his body. His face is obscured by a menacing mask, and his eyes glow with a sinister, otherworldly energy.'), Persona(affiliation='Mountain Village', name='Mira', role='Friend/Ally', background=\"Ari's childhood friend from the mountain village, who supports and believes in him throughout his journey.\", description=\"Mira is a kind, loyal, and determined young woman who has been Ari's closest friend since they were children. She encourages his pursuit of magic and stands by his side, even when others doubt him. Mira represents the strength and resilience of the villagers Ari is fighting to protect.\", figure='a young woman', appearance='Mira has long, braided black hair and warm brown eyes. She often wears simple, practical clothing suited for life in the mountain village, such as a tunic, leggings, and a woven shawl.')])}}\n",
      "\n",
      "---\n",
      "\n",
      "---generate_characters---\n",
      "characters main_character=Persona(affiliation='Mountain Village', name='Ari', role='Protagonist', background='A curious and imaginative young boy from a remote mountain village, who discovers an ancient magic book and becomes a self-taught, powerful magician.', description='Ari is a wide-eyed, inquisitive boy with a vivid imagination and an insatiable thirst for knowledge. He spends his days exploring the forests around his village, dreaming of adventure and magic. When he discovers the ancient book of spells, his life changes forever, and he embarks on a journey to master the arcane arts and use his newfound powers to protect the world.', figure='a boy', appearance='Ari has tousled brown hair, bright green eyes, and a slim, agile build. He often wears simple clothing suited for outdoor exploration, such as a tunic, trousers, and sturdy boots.') supporting_character=[Persona(affiliation='City of Mages', name='Zarina', role='Mentor', background='A wise and experienced magician from the City of Mages, who takes Ari under her wing and guides his magical training.', description='Zarina is a powerful and enigmatic mage, with a deep understanding of the arcane arts. She is patient and nurturing, yet firm in her teachings, pushing Ari to reach his full potential. Beneath her calm exterior lies a fierce determination to protect the world from the looming alien threat.', figure='an old woman', appearance='Zarina has long, silver hair and piercing blue eyes. She wears flowing robes adorned with intricate magical symbols, and carries a gnarled staff imbued with ancient power.'), Persona(affiliation='Alien Invaders', name='Kravath', role='Antagonist', background='The ruthless leader of the alien invasion force, seeking to conquer and enslave humanity.', description='Kravath is a cold, calculating being with an insatiable hunger for power. He views humans as inferior creatures, ripe for subjugation, and will stop at nothing to achieve his goals. Kravath possesses advanced technology and formidable abilities, making him a formidable foe for Ari and the forces of good.', figure='an alien', appearance='Kravath has a towering, imposing figure with metallic, exoskeleton-like armor covering his body. His face is obscured by a menacing mask, and his eyes glow with a sinister, otherworldly energy.'), Persona(affiliation='Mountain Village', name='Mira', role='Friend/Ally', background=\"Ari's childhood friend from the mountain village, who supports and believes in him throughout his journey.\", description=\"Mira is a kind, loyal, and determined young woman who has been Ari's closest friend since they were children. She encourages his pursuit of magic and stands by his side, even when others doubt him. Mira represents the strength and resilience of the villagers Ari is fighting to protect.\", figure='a young woman', appearance='Mira has long, braided black hair and warm brown eyes. She often wears simple, practical clothing suited for life in the mountain village, such as a tunic, leggings, and a woven shawl.')]\n",
      "Output from node 'generate_characters':\n",
      "---\n",
      "{'messages': [AIMessage(content='Here is the characters description:\\n{\"main_character\": {\"affiliation\": \"Mountain Village\", \"name\": \"Ari\", \"role\": \"Protagonist\", \"background\": \"A curious and imaginative young boy from a remote mountain village, who discovers an ancient magic book and becomes a self-taught, powerful magician.\", \"description\": \"Ari is a wide-eyed, inquisitive boy with a vivid imagination and an insatiable thirst for knowledge. He spends his days exploring the forests around his village, dreaming of adventure and magic. When he discovers the ancient book of spells, his life changes forever, and he embarks on a journey to master the arcane arts and use his newfound powers to protect the world.\", \"figure\": \"a boy\", \"appearance\": \"Ari has tousled brown hair, bright green eyes, and a slim, agile build. He often wears simple clothing suited for outdoor exploration, such as a tunic, trousers, and sturdy boots.\"}, \"supporting_character\": [{\"affiliation\": \"City of Mages\", \"name\": \"Zarina\", \"role\": \"Mentor\", \"background\": \"A wise and experienced magician from the City of Mages, who takes Ari under her wing and guides his magical training.\", \"description\": \"Zarina is a powerful and enigmatic mage, with a deep understanding of the arcane arts. She is patient and nurturing, yet firm in her teachings, pushing Ari to reach his full potential. Beneath her calm exterior lies a fierce determination to protect the world from the looming alien threat.\", \"figure\": \"an old woman\", \"appearance\": \"Zarina has long, silver hair and piercing blue eyes. She wears flowing robes adorned with intricate magical symbols, and carries a gnarled staff imbued with ancient power.\"}, {\"affiliation\": \"Alien Invaders\", \"name\": \"Kravath\", \"role\": \"Antagonist\", \"background\": \"The ruthless leader of the alien invasion force, seeking to conquer and enslave humanity.\", \"description\": \"Kravath is a cold, calculating being with an insatiable hunger for power. He views humans as inferior creatures, ripe for subjugation, and will stop at nothing to achieve his goals. Kravath possesses advanced technology and formidable abilities, making him a formidable foe for Ari and the forces of good.\", \"figure\": \"an alien\", \"appearance\": \"Kravath has a towering, imposing figure with metallic, exoskeleton-like armor covering his body. His face is obscured by a menacing mask, and his eyes glow with a sinister, otherworldly energy.\"}, {\"affiliation\": \"Mountain Village\", \"name\": \"Mira\", \"role\": \"Friend/Ally\", \"background\": \"Ari\\'s childhood friend from the mountain village, who supports and believes in him throughout his journey.\", \"description\": \"Mira is a kind, loyal, and determined young woman who has been Ari\\'s closest friend since they were children. She encourages his pursuit of magic and stands by his side, even when others doubt him. Mira represents the strength and resilience of the villagers Ari is fighting to protect.\", \"figure\": \"a young woman\", \"appearance\": \"Mira has long, braided black hair and warm brown eyes. She often wears simple, practical clothing suited for life in the mountain village, such as a tunic, leggings, and a woven shawl.\"}]}.\\n Your task is to rewrite the outline draft for a story based on the outline draft. Please incorporate all the characters in the story, and keep the outline be comprehensive and specific ', name='screenwriter')], 'env_var': {'topic': 'A little boy who lived in a mountain village obtained a magic book in the wild. He became self-taught and became the most powerful magician in the world, helping the world resist alien invasions. ', 'outline': Outline(page_title=\"The Magician's Apprentice\", chapters=[Chapter(chapter_title='The Mountain Village', description='The story opens in a remote mountain village, where we are introduced to the young protagonist, Ari. Ari is a curious and imaginative boy who spends his days exploring the nearby forests and daydreaming about magic and adventure. He is close friends with Mira, a kind and loyal young woman who supports and believes in him. The villagers lead a simple, peaceful life, unaware of the looming threat on the horizon.'), Chapter(chapter_title='The Discovery of the Magic Book', description='One day, while wandering in the woods, Ari stumbles upon an ancient, weathered book hidden in the hollow of a tree. Intrigued, he takes the book back to his home and begins to study its contents. As he delves into the pages, he discovers that the book contains powerful spells and incantations, unlocking a world of magic that he never knew existed.'), Chapter(chapter_title='The Self-Taught Magician', description=\"Fascinated by the book's secrets, Ari begins to practice the rituals and spells, teaching himself the arcane arts. He spends countless hours poring over the pages, mastering the magic with a determination and focus that surprises even his closest friends. As Ari's abilities grow, he realizes the true extent of the book's power and his own potential.\"), Chapter(chapter_title='The Call to Adventure', description=\"News of Ari's magical abilities soon spreads, and he is sought out by the elders of the village, who ask him to use his powers to help their community. Ari is initially hesitant, but he ultimately agrees, realizing that his destiny lies beyond the confines of the mountain. With Mira's unwavering support, Ari prepares to embark on a perilous journey, leaving his beloved village behind.\"), Chapter(chapter_title='The Journey to the City', description='Ari sets out on a treacherous journey, traveling to the nearest city in search of guidance and further training. Along the way, he faces numerous challenges and obstacles, but his determination and the magic of the ancient book sustain him. Upon reaching the city, Ari is awestruck by the grandeur and complexity of the bustling urban center.'), Chapter(chapter_title='Mastering the Arcane Arts', description=\"In the city, Ari meets Zarina, a wise and experienced magician who takes him under her wing. Together, they delve deeper into the mysteries of the magic book, unlocking its most powerful spells and teaching Ari to harness his abilities. Under Zarina's tutelage, Ari's skills grow exponentially, and he becomes a formidable practitioner of the arcane arts.\"), Chapter(chapter_title='The Alien Invasion', description='Suddenly, the world is threatened by a powerful alien force, led by the ruthless Kravath. This alien invader seeks to conquer and enslave humanity, and his advanced technology and formidable abilities make him a daunting foe. Ari, now a skilled and confident magician, steps up to defend his home and the people he loves, including his childhood friend Mira.'), Chapter(chapter_title='The Final Battle', description='In an epic showdown, Ari, aided by Zarina and the other mages of the city, confronts Kravath and his alien forces. Drawing on the full power of the magic book, Ari unleashes a barrage of spells and incantations, using his mastery of the arcane arts to protect the world from the alien invasion. After a fierce and intense battle, Ari emerges victorious, realizing the true extent of his power and his responsibility to use it for the greater good.')]), 'characters': Character(main_character=Persona(affiliation='Mountain Village', name='Ari', role='Protagonist', background='A curious and imaginative young boy from a remote mountain village, who discovers an ancient magic book and becomes a self-taught, powerful magician.', description='Ari is a wide-eyed, inquisitive boy with a vivid imagination and an insatiable thirst for knowledge. He spends his days exploring the forests around his village, dreaming of adventure and magic. When he discovers the ancient book of spells, his life changes forever, and he embarks on a journey to master the arcane arts and use his newfound powers to protect the world.', figure='a boy', appearance='Ari has tousled brown hair, bright green eyes, and a slim, agile build. He often wears simple clothing suited for outdoor exploration, such as a tunic, trousers, and sturdy boots.'), supporting_character=[Persona(affiliation='City of Mages', name='Zarina', role='Mentor', background='A wise and experienced magician from the City of Mages, who takes Ari under her wing and guides his magical training.', description='Zarina is a powerful and enigmatic mage, with a deep understanding of the arcane arts. She is patient and nurturing, yet firm in her teachings, pushing Ari to reach his full potential. Beneath her calm exterior lies a fierce determination to protect the world from the looming alien threat.', figure='an old woman', appearance='Zarina has long, silver hair and piercing blue eyes. She wears flowing robes adorned with intricate magical symbols, and carries a gnarled staff imbued with ancient power.'), Persona(affiliation='Alien Invaders', name='Kravath', role='Antagonist', background='The ruthless leader of the alien invasion force, seeking to conquer and enslave humanity.', description='Kravath is a cold, calculating being with an insatiable hunger for power. He views humans as inferior creatures, ripe for subjugation, and will stop at nothing to achieve his goals. Kravath possesses advanced technology and formidable abilities, making him a formidable foe for Ari and the forces of good.', figure='an alien', appearance='Kravath has a towering, imposing figure with metallic, exoskeleton-like armor covering his body. His face is obscured by a menacing mask, and his eyes glow with a sinister, otherworldly energy.'), Persona(affiliation='Mountain Village', name='Mira', role='Friend/Ally', background=\"Ari's childhood friend from the mountain village, who supports and believes in him throughout his journey.\", description=\"Mira is a kind, loyal, and determined young woman who has been Ari's closest friend since they were children. She encourages his pursuit of magic and stands by his side, even when others doubt him. Mira represents the strength and resilience of the villagers Ari is fighting to protect.\", figure='a young woman', appearance='Mira has long, braided black hair and warm brown eyes. She often wears simple, practical clothing suited for life in the mountain village, such as a tunic, leggings, and a woven shawl.')])}}\n",
      "\n",
      "---\n",
      "\n",
      "---generate_outline---\n",
      "messages: 5\n",
      "Output from node 'generate_outline':\n",
      "---\n",
      "{'messages': [AIMessage(content='Here is the outline: \\n{\"page_title\": \"The Magician\\'s Apprentice\", \"chapters\": [{\"chapter_title\": \"The Mountain Village\", \"description\": \"The story opens in the remote mountain village where Ari, a curious and imaginative young boy, lives with his childhood friend Mira. Ari spends his days exploring the nearby forests, dreaming of adventure and magic, while Mira, a kind and loyal young woman, supports and believes in him. The villagers lead a simple, peaceful life, unaware of the looming threat on the horizon. Ari\\'s thirst for knowledge and his fascination with the natural world set him apart from the other villagers, who view his interests as peculiar.\"}, {\"chapter_title\": \"The Discovery of the Magic Book\", \"description\": \"One day, while venturing deeper into the woods, Ari stumbles upon an ancient, weathered book hidden in the hollow of a tree. Intrigued, he takes the book back to his home and begins to study its contents. As he delves into the pages, he discovers that the book contains powerful spells and incantations, unlocking a world of magic that he never knew existed. Mira, curious about Ari\\'s newfound obsession, offers to help him decipher the book\\'s secrets, becoming an invaluable ally in his journey of self-discovery.\"}, {\"chapter_title\": \"The Self-Taught Magician\", \"description\": \"Fascinated by the book\\'s mysteries, Ari spends countless hours poring over the pages, teaching himself the arcane arts with a determination that surprises even Mira. As his abilities grow, Ari realizes the true extent of the book\\'s power and his own potential. Mira, witnessing Ari\\'s transformation, becomes both awed and concerned, aware that his newfound powers may draw unwanted attention to their peaceful village.\"}, {\"chapter_title\": \"The Call to Adventure\", \"description\": \"News of Ari\\'s magical abilities soon spreads, and he is sought out by the elders of the village, who ask him to use his powers to help their community. Ari is initially hesitant, torn between his desire to remain in the safety of his home and his growing sense of responsibility to the world beyond the mountain. Mira, recognizing the importance of Ari\\'s abilities, encourages him to accept the elders\\' request, knowing that his destiny lies in the wider world.\"}, {\"chapter_title\": \"The Journey to the City\", \"description\": \"Ari sets out on a treacherous journey, leaving his beloved village and Mira behind as he travels to the nearest city in search of guidance and further training. Along the way, he faces numerous challenges and obstacles, but his determination and the magic of the ancient book sustain him. Upon reaching the city, Ari is awestruck by the grandeur and complexity of the bustling urban center, feeling both overwhelmed and excited by the prospect of what lies ahead.\"}, {\"chapter_title\": \"Mastering the Arcane Arts\", \"description\": \"In the city, Ari meets Zarina, a wise and experienced magician who takes him under her wing. Together, they delve deeper into the mysteries of the magic book, unlocking its most powerful spells and teaching Ari to harness his abilities. Under Zarina\\'s tutelage, Ari\\'s skills grow exponentially, and he becomes a formidable practitioner of the arcane arts. Zarina, impressed by Ari\\'s raw talent and potential, sees him as a beacon of hope in the face of the looming alien threat.\"}, {\"chapter_title\": \"The Alien Invasion\", \"description\": \"Suddenly, the world is threatened by a powerful alien force, led by the ruthless Kravath. This alien invader seeks to conquer and enslave humanity, and his advanced technology and formidable abilities make him a daunting foe. Ari, now a skilled and confident magician, steps up to defend his home and the people he loves, including his childhood friend Mira, who has traveled to the city to support him. Zarina, recognizing the gravity of the situation, rallies the other mages of the city to join Ari in the impending battle.\"}, {\"chapter_title\": \"The Final Battle\", \"description\": \"In an epic showdown, Ari, aided by Zarina and the other mages of the city, confronts Kravath and his alien forces. Drawing on the full power of the magic book, Ari unleashes a barrage of spells and incantations, using his mastery of the arcane arts to protect the world from the alien invasion. Mira, despite her lack of magical abilities, provides crucial support and encouragement, reminding Ari of the importance of his mission and the people he is fighting to protect. After a fierce and intense battle, Ari emerges victorious, realizing the true extent of his power and his responsibility to use it for the greater good. The story ends with Ari, Mira, and Zarina standing together, united in their determination to safeguard the world from future threats.\"}]}', name='cartoonist')], 'env_var': {'topic': 'A little boy who lived in a mountain village obtained a magic book in the wild. He became self-taught and became the most powerful magician in the world, helping the world resist alien invasions. ', 'outline': Outline(page_title=\"The Magician's Apprentice\", chapters=[Chapter(chapter_title='The Mountain Village', description=\"The story opens in the remote mountain village where Ari, a curious and imaginative young boy, lives with his childhood friend Mira. Ari spends his days exploring the nearby forests, dreaming of adventure and magic, while Mira, a kind and loyal young woman, supports and believes in him. The villagers lead a simple, peaceful life, unaware of the looming threat on the horizon. Ari's thirst for knowledge and his fascination with the natural world set him apart from the other villagers, who view his interests as peculiar.\"), Chapter(chapter_title='The Discovery of the Magic Book', description=\"One day, while venturing deeper into the woods, Ari stumbles upon an ancient, weathered book hidden in the hollow of a tree. Intrigued, he takes the book back to his home and begins to study its contents. As he delves into the pages, he discovers that the book contains powerful spells and incantations, unlocking a world of magic that he never knew existed. Mira, curious about Ari's newfound obsession, offers to help him decipher the book's secrets, becoming an invaluable ally in his journey of self-discovery.\"), Chapter(chapter_title='The Self-Taught Magician', description=\"Fascinated by the book's mysteries, Ari spends countless hours poring over the pages, teaching himself the arcane arts with a determination that surprises even Mira. As his abilities grow, Ari realizes the true extent of the book's power and his own potential. Mira, witnessing Ari's transformation, becomes both awed and concerned, aware that his newfound powers may draw unwanted attention to their peaceful village.\"), Chapter(chapter_title='The Call to Adventure', description=\"News of Ari's magical abilities soon spreads, and he is sought out by the elders of the village, who ask him to use his powers to help their community. Ari is initially hesitant, torn between his desire to remain in the safety of his home and his growing sense of responsibility to the world beyond the mountain. Mira, recognizing the importance of Ari's abilities, encourages him to accept the elders' request, knowing that his destiny lies in the wider world.\"), Chapter(chapter_title='The Journey to the City', description='Ari sets out on a treacherous journey, leaving his beloved village and Mira behind as he travels to the nearest city in search of guidance and further training. Along the way, he faces numerous challenges and obstacles, but his determination and the magic of the ancient book sustain him. Upon reaching the city, Ari is awestruck by the grandeur and complexity of the bustling urban center, feeling both overwhelmed and excited by the prospect of what lies ahead.'), Chapter(chapter_title='Mastering the Arcane Arts', description=\"In the city, Ari meets Zarina, a wise and experienced magician who takes him under her wing. Together, they delve deeper into the mysteries of the magic book, unlocking its most powerful spells and teaching Ari to harness his abilities. Under Zarina's tutelage, Ari's skills grow exponentially, and he becomes a formidable practitioner of the arcane arts. Zarina, impressed by Ari's raw talent and potential, sees him as a beacon of hope in the face of the looming alien threat.\"), Chapter(chapter_title='The Alien Invasion', description='Suddenly, the world is threatened by a powerful alien force, led by the ruthless Kravath. This alien invader seeks to conquer and enslave humanity, and his advanced technology and formidable abilities make him a daunting foe. Ari, now a skilled and confident magician, steps up to defend his home and the people he loves, including his childhood friend Mira, who has traveled to the city to support him. Zarina, recognizing the gravity of the situation, rallies the other mages of the city to join Ari in the impending battle.'), Chapter(chapter_title='The Final Battle', description='In an epic showdown, Ari, aided by Zarina and the other mages of the city, confronts Kravath and his alien forces. Drawing on the full power of the magic book, Ari unleashes a barrage of spells and incantations, using his mastery of the arcane arts to protect the world from the alien invasion. Mira, despite her lack of magical abilities, provides crucial support and encouragement, reminding Ari of the importance of his mission and the people he is fighting to protect. After a fierce and intense battle, Ari emerges victorious, realizing the true extent of his power and his responsibility to use it for the greater good. The story ends with Ari, Mira, and Zarina standing together, united in their determination to safeguard the world from future threats.')]), 'characters': Character(main_character=Persona(affiliation='Mountain Village', name='Ari', role='Protagonist', background='A curious and imaginative young boy from a remote mountain village, who discovers an ancient magic book and becomes a self-taught, powerful magician.', description='Ari is a wide-eyed, inquisitive boy with a vivid imagination and an insatiable thirst for knowledge. He spends his days exploring the forests around his village, dreaming of adventure and magic. When he discovers the ancient book of spells, his life changes forever, and he embarks on a journey to master the arcane arts and use his newfound powers to protect the world.', figure='a boy', appearance='Ari has tousled brown hair, bright green eyes, and a slim, agile build. He often wears simple clothing suited for outdoor exploration, such as a tunic, trousers, and sturdy boots.'), supporting_character=[Persona(affiliation='City of Mages', name='Zarina', role='Mentor', background='A wise and experienced magician from the City of Mages, who takes Ari under her wing and guides his magical training.', description='Zarina is a powerful and enigmatic mage, with a deep understanding of the arcane arts. She is patient and nurturing, yet firm in her teachings, pushing Ari to reach his full potential. Beneath her calm exterior lies a fierce determination to protect the world from the looming alien threat.', figure='an old woman', appearance='Zarina has long, silver hair and piercing blue eyes. She wears flowing robes adorned with intricate magical symbols, and carries a gnarled staff imbued with ancient power.'), Persona(affiliation='Alien Invaders', name='Kravath', role='Antagonist', background='The ruthless leader of the alien invasion force, seeking to conquer and enslave humanity.', description='Kravath is a cold, calculating being with an insatiable hunger for power. He views humans as inferior creatures, ripe for subjugation, and will stop at nothing to achieve his goals. Kravath possesses advanced technology and formidable abilities, making him a formidable foe for Ari and the forces of good.', figure='an alien', appearance='Kravath has a towering, imposing figure with metallic, exoskeleton-like armor covering his body. His face is obscured by a menacing mask, and his eyes glow with a sinister, otherworldly energy.'), Persona(affiliation='Mountain Village', name='Mira', role='Friend/Ally', background=\"Ari's childhood friend from the mountain village, who supports and believes in him throughout his journey.\", description=\"Mira is a kind, loyal, and determined young woman who has been Ari's closest friend since they were children. She encourages his pursuit of magic and stands by his side, even when others doubt him. Mira represents the strength and resilience of the villagers Ari is fighting to protect.\", figure='a young woman', appearance='Mira has long, braided black hair and warm brown eyes. She often wears simple, practical clothing suited for life in the mountain village, such as a tunic, leggings, and a woven shawl.')])}}\n",
      "\n",
      "---\n",
      "\n"
     ]
    }
   ],
   "source": [
    "steps = []\n",
    "init_state = {\n",
    "    \"env_var\":{\"topic\":topic},\n",
    "    \"messages\":[HumanMessage(content=f\"Here is the topic:{topic}\")]\n",
    "}\n",
    "async for event in outline_workflow.astream(init_state):\n",
    "    steps.append(event)\n",
    "    for key, value in event.items():\n",
    "        print(f\"Output from node '{key}':\")\n",
    "        print(\"---\")\n",
    "        print(value)\n",
    "    print(\"\\n---\\n\")"
   ]
  },
  {
   "cell_type": "markdown",
   "id": "9a5b210a-6c8c-4bfe-90c1-7f72d70bf775",
   "metadata": {},
   "source": [
    "#### retrieve outline and characters objects from the final step"
   ]
  },
  {
   "cell_type": "code",
   "execution_count": 136,
   "id": "8b2469e3-5a0e-4610-8c5b-bdd04a2e356c",
   "metadata": {},
   "outputs": [],
   "source": [
    "outline = steps[-1]['generate_outline']['env_var']['outline']"
   ]
  },
  {
   "cell_type": "code",
   "execution_count": 137,
   "id": "0056c616-3f42-44a1-b3fc-ac89bed5065a",
   "metadata": {},
   "outputs": [],
   "source": [
    "characters = steps[-1]['generate_outline']['env_var']['characters']"
   ]
  },
  {
   "cell_type": "code",
   "execution_count": 141,
   "id": "b1c3ad71-31ac-4ebc-9953-10ca2ac54d0a",
   "metadata": {
    "scrolled": true
   },
   "outputs": [
    {
     "name": "stdout",
     "output_type": "stream",
     "text": [
      "# The Magician's Apprentice\n",
      "\n",
      "## The Mountain Village\n",
      "\n",
      "The story opens in the remote mountain village where Ari, a curious and imaginative young boy, lives with his childhood friend Mira. Ari spends his days exploring the nearby forests, dreaming of adventure and magic, while Mira, a kind and loyal young woman, supports and believes in him. The villagers lead a simple, peaceful life, unaware of the looming threat on the horizon. Ari's thirst for knowledge and his fascination with the natural world set him apart from the other villagers, who view his interests as peculiar.\n",
      "\n",
      "## The Discovery of the Magic Book\n",
      "\n",
      "One day, while venturing deeper into the woods, Ari stumbles upon an ancient, weathered book hidden in the hollow of a tree. Intrigued, he takes the book back to his home and begins to study its contents. As he delves into the pages, he discovers that the book contains powerful spells and incantations, unlocking a world of magic that he never knew existed. Mira, curious about Ari's newfound obsession, offers to help him decipher the book's secrets, becoming an invaluable ally in his journey of self-discovery.\n",
      "\n",
      "## The Self-Taught Magician\n",
      "\n",
      "Fascinated by the book's mysteries, Ari spends countless hours poring over the pages, teaching himself the arcane arts with a determination that surprises even Mira. As his abilities grow, Ari realizes the true extent of the book's power and his own potential. Mira, witnessing Ari's transformation, becomes both awed and concerned, aware that his newfound powers may draw unwanted attention to their peaceful village.\n",
      "\n",
      "## The Call to Adventure\n",
      "\n",
      "News of Ari's magical abilities soon spreads, and he is sought out by the elders of the village, who ask him to use his powers to help their community. Ari is initially hesitant, torn between his desire to remain in the safety of his home and his growing sense of responsibility to the world beyond the mountain. Mira, recognizing the importance of Ari's abilities, encourages him to accept the elders' request, knowing that his destiny lies in the wider world.\n",
      "\n",
      "## The Journey to the City\n",
      "\n",
      "Ari sets out on a treacherous journey, leaving his beloved village and Mira behind as he travels to the nearest city in search of guidance and further training. Along the way, he faces numerous challenges and obstacles, but his determination and the magic of the ancient book sustain him. Upon reaching the city, Ari is awestruck by the grandeur and complexity of the bustling urban center, feeling both overwhelmed and excited by the prospect of what lies ahead.\n",
      "\n",
      "## Mastering the Arcane Arts\n",
      "\n",
      "In the city, Ari meets Zarina, a wise and experienced magician who takes him under her wing. Together, they delve deeper into the mysteries of the magic book, unlocking its most powerful spells and teaching Ari to harness his abilities. Under Zarina's tutelage, Ari's skills grow exponentially, and he becomes a formidable practitioner of the arcane arts. Zarina, impressed by Ari's raw talent and potential, sees him as a beacon of hope in the face of the looming alien threat.\n",
      "\n",
      "## The Alien Invasion\n",
      "\n",
      "Suddenly, the world is threatened by a powerful alien force, led by the ruthless Kravath. This alien invader seeks to conquer and enslave humanity, and his advanced technology and formidable abilities make him a daunting foe. Ari, now a skilled and confident magician, steps up to defend his home and the people he loves, including his childhood friend Mira, who has traveled to the city to support him. Zarina, recognizing the gravity of the situation, rallies the other mages of the city to join Ari in the impending battle.\n",
      "\n",
      "## The Final Battle\n",
      "\n",
      "In an epic showdown, Ari, aided by Zarina and the other mages of the city, confronts Kravath and his alien forces. Drawing on the full power of the magic book, Ari unleashes a barrage of spells and incantations, using his mastery of the arcane arts to protect the world from the alien invasion. Mira, despite her lack of magical abilities, provides crucial support and encouragement, reminding Ari of the importance of his mission and the people he is fighting to protect. After a fierce and intense battle, Ari emerges victorious, realizing the true extent of his power and his responsibility to use it for the greater good. The story ends with Ari, Mira, and Zarina standing together, united in their determination to safeguard the world from future threats.\n"
     ]
    }
   ],
   "source": [
    "print(outline.as_str)"
   ]
  },
  {
   "cell_type": "code",
   "execution_count": 140,
   "id": "c1607891-a3ec-4033-a887-2e437f8330e5",
   "metadata": {
    "scrolled": true
   },
   "outputs": [
    {
     "name": "stdout",
     "output_type": "stream",
     "text": [
      "Name: Zarina\n",
      "Role: Mentor\n",
      "Affiliation: City of Mages\n",
      "Background: A wise and experienced magician from the City of Mages, who takes Ari under her wing and guides his magical training.\n",
      "Description: Zarina is a powerful and enigmatic mage, with a deep understanding of the arcane arts. She is patient and nurturing, yet firm in her teachings, pushing Ari to reach his full potential. Beneath her calm exterior lies a fierce determination to protect the world from the looming alien threat.\n",
      "Figure:an old woman\n",
      "Appearance: Zarina has long, silver hair and piercing blue eyes. She wears flowing robes adorned with intricate magical symbols, and carries a gnarled staff imbued with ancient power.\n",
      "\n",
      "Name: Kravath\n",
      "Role: Antagonist\n",
      "Affiliation: Alien Invaders\n",
      "Background: The ruthless leader of the alien invasion force, seeking to conquer and enslave humanity.\n",
      "Description: Kravath is a cold, calculating being with an insatiable hunger for power. He views humans as inferior creatures, ripe for subjugation, and will stop at nothing to achieve his goals. Kravath possesses advanced technology and formidable abilities, making him a formidable foe for Ari and the forces of good.\n",
      "Figure:an alien\n",
      "Appearance: Kravath has a towering, imposing figure with metallic, exoskeleton-like armor covering his body. His face is obscured by a menacing mask, and his eyes glow with a sinister, otherworldly energy.\n",
      "\n",
      "Name: Mira\n",
      "Role: Friend/Ally\n",
      "Affiliation: Mountain Village\n",
      "Background: Ari's childhood friend from the mountain village, who supports and believes in him throughout his journey.\n",
      "Description: Mira is a kind, loyal, and determined young woman who has been Ari's closest friend since they were children. She encourages his pursuit of magic and stands by his side, even when others doubt him. Mira represents the strength and resilience of the villagers Ari is fighting to protect.\n",
      "Figure:a young woman\n",
      "Appearance: Mira has long, braided black hair and warm brown eyes. She often wears simple, practical clothing suited for life in the mountain village, such as a tunic, leggings, and a woven shawl.\n",
      "\n",
      "Name: Ari\n",
      "Role: Protagonist\n",
      "Affiliation: Mountain Village\n",
      "Background: A curious and imaginative young boy from a remote mountain village, who discovers an ancient magic book and becomes a self-taught, powerful magician.\n",
      "Description: Ari is a wide-eyed, inquisitive boy with a vivid imagination and an insatiable thirst for knowledge. He spends his days exploring the forests around his village, dreaming of adventure and magic. When he discovers the ancient book of spells, his life changes forever, and he embarks on a journey to master the arcane arts and use his newfound powers to protect the world.\n",
      "Figure:a boy\n",
      "Appearance: Ari has tousled brown hair, bright green eyes, and a slim, agile build. He often wears simple clothing suited for outdoor exploration, such as a tunic, trousers, and sturdy boots.\n",
      "\n"
     ]
    }
   ],
   "source": [
    "print(characters.as_str)"
   ]
  },
  {
   "cell_type": "markdown",
   "id": "84e04a39-15ff-4de7-9ec1-66062ff82780",
   "metadata": {},
   "source": [
    "#### Save to local files"
   ]
  },
  {
   "cell_type": "code",
   "execution_count": 142,
   "id": "ae7601a3-3a67-425b-9232-4490238cb9f4",
   "metadata": {},
   "outputs": [],
   "source": [
    "with open('characters.json','w') as f:\n",
    "    f.write(characters.json())"
   ]
  },
  {
   "cell_type": "code",
   "execution_count": 143,
   "id": "7e2119c9-dad4-41d1-92ae-a2c363d4f930",
   "metadata": {},
   "outputs": [],
   "source": [
    "with open('outline.json','w') as f:\n",
    "    f.write(outline.json())"
   ]
  },
  {
   "cell_type": "code",
   "execution_count": null,
   "id": "a1351f12-3ea8-4a6e-81b3-f87bb9102f67",
   "metadata": {},
   "outputs": [],
   "source": []
  }
 ],
 "metadata": {
  "kernelspec": {
   "display_name": "Python 3 (ipykernel)",
   "language": "python",
   "name": "python3"
  },
  "language_info": {
   "codemirror_mode": {
    "name": "ipython",
    "version": 3
   },
   "file_extension": ".py",
   "mimetype": "text/x-python",
   "name": "python",
   "nbconvert_exporter": "python",
   "pygments_lexer": "ipython3",
   "version": "3.10.14"
  }
 },
 "nbformat": 4,
 "nbformat_minor": 5
}
