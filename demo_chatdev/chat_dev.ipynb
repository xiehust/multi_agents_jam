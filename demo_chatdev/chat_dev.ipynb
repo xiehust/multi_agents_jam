{
 "cells": [
  {
   "cell_type": "code",
   "execution_count": 1,
   "metadata": {},
   "outputs": [],
   "source": [
    "import dotenv\n",
    "import os \n",
    "dotenv.load_dotenv('../.env')\n",
    "# We will set streaming=True so that we can stream tokens\n",
    "# See the streaming section for more information on this.\n",
    "# os.environ['OPENAI_API_KEY'] = 'sk-'\n",
    "os.environ['LANGCHAIN_TRACING_V2'] = 'true'\n",
    "os.environ['LANGCHAIN_ENDPOINT'] = 'https://api.smith.langchain.com'"
   ]
  },
  {
   "cell_type": "code",
   "execution_count": 2,
   "metadata": {},
   "outputs": [],
   "source": [
    "from langchain.embeddings import BedrockEmbeddings\n",
    "from langchain_community.chat_models import BedrockChat\n",
    "from langchain.callbacks.streaming_stdout import StreamingStdOutCallbackHandler"
   ]
  },
  {
   "cell_type": "code",
   "execution_count": 27,
   "metadata": {},
   "outputs": [],
   "source": [
    "embeddings = BedrockEmbeddings(\n",
    "    credentials_profile_name=\"default\", region_name=\"us-east-1\"\n",
    ")\n",
    "\n",
    "llm_sonnet = BedrockChat(model_id=\"anthropic.claude-3-sonnet-20240229-v1:0\",\n",
    "                  model_kwargs={\"temperature\": 0.2,\n",
    "                                \"top_k\":250,\n",
    "                                \"max_tokens\": 1024,\n",
    "                                \"top_p\":0.95,\n",
    "                                # \"stop_sequences\":['</response>']\n",
    "                               },\n",
    "                  streaming=False,\n",
    "                #   callbacks=[StreamingStdOutCallbackHandler()]\n",
    "                )\n",
    "\n",
    "llm_haiku = BedrockChat(model_id=\"anthropic.claude-3-haiku-20240307-v1:0\",\n",
    "                  model_kwargs={\"temperature\": 0.1,\n",
    "                                \"top_k\":250,\n",
    "                                \"max_tokens\": 4096,\n",
    "                                \"top_p\":0.5,\n",
    "                                # \"stop_sequences\":['</response>']\n",
    "                               },\n",
    "                  streaming=True,\n",
    "                  # callbacks=[StreamingStdOutCallbackHandler()]\n",
    "                  )\n",
    "\n",
    "llm = llm_haiku"
   ]
  },
  {
   "cell_type": "code",
   "execution_count": 28,
   "metadata": {},
   "outputs": [],
   "source": [
    "from typing import List, Sequence\n",
    "from langgraph.graph import END, MessageGraph,StateGraph\n",
    "from langchain_core.messages import AIMessage, BaseMessage, HumanMessage\n",
    "from langchain_core.prompts import ChatPromptTemplate, MessagesPlaceholder"
   ]
  },
  {
   "cell_type": "code",
   "execution_count": 29,
   "metadata": {},
   "outputs": [],
   "source": [
    "background_settings = \"ChatDev is a software company powered by multiple intelligent agents, such as chief executive officer, chief human resources officer, chief product officer, chief technology officer, etc, with a multi-agent organizational structure and the mission of 'changing the digital world through programming'.\""
   ]
  },
  {
   "cell_type": "code",
   "execution_count": 30,
   "metadata": {},
   "outputs": [],
   "source": [
    "role_config = {\n",
    "  \"Chief Executive Officer\": [\n",
    "    \"{chatdev_prompt}\",\n",
    "    \"You are Chief Executive Officer. Now, we are both working at ChatDev and we share a common interest in collaborating to successfully complete a task assigned by a new customer.\",\n",
    "    \"Your main responsibilities include being an active decision-maker on users' demands and other key policy issues, leader, manager, and executor. Your decision-making role involves high-level decisions about policy and strategy; and your communicator role can involve speaking to the organization's management and employees.\",\n",
    "    \"Here is a new customer's task: {task}.\",\n",
    "    \"To complete the task, I will give you one or more instructions, and you must help me to write a specific solution that appropriately solves the requested instruction based on your expertise and my needs.\"\n",
    "  ],\n",
    "  \"Chief Product Officer\": [\n",
    "    \"{chatdev_prompt}\",\n",
    "    \"You are Chief Product Officer. we are both working at ChatDev. We share a common interest in collaborating to successfully complete a task assigned by a new customer.\",\n",
    "    \"You are responsible for all product-related matters in ChatDev. Usually includes product design, product strategy, product vision, product innovation, project management and product marketing.\",\n",
    "    \"Here is a new customer's task: {task}.\",\n",
    "    \"To complete the task, you must write a response that appropriately solves the requested instruction based on your expertise and customer's needs.\"\n",
    "  ],\n",
    "  \"Counselor\": [\n",
    "    \"{chatdev_prompt}\",\n",
    "    \"You are Counselor. Now, we share a common interest in collaborating to successfully complete a task assigned by a new customer.\",\n",
    "    \"Your main responsibilities include asking what user and customer think and provide your valuable suggestions. \",\n",
    "    \"Here is a new customer's task: {task}.\",\n",
    "    \"To complete the task, I will give you one or more instructions, and you must help me to write a specific solution that appropriately solves the requested instruction based on your expertise and my needs.\"\n",
    "  ],\n",
    "  \"Chief Technology Officer\": [\n",
    "    \"{chatdev_prompt}\",\n",
    "    \"You are Chief Technology Officer. we are both working at ChatDev. We share a common interest in collaborating to successfully complete a task assigned by a new customer.\",\n",
    "    \"You are very familiar to information technology. You will make high-level decisions for the overarching technology infrastructure that closely align with the organization's goals, while you work alongside the organization's information technology (\\\"IT\\\") staff members to perform everyday operations.\",\n",
    "    \"Here is a new customer's task: {task}.\",\n",
    "    \"To complete the task, You must write a response that appropriately solves the requested instruction based on your expertise and customer's needs.\"\n",
    "  ],\n",
    "  \"Chief Human Resource Officer\": [\n",
    "    \"{chatdev_prompt}\",\n",
    "    \"You are Chief Human Resource Officer. Now, we are both working at ChatDev and we share a common interest in collaborating to successfully complete a task assigned by a new customer.\",\n",
    "    \"You are a corporate officer who oversees all aspects of human resource management and industrial relations policies, practices and operations for an organization. You will be involved in board staff recruitment, member selection, executive compensation, and succession planning. Besides, You report directly to the chief executive officer (CEO) and am a member of the most senior-level committees of a company (e.g., executive committee or office of CEO).\",\n",
    "    \"Here is a new customer's task: {task}.\",\n",
    "    \"To complete the task, you must write a response that appropriately solves the requested instruction based on your expertise and customer's needs.\"\n",
    "  ],\n",
    "  \"Programmer\": [\n",
    "    \"{chatdev_prompt}\",\n",
    "    \"You are Programmer. we are both working at ChatDev. We share a common interest in collaborating to successfully complete a task assigned by a new customer.\",\n",
    "    \"You can write/create computer software or applications by providing a specific programming language to the computer. You have extensive computing and coding experience in many varieties of programming languages and platforms, such as Python, Java, C, C++, HTML, CSS, JavaScript, XML, SQL, PHP, etc,.\",\n",
    "    \"Here is a new customer's task: {task}.\",\n",
    "    \"To complete the task, you must write a response that appropriately solves the requested instruction based on your expertise and customer's needs.\"\n",
    "  ],\n",
    "  \"Code Reviewer\": [\n",
    "    \"{chatdev_prompt}\",\n",
    "    \"You are Code Reviewer. we are both working at ChatDev. We share a common interest in collaborating to successfully complete a task assigned by a new customer.\",\n",
    "    \"You can help programmers to assess source codes for software troubleshooting, fix bugs to increase code quality and robustness, and offer proposals to improve the source codes.\",\n",
    "    \"Here is a new customer's task: {task}.\",\n",
    "    \"To complete the task, you must write a response that appropriately solves the requested instruction based on your expertise and customer's needs.\"\n",
    "  ],\n",
    "  \"Software Test Engineer\": [\n",
    "    \"{chatdev_prompt}\",\n",
    "    \"You are Software Test Engineer. we are both working at ChatDev. We share a common interest in collaborating to successfully complete a task assigned by a new customer.\",\n",
    "    \"You can use the software as intended to analyze its functional properties, design manual and automated test procedures to evaluate each software product, build and implement software evaluation test programs, and run test programs to ensure that testing protocols evaluate the software correctly.\",\n",
    "    \"Here is a new customer's task: {task}.\",\n",
    "    \"To complete the task, you must write a response that appropriately solves the requested instruction based on your expertise and customer's needs.\"\n",
    "  ],\n",
    "  \"Chief Creative Officer\": [\n",
    "    \"{chatdev_prompt}\",\n",
    "    \"You are Chief Creative Officer. we are both working at ChatDev. We share a common interest in collaborating to successfully complete a task assigned by a new customer.\",\n",
    "    \"You direct ChatDev's creative software's and develop the artistic design strategy that defines the company's brand. You create the unique image or music of our produced software's and deliver this distinctive design to consumers to create a clear brand image which is a fundamental and essential work throughout the company.\",\n",
    "    \"Here is a new customer's task: {task}.\",\n",
    "    \"To complete the task, you must write a response that appropriately solves the requested instruction based on your expertise and customer's needs.\"\n",
    "  ]\n",
    "}"
   ]
  },
  {
   "cell_type": "code",
   "execution_count": 31,
   "metadata": {},
   "outputs": [],
   "source": [
    "phase_config = {\n",
    "  \"DemandAnalysis\": {\n",
    "    \"assistant_role_name\": \"Chief Product Officer\",\n",
    "    \"user_role_name\": \"Chief Executive Officer\",\n",
    "    \"phase_prompt\": [\n",
    "      \"ChatDev has made products in the following form before:\",\n",
    "      \"Image: can present information in line chart, bar chart, flow chart, cloud chart, Gantt chart, etc.\",\n",
    "      \"Document: can present information via .docx files.\",\n",
    "      \"PowerPoint: can present information via .pptx files.\",\n",
    "      \"Excel: can present information via .xlsx files.\",\n",
    "      \"PDF: can present information via .pdf files.\",\n",
    "      \"Website: can present personal resume, tutorial, products, or ideas, via .html files.\",\n",
    "      \"Application: can implement visualized game, software, tool, etc, via python.\",\n",
    "      \"Dashboard: can display a panel visualizing real-time information.\",\n",
    "      \"Mind Map: can represent ideas, with related concepts arranged around a core concept.\",\n",
    "      \"As the {assistant_role}, to satisfy the new user's demand and the product should be realizable, you should keep discussing with me to decide which product modality do we want the product to be?\",\n",
    "      \"Note that we must ONLY discuss the product modality and do not discuss anything else! Once we all have expressed our opinion(s) and agree with the results of the discussion unanimously, any of us must actively terminate the discussion by replying with only one line, which starts with a single word <INFO>, followed by our final product modality without any other words, e.g., \\\"<INFO> PowerPoint\\\".\"\n",
    "    ]\n",
    "  },\n",
    "  \"LanguageChoose\": {\n",
    "    \"assistant_role_name\": \"Chief Technology Officer\",\n",
    "    \"user_role_name\": \"Chief Executive Officer\",\n",
    "    \"phase_prompt\": [\n",
    "      \"According to the new user's task and some creative brainstorm ideas listed below: \",\n",
    "      \"Task: \\\"{task}\\\".\",\n",
    "      \"Modality: \\\"{modality}\\\".\",\n",
    "      \"Ideas: \\\"{ideas}\\\".\",\n",
    "      \"We have decided to complete the task through a executable software implemented via a programming language. \",\n",
    "      \"As the {assistant_role}, to satisfy the new user's demand and make the software realizable, you should propose a concrete programming language. If python can complete this task via Python, please answer Python; otherwise, answer another programming language (e.g., Java, C++, etc,).\",\n",
    "      \"Note that we must ONLY discuss the target programming language and do not discuss anything else! Once we all have expressed our opinion(s) and agree with the results of the discussion unanimously, any of us must actively terminate the discussion and conclude the best programming language we have discussed without any other words or reasons, return only one line using the format: \\\"<INFO> *\\\" where \\\"*\\\" represents a programming language.\"\n",
    "    ]\n",
    "  },\n",
    "  \"Coding\": {\n",
    "    \"assistant_role_name\": \"Programmer\",\n",
    "    \"user_role_name\": \"Chief Technology Officer\",\n",
    "    \"phase_prompt\": [\n",
    "      \"According to the new user's task and our software designs listed below: \",\n",
    "      \"Task: \\\"{task}\\\".\",\n",
    "      \"Task description: \\\"{description}\\\".\",\n",
    "      \"Modality: \\\"{modality}\\\".\",\n",
    "      \"Programming Language: \\\"{language}\\\"\",\n",
    "      \"Ideas:\\\"{ideas}\\\"\",\n",
    "      \"We have decided to complete the task through a executable software with multiple files implemented via {language}. As the {assistant_role}, to satisfy the new user's demands, you should write one or multiple files and make sure that every detail of the architecture is, in the end, implemented as code. {gui}\",\n",
    "      \"Think step by step and reason yourself to the right decisions to make sure we get it right.\",\n",
    "      \"You will first lay out the names of the core classes, functions, methods that will be necessary, as well as a quick comment on their purpose.\",\n",
    "      \"Then you will output the content of each file including complete code. Each file must strictly follow a markdown code block format, where the following tokens must be replaced such that \\\"FILENAME\\\" is the lowercase file name including the file extension, \\\"LANGUAGE\\\" in the programming language, \\\"DOCSTRING\\\" is a string literal specified in source code that is used to document a specific segment of code, and \\\"CODE\\\" is the original code:\",\n",
    "      \"FILENAME\",\n",
    "      \"```LANGUAGE\",\n",
    "      \"'''\",\n",
    "      \"DOCSTRING\",\n",
    "      \"'''\",\n",
    "      \"CODE\",\n",
    "      \"```\",\n",
    "      \"You will start with the \\\"main\\\" file, then go to the ones that are imported by that file, and so on.\",\n",
    "      \"Please note that the code should be fully functional. Ensure to implement all functions. No placeholders (such as 'pass' in Python).\"\n",
    "    ]\n",
    "  },\n",
    "  \"ArtDesign\": {\n",
    "    \"assistant_role_name\": \"Programmer\",\n",
    "    \"user_role_name\": \"Chief Creative Officer\",\n",
    "    \"phase_prompt\": [\n",
    "      \"Our developed source codes and corresponding test reports are listed below: \",\n",
    "      \"Task: \\\"{task}\\\".\",\n",
    "      \"Programming Language: \\\"{language}\\\"\",\n",
    "      \"Source Codes:\",\n",
    "      \"\\\"{codes}\\\"\",\n",
    "      \"Note that each file must strictly follow a markdown code block format, where the following tokens must be replaced such that \\\"FILENAME\\\" is the lowercase file name including the file extension, \\\"LANGUAGE\\\" in the programming language, \\\"DOCSTRING\\\" is a string literal specified in source code that is used to document a specific segment of code, and \\\"CODE\\\" is the original code:\",\n",
    "      \"FILENAME\",\n",
    "      \"```LANGUAGE\",\n",
    "      \"'''\",\n",
    "      \"DOCSTRING\",\n",
    "      \"'''\",\n",
    "      \"CODE\",\n",
    "      \"```\",\n",
    "      \"As the {assistant_role}, to satisfy the new user's demand and equip the software with a beautiful graphical user interface (GUI), we will discuss and design many decorative images for GUI decoration. Now, we keep discussing the GUI beautification by listing some functionally independent elements in GUI that are being considered to be decorated by different pictures. For example, ten digits (0-9) in a calculator are functionally independent.\",\n",
    "      \"To answer, use the format: \\\" FILENAME.png: DESCRIPTION\\\" where \\\"FILENAME\\\" is the filename of the image and \\\"DESCRIPTION\\\" denotes the detailed description of the independent elements. For example:\",\n",
    "      \"'''\",\n",
    "      \"button_1.png: The button with the number \\\"1\\\" on it.\",\n",
    "      \"button_multiply.png: The button with the multiplication symbol (\\\"*\\\") on it.\",\n",
    "      \"background.png: the background color to decorate the Go game\",\n",
    "      \"'''\",\n",
    "      \"Now, list all functionally independent elements as much as possible.\"\n",
    "    ]\n",
    "  },\n",
    "  \"ArtIntegration\": {\n",
    "    \"assistant_role_name\": \"Programmer\",\n",
    "    \"user_role_name\": \"Chief Creative Officer\",\n",
    "    \"phase_prompt\": [\n",
    "      \"Our developed source codes and corresponding test reports are listed below: \",\n",
    "      \"Task: \\\"{task}\\\".\",\n",
    "      \"Programming Language: \\\"{language}\\\"\",\n",
    "      \"Source Codes:\",\n",
    "      \"\\\"{codes}\\\"\",\n",
    "      \"Note that each file must strictly follow a markdown code block format, where the following tokens must be replaced such that \\\"FILENAME\\\" is the lowercase file name including the file extension, \\\"LANGUAGE\\\" in the programming language, \\\"DOCSTRING\\\" is a string literal specified in source code that is used to document a specific segment of code, and \\\"CODE\\\" is the original code:\",\n",
    "      \"FILENAME\",\n",
    "      \"```LANGUAGE\",\n",
    "      \"'''\",\n",
    "      \"DOCSTRING\",\n",
    "      \"'''\",\n",
    "      \"CODE\",\n",
    "      \"```\",\n",
    "      \"As the {assistant_role}, to satisfy the new user's demand and equip the software with a beautiful graphical user interface (GUI), you will incorporate our designed images for GUI decoration. Here are some ready-made high-quality pictures and corresponding descriptions:\",\n",
    "      \"{images}\",\n",
    "      \"Note that the designed images have a fixed size of 256x256 pixels and the images are located in the same directory as all the Python files; please dynamically scaling these images according to the size of GUI, and use \\\"self.*\\\" to avoid displaying-related problems caused by automatic garbage collection. For example:\",\n",
    "      \"```\",\n",
    "      \"self.image = ImageTk.PhotoImage(Image.open(\\\"./image.png\\\").resize((50, 50)))\",\n",
    "      \"```\",\n",
    "      \"Now, use some or all of the pictures into the GUI to make it more beautiful and creative. Output codes strictly following the required format mentioned above.\"\n",
    "    ]\n",
    "  },\n",
    "  \"CodeComplete\": {\n",
    "    \"assistant_role_name\": \"Programmer\",\n",
    "    \"user_role_name\": \"Chief Technology Officer\",\n",
    "    \"phase_prompt\": [\n",
    "      \"According to the new user's task and our software designs listed below: \",\n",
    "      \"Task: \\\"{task}\\\".\",\n",
    "      \"Modality: \\\"{modality}\\\".\",\n",
    "      \"Programming Language: \\\"{language}\\\"\",\n",
    "      \"Codes:\",\n",
    "      \"\\\"{codes}\\\"\",\n",
    "      \"Unimplemented File:\",\n",
    "      \"\\\"{unimplemented_file}\\\"\",\n",
    "      \"In our software, each file must strictly follow a markdown code block format, where the following tokens must be replaced such that \\\"FILENAME\\\" is the lowercase file name including the file extension, \\\"LANGUAGE\\\" in the programming language, \\\"DOCSTRING\\\" is a string literal specified in source code that is used to document a specific segment of code, and \\\"CODE\\\" is the original code:\",\n",
    "      \"FILENAME\",\n",
    "      \"```LANGUAGE\",\n",
    "      \"'''\",\n",
    "      \"DOCSTRING\",\n",
    "      \"'''\",\n",
    "      \"CODE\",\n",
    "      \"```\",\n",
    "      \"As the {assistant_role}, to satisfy the complete function of our developed software, you have to implement all methods in the {unimplemented_file} file which contains a unimplemented class. Now, implement all methods of the {unimplemented_file} and all other codes needed, then output the fully implemented codes, strictly following the required format.\"\n",
    "    ]\n",
    "  },\n",
    "  \"CodeReviewComment\": {\n",
    "    \"assistant_role_name\": \"Code Reviewer\",\n",
    "    \"user_role_name\": \"Programmer\",\n",
    "    \"phase_prompt\": [\n",
    "      \"According to the new user's task and our software designs: \",\n",
    "      \"Task: \\\"{task}\\\".\",\n",
    "      \"Modality: \\\"{modality}\\\".\",\n",
    "      \"Programming Language: \\\"{language}\\\"\",\n",
    "      \"Ideas: \\\"{ideas}\\\"\",\n",
    "      \"Codes:\",\n",
    "      \"\\\"{codes}\\\"\",\n",
    "      \"As the {assistant_role}, to make the software directly operable without further coding, ChatDev have formulated the following regulations:\",\n",
    "      \"1) all referenced classes should be imported;\",\n",
    "      \"2) all methods should be implemented;\",\n",
    "      \"3) all methods need to have the necessary comments;\",\n",
    "      \"4) no potential bugs;\",\n",
    "      \"5) The entire project conforms to the tasks proposed by the user;\",\n",
    "      \"6) most importantly, do not only check the errors in the code, but also the logic of code. Make sure that user can interact with generated software without losing any feature in the requirement;\",\n",
    "      \"Now, you should check the above regulations one by one and review the codes in detail, propose one comment with the highest priority about the codes, and give me instructions on how to fix. Tell me your comment with the highest priority and corresponding suggestions on revision. If the codes are perfect and you have no comment on them, return only one line like \\\"<INFO> Finished\\\".\"\n",
    "    ]\n",
    "  },\n",
    "  \"CodeReviewModification\": {\n",
    "    \"assistant_role_name\": \"Programmer\",\n",
    "    \"user_role_name\": \"Code Reviewer\",\n",
    "    \"phase_prompt\": [\n",
    "      \"According to the new user's task, our designed product modality, languages and ideas, our developed first-edition source codes are listed below: \",\n",
    "      \"Task: \\\"{task}\\\".\",\n",
    "      \"Modality: \\\"{modality}\\\".\",\n",
    "      \"Programming Language: \\\"{language}\\\"\",\n",
    "      \"Ideas: \\\"{ideas}\\\"\",\n",
    "      \"Codes: \",\n",
    "      \"\\\"{codes}\\\"\",\n",
    "      \"Comments on Codes:\",\n",
    "      \"\\\"{comments}\\\"\",\n",
    "      \"In the software, each file must strictly follow a markdown code block format, where the following tokens must be replaced such that \\\"FILENAME\\\" is the lowercase file name including the file extension, \\\"LANGUAGE\\\" in the programming language, \\\"DOCSTRING\\\" is a string literal specified in source code that is used to document a specific segment of code, and \\\"CODE\\\" is the original code. Format:\",\n",
    "      \"FILENAME\",\n",
    "      \"```LANGUAGE\",\n",
    "      \"'''\",\n",
    "      \"DOCSTRING\",\n",
    "      \"'''\",\n",
    "      \"CODE\",\n",
    "      \"```\",\n",
    "      \"As the {assistant_role}, to satisfy the new user's demand and make the software creative, executive and robust, you should modify corresponding codes according to the comments. Then, output the full and complete codes with all bugs fixed based on the comments. Return all codes strictly following the required format.\"\n",
    "    ]\n",
    "  },\n",
    "  \"TestErrorSummary\": {\n",
    "    \"assistant_role_name\": \"Programmer\",\n",
    "    \"user_role_name\": \"Software Test Engineer\",\n",
    "    \"phase_prompt\": [\n",
    "      \"Our developed source codes and corresponding test reports are listed below: \",\n",
    "      \"Programming Language: \\\"{language}\\\"\",\n",
    "      \"Source Codes:\",\n",
    "      \"\\\"{codes}\\\"\",\n",
    "      \"Test Reports of Source Codes:\",\n",
    "      \"\\\"{test_reports}\\\"\",\n",
    "      \"According to my test reports, please locate and summarize the bugs that cause the problem.\"\n",
    "    ]\n",
    "  },\n",
    "  \"TestModification\": {\n",
    "    \"assistant_role_name\": \"Programmer\",\n",
    "    \"user_role_name\": \"Software Test Engineer\",\n",
    "    \"phase_prompt\": [\n",
    "      \"Our developed source codes and corresponding test reports are listed below: \",\n",
    "      \"Programming Language: \\\"{language}\\\"\",\n",
    "      \"Source Codes:\",\n",
    "      \"\\\"{codes}\\\"\",\n",
    "      \"Test Reports of Source Codes:\",\n",
    "      \"\\\"{test_reports}\\\"\",\n",
    "      \"Error Summary of Test Reports:\",\n",
    "      \"\\\"{error_summary}\\\"\",\n",
    "      \"Note that each file must strictly follow a markdown code block format, where the following tokens must be replaced such that \\\"FILENAME\\\" is the lowercase file name including the file extension, \\\"LANGUAGE\\\" in the programming language, \\\"DOCSTRING\\\" is a string literal specified in source code that is used to document a specific segment of code, and \\\"CODE\\\" is the original code:\",\n",
    "      \"FILENAME\",\n",
    "      \"```LANGUAGE\",\n",
    "      \"'''\",\n",
    "      \"DOCSTRING\",\n",
    "      \"'''\",\n",
    "      \"CODE\",\n",
    "      \"```\",\n",
    "      \"As the {assistant_role}, to satisfy the new user's demand and make the software execute smoothly and robustly, you should modify the codes based on the error summary. Now, use the format exemplified above and modify the problematic codes based on the error summary. Output the codes that you fixed based on the test reported and corresponding explanations (strictly follow the format defined above, including FILENAME, LANGUAGE, DOCSTRING and CODE; incomplete \\\"TODO\\\" codes are strictly prohibited). If no bugs are reported, please return only one line like \\\"<INFO> Finished\\\".\"\n",
    "    ]\n",
    "  },\n",
    "  \"EnvironmentDoc\": {\n",
    "    \"assistant_role_name\": \"Programmer\",\n",
    "    \"user_role_name\": \"Chief Technology Officer\",\n",
    "    \"phase_prompt\": [\n",
    "      \"The new user's task and our developed codes are listed: \",\n",
    "      \"Task: \\\"{task}\\\".\",\n",
    "      \"Modality: \\\"{modality}\\\".\",\n",
    "      \"Programming Language: \\\"{language}\\\"\",\n",
    "      \"Ideas: \\\"{ideas}\\\"\",\n",
    "      \"Codes: \",\n",
    "      \"\\\"{codes}\\\"\",\n",
    "      \"As the {assistant_role}, you should write a requirements.txt file, which is commonly used in Python projects to specify the dependencies or packages required for the project to run properly. It serves as a way to document and manage the project's dependencies in a standardized format. For example:\",\n",
    "      \"requirements.txt\",\n",
    "      \"```\",\n",
    "      \"numpy==1.19.2\",\n",
    "      \"pandas>=1.1.4\",\n",
    "      \"```\",\n",
    "      \"According to the codes and file format listed above, write a requirements.txt file to specify the dependencies or packages required for the project to run properly.\"\n",
    "    ]\n",
    "  },\n",
    "  \"Manual\": {\n",
    "    \"assistant_role_name\": \"Chief Product Officer\",\n",
    "    \"user_role_name\": \"Chief Executive Officer\",\n",
    "    \"phase_prompt\": [\n",
    "      \"The new user's task, our developed codes and required dependencies are listed: \",\n",
    "      \"Task: \\\"{task}\\\".\",\n",
    "      \"Modality: \\\"{modality}\\\".\",\n",
    "      \"Programming Language: \\\"{language}\\\"\",\n",
    "      \"Ideas: \\\"{ideas}\\\"\",\n",
    "      \"Codes: \",\n",
    "      \"\\\"{codes}\\\"\",\n",
    "      \"Requirements:\",\n",
    "      \"\\\"{requirements}\\\"\",\n",
    "      \"As the {assistant_role}, by using Markdown, you should write a manual.md file which is a detailed user manual to use the software, including introducing main functions of the software, how to install environment dependencies and how to use/play it. For example:\",\n",
    "      \"manual.md\",\n",
    "      \"```\",\n",
    "      \"# LangChain\",\n",
    "      \"Building applications with LLMs through composability\",\n",
    "      \"Looking for the JS/TS version? Check out LangChain.js.\",\n",
    "      \"**Production Support:** As you move your LangChains into production, we'd love to offer more comprehensive support.\",\n",
    "      \"Please fill out this form and we'll set up a dedicated support Slack channel.\",\n",
    "      \"## Quick Install\",\n",
    "      \"`pip install langchain`\",\n",
    "      \"or\",\n",
    "      \"`conda install langchain -c conda-forge`\",\n",
    "      \"## 🤔 What is this?\",\n",
    "      \"Large language models (LLMs) are emerging as a transformative technology, enabling developers to build applications that they previously could not. However, using these LLMs in isolation is often insufficient for creating a truly powerful app - the real power comes when you can combine them with other sources of computation or knowledge.\",\n",
    "      \"This library aims to assist in the development of those types of applications. Common examples of these applications include:\",\n",
    "      \"**❓ Question Answering over specific documents**\",\n",
    "      \"- Documentation\",\n",
    "      \"- End-to-end Example: Question Answering over Notion Database\",\n",
    "      \"**🤖 Agents**\",\n",
    "      \"- Documentation\",\n",
    "      \"- End-to-end Example: GPT+WolframAlpha\",\n",
    "      \"## 📖 Documentation\",\n",
    "      \"Please see [here](https://python.langchain.com) for full documentation on:\",\n",
    "      \"- Getting started (installation, setting up the environment, simple examples)\",\n",
    "      \"- How-To examples (demos, integrations, helper functions)\",\n",
    "      \"- Reference (full API docs)\",\n",
    "      \"- Resources (high-level explanation of core concepts)\",\n",
    "      \"```\"\n",
    "    ]\n",
    "  }\n",
    "}"
   ]
  },
  {
   "cell_type": "code",
   "execution_count": 32,
   "metadata": {},
   "outputs": [],
   "source": [
    "##把连续的role进行合并\n",
    "def reconstruct_to_claude_messages(messages):\n",
    "    rec_messages = []\n",
    "    for message in messages:\n",
    "        if rec_messages:\n",
    "            if isinstance(rec_messages[0], AIMessage):\n",
    "                rec_messages[0] = HumanMessage(content=rec_messages[0].content)\n",
    "            last_msg = rec_messages[-1]\n",
    "            last_role = 'assistant' if isinstance(last_msg,AIMessage) else 'user'\n",
    "            current_role = 'assistant' if isinstance(message,AIMessage) else 'user'\n",
    "            if last_role == current_role:\n",
    "                last_msg_content = last_msg.content[-1]['text'] if isinstance(last_msg.content,list) else last_msg.content\n",
    "                current_msg_content = message.content[-1]['text'] if isinstance(message.content, list) else message.content\n",
    "                new_content = last_msg_content +\"\\n\\n\" + current_msg_content\n",
    "                rec_messages[-1] = HumanMessage(content=new_content) if last_role == 'user' else AIMessage(content=new_content)\n",
    "            else:\n",
    "                rec_messages.append(message)\n",
    "        else:\n",
    "            rec_messages.append(message)\n",
    "    return rec_messages"
   ]
  },
  {
   "cell_type": "markdown",
   "metadata": {},
   "source": [
    "### phase  'DemandAnalysis'"
   ]
  },
  {
   "cell_type": "code",
   "execution_count": 33,
   "metadata": {},
   "outputs": [
    {
     "name": "stdout",
     "output_type": "stream",
     "text": [
      "Chief Product Officer --- Chief Executive Officer\n",
      "['ChatDev has made products in the following form before:', 'Image: can present information in line chart, bar chart, flow chart, cloud chart, Gantt chart, etc.', 'Document: can present information via .docx files.', 'PowerPoint: can present information via .pptx files.', 'Excel: can present information via .xlsx files.', 'PDF: can present information via .pdf files.', 'Website: can present personal resume, tutorial, products, or ideas, via .html files.', 'Application: can implement visualized game, software, tool, etc, via python.', 'Dashboard: can display a panel visualizing real-time information.', 'Mind Map: can represent ideas, with related concepts arranged around a core concept.', \"As the {assistant_role}, to satisfy the new user's demand and the product should be realizable, you should keep discussing with me to decide which product modality do we want the product to be?\", 'Note that we must ONLY discuss the product modality and do not discuss anything else! Once we all have expressed our opinion(s) and agree with the results of the discussion unanimously, any of us must actively terminate the discussion by replying with only one line, which starts with a single word <INFO>, followed by our final product modality without any other words, e.g., \"<INFO> PowerPoint\".']\n"
     ]
    }
   ],
   "source": [
    "phase_name = 'DemandAnalysis'\n",
    "phase = phase_config[phase_name]\n",
    "assistant_role_name = phase['assistant_role_name']\n",
    "user_role_name =  phase['user_role_name']\n",
    "phase_prompt = phase['phase_prompt']\n",
    "print(assistant_role_name,\"---\",user_role_name)\n",
    "print(phase_prompt)"
   ]
  },
  {
   "cell_type": "code",
   "execution_count": 34,
   "metadata": {},
   "outputs": [],
   "source": [
    "assistant_role = 'Chief Product Officer'\n",
    "prompt = ChatPromptTemplate.from_messages(\n",
    "    [\n",
    "        (\n",
    "            \"system\",\n",
    "            \"\\n\".join(role_config[assistant_role_name]),\n",
    "        ),\n",
    "        MessagesPlaceholder(variable_name=\"messages\"),\n",
    "    ]\n",
    ")\n",
    "\n",
    "generate = prompt | llm"
   ]
  },
  {
   "cell_type": "code",
   "execution_count": 35,
   "metadata": {},
   "outputs": [
    {
     "name": "stdout",
     "output_type": "stream",
     "text": [
      "As the Chief Product Officer, I believe the most suitable product modality for the given task would be a Markdown file. Markdown is a lightweight markup language that is easy to read and write, and it can effectively represent the content of the crawled website, including any images. Additionally, Markdown files can be easily converted to other formats, such as HTML or PDF, if needed.\n",
      "\n",
      "Compared to other product modalities, a Markdown file would provide the following advantages:\n",
      "\n",
      "1. Simplicity: Markdown is a straightforward and minimalist format, making it easy for the customer to understand and work with the final product.\n",
      "2. Preservation of content: Markdown can accurately capture the textual content and image links from the crawled website, ensuring that the final product faithfully represents the original source.\n",
      "3. Flexibility: Markdown files can be easily integrated into various workflows and can be further processed or converted to other formats as required.\n",
      "\n",
      "Given these considerations, I believe a Markdown file would be the most suitable product modality to satisfy the customer's request. What are your thoughts on this?"
     ]
    }
   ],
   "source": [
    "task = 'given a website url, crawl the content and convert to markdown file, if there have images in the page, please keep the image link and convert to markdown format.'\n",
    "phase_name = 'DemandAnalysis'\n",
    "request = HumanMessage(\n",
    "    content=\"\\n\\n\".join(phase_prompt).format(assistant_role=assistant_role_name) \n",
    ")\n",
    "# request = ChatPromptTemplate.from_messages([request])\n",
    "response = ''\n",
    "for chunk in generate.stream({\"messages\": [request],\n",
    "                              \"task\":task,\n",
    "                              \"chatdev_prompt\":background_settings,\n",
    "                              }):\n",
    "    print(chunk.content, end=\"\")\n",
    "    response += chunk.content"
   ]
  },
  {
   "cell_type": "markdown",
   "metadata": {},
   "source": [
    "- Reflection"
   ]
  },
  {
   "cell_type": "code",
   "execution_count": 36,
   "metadata": {},
   "outputs": [],
   "source": [
    "reflection_prompt = ChatPromptTemplate.from_messages(\n",
    "    [\n",
    "        (\n",
    "            \"system\",\n",
    "            \"\\n\".join(role_config[user_role_name]),\n",
    "        ),\n",
    "        MessagesPlaceholder(variable_name=\"messages\"),\n",
    "    ]\n",
    ")\n",
    "\n",
    "reflect = reflection_prompt | llm"
   ]
  },
  {
   "cell_type": "code",
   "execution_count": 37,
   "metadata": {},
   "outputs": [
    {
     "name": "stdout",
     "output_type": "stream",
     "text": [
      "As the Chief Executive Officer, I agree with your assessment that a Markdown file would be the most suitable product modality for the given task. Markdown provides a simple, yet powerful, way to represent the content of the crawled website, including the textual information and any images. The advantages you outlined, such as simplicity, preservation of content, and flexibility, make Markdown an excellent choice for this project.\n",
      "\n",
      "<INFO> Markdown"
     ]
    }
   ],
   "source": [
    "reflection = \"\"\n",
    "for chunk in reflect.stream({\"messages\": reconstruct_to_claude_messages([request, HumanMessage(content=response)]),\n",
    "                             \"task\":task,\n",
    "                              \"chatdev_prompt\":background_settings,\n",
    "                              }):\n",
    "    print(chunk.content, end=\"\")\n",
    "    reflection += chunk.content"
   ]
  },
  {
   "cell_type": "markdown",
   "metadata": {},
   "source": [
    "- repeat"
   ]
  },
  {
   "cell_type": "code",
   "execution_count": 38,
   "metadata": {},
   "outputs": [
    {
     "name": "stdout",
     "output_type": "stream",
     "text": [
      "<INFO> Markdown"
     ]
    }
   ],
   "source": [
    "for chunk in generate.stream(\n",
    "    {\"messages\": reconstruct_to_claude_messages([request, AIMessage(content=response), HumanMessage(content=reflection)]),\n",
    "     \"task\":task,\n",
    "      \"chatdev_prompt\":background_settings,\n",
    "     }\n",
    "):\n",
    "    print(chunk.content, end=\"\")"
   ]
  },
  {
   "cell_type": "markdown",
   "metadata": {},
   "source": [
    "- ask Counselor"
   ]
  },
  {
   "cell_type": "code",
   "execution_count": 39,
   "metadata": {},
   "outputs": [],
   "source": [
    "counselor_prompt = ChatPromptTemplate.from_messages(\n",
    "    [\n",
    "        (\n",
    "            \"system\",\n",
    "            \"\\n\".join(role_config['Counselor']),\n",
    "        ),\n",
    "        MessagesPlaceholder(variable_name=\"messages\"),\n",
    "    ]\n",
    ")\n",
    "\n",
    "counselor = counselor_prompt | llm"
   ]
  },
  {
   "cell_type": "code",
   "execution_count": 40,
   "metadata": {},
   "outputs": [
    {
     "name": "stdout",
     "output_type": "stream",
     "text": [
      "<INFO> Markdown"
     ]
    }
   ],
   "source": [
    "counselor_advice = \"\"\n",
    "for chunk in counselor.stream({\"messages\": reconstruct_to_claude_messages([request,\n",
    "                                                                           AIMessage(content=response), HumanMessage(content=reflection)\n",
    "                                                                           ]),\n",
    "                             \"task\":task,\n",
    "                              \"chatdev_prompt\":background_settings,\n",
    "                              }):\n",
    "    print(chunk.content, end=\"\")\n",
    "    counselor_advice += chunk.content"
   ]
  },
  {
   "cell_type": "markdown",
   "metadata": {},
   "source": [
    "### 开始定义node"
   ]
  },
  {
   "cell_type": "code",
   "execution_count": null,
   "metadata": {},
   "outputs": [],
   "source": []
  },
  {
   "cell_type": "markdown",
   "metadata": {},
   "source": [
    "使用 |= 操作符更新字典是一种常见的做法,它可以将一个字典与另一个字典合并,如果有重复的键,则使用新字典中的值覆盖旧字典中的值。\n",
    "\n",
    "例如,如果您有一个名为 state 的 AgentState 实例,并且想要更新它的 env 字典,您可以这样做:\n",
    "\n",
    "new_env = {\"key1\": \"value1\", \"key2\": \"value2\"}\n",
    "state.env |= new_env"
   ]
  },
  {
   "cell_type": "code",
   "execution_count": 50,
   "metadata": {},
   "outputs": [],
   "source": [
    "import operator\n",
    "from typing import Annotated, Sequence, TypedDict,Dict,Optional\n",
    "\n",
    "class AgentState(TypedDict):\n",
    "    messages: Annotated[Sequence[BaseMessage], operator.add]\n",
    "    env: Optional[Annotated[Dict[str, any], operator.ior]]"
   ]
  },
  {
   "cell_type": "markdown",
   "metadata": {},
   "source": [
    "- 定义一个generate node\n"
   ]
  },
  {
   "cell_type": "code",
   "execution_count": 104,
   "metadata": {},
   "outputs": [],
   "source": [
    "\n",
    "\n",
    "async def generation_node(state:AgentState):\n",
    "    \"\"\"\n",
    "    Generate answer\n",
    "\n",
    "    Args:\n",
    "        state (messages): The current state\n",
    "\n",
    "    Returns:\n",
    "         dict: The updated state with re-phrased question\n",
    "    \"\"\"\n",
    "    print(\"---GENERATE---\")\n",
    "    \n",
    "    ## 如果最后一个消息是AI，则转成Human\n",
    "    messages = state[\"messages\"]\n",
    "    last_message = messages[-1]\n",
    "    translated_last = HumanMessage(last_message.content) if isinstance(last_message,AIMessage) else last_message\n",
    "    messages = reconstruct_to_claude_messages(messages[:-1] + [translated_last])\n",
    "    # print(messages)\n",
    "    resp = await generate.ainvoke({\"messages\": messages, \"task\":task,\"chatdev_prompt\":background_settings})\n",
    "    conclusion = ''\n",
    "    if resp.content.startswith(\"<INFO>\"):\n",
    "        conclusion = resp.content.split(\"<INFO>\")[-1].strip()\n",
    "    \n",
    "    ##把这个阶段的达成值保存到env\n",
    "    return {\"messages\": [resp],\"env\":{phase_name:conclusion}}\n"
   ]
  },
  {
   "cell_type": "code",
   "execution_count": 105,
   "metadata": {},
   "outputs": [],
   "source": [
    "async def reflection_node(state:AgentState):\n",
    "    messages = state[\"messages\"]\n",
    "    # 翻转角色\n",
    "    cls_map = {\"ai\": HumanMessage, \"human\": AIMessage}\n",
    "    # First message is the original user request. We hold it the same for all nodes\n",
    "    translated = [messages[0]] + [\n",
    "        cls_map[msg.type](content=msg.content) for msg in messages[1:]\n",
    "    ]\n",
    "    translated = reconstruct_to_claude_messages(translated)\n",
    "    resp = await reflect.ainvoke({\"messages\": translated,\n",
    "                          \"task\":task,\n",
    "                              \"chatdev_prompt\":background_settings\n",
    "                              })\n",
    "    conclusion = ''\n",
    "    if resp.content.startswith(\"<INFO>\"):\n",
    "        conclusion = resp.content.split(\"<INFO>\")[-1].strip()\n",
    "        \n",
    "    return {\"messages\": [resp],\"env\":{phase_name:conclusion}}\n",
    "    "
   ]
  },
  {
   "cell_type": "markdown",
   "metadata": {},
   "source": [
    "- 如果前面几步都没有达成最后结论，则ask counselor给出最终建议"
   ]
  },
  {
   "cell_type": "code",
   "execution_count": 106,
   "metadata": {},
   "outputs": [],
   "source": [
    "async def counselor_node(state:AgentState):\n",
    "    messages = state[\"messages\"]\n",
    "    # 翻转角色\n",
    "    cls_map = {\"ai\": HumanMessage, \"human\": AIMessage}\n",
    "    # First message is the original user request. We hold it the same for all nodes\n",
    "    translated = [messages[0]] + [\n",
    "        cls_map[msg.type](content=msg.content) for msg in messages[1:]\n",
    "    ]\n",
    "    translated = reconstruct_to_claude_messages(translated)\n",
    "    resp = await counselor.ainvoke({\"messages\": translated,\n",
    "                          \"task\":task,\n",
    "                              \"chatdev_prompt\":background_settings\n",
    "                              })\n",
    "    conclusion = ''\n",
    "    if resp.content.startswith(\"<INFO>\"):\n",
    "        conclusion = resp.content.split(\"<INFO>\")[-1].strip()\n",
    "        \n",
    "    return {\"messages\": [resp],\"env\":{phase_name:conclusion}}\n",
    "    "
   ]
  },
  {
   "cell_type": "markdown",
   "metadata": {},
   "source": [
    "###  Define Graph"
   ]
  },
  {
   "cell_type": "code",
   "execution_count": 107,
   "metadata": {},
   "outputs": [],
   "source": [
    "MAX_TURNS = 3\n",
    "workflow = StateGraph(AgentState)\n",
    "workflow.add_node(\"generate\", generation_node)\n",
    "workflow.add_node(\"reflect\", reflection_node)\n",
    "workflow.add_node(\"counselor\", counselor_node)\n",
    "workflow.set_entry_point(\"generate\")"
   ]
  },
  {
   "cell_type": "code",
   "execution_count": 108,
   "metadata": {},
   "outputs": [],
   "source": [
    "def should_continue(state: AgentState):\n",
    "    # last_message = state['messages'][-1]\n",
    "    env = state['env']\n",
    "    \n",
    "    # 如果轮数跑完，还没有达成一致，则询问counselor\n",
    "    if not env.get(phase_name) and len(state['messages']) > 2*MAX_TURNS:\n",
    "        return \"counselor\"\n",
    "    elif env.get(phase_name):\n",
    "        return \"end\"\n",
    "    else:\n",
    "        return \"reflect\""
   ]
  },
  {
   "cell_type": "code",
   "execution_count": 109,
   "metadata": {},
   "outputs": [],
   "source": [
    "workflow.add_conditional_edges(\n",
    "    \"generate\", \n",
    "    should_continue,\n",
    "    {\n",
    "        \"counselor\": \"counselor\",\n",
    "        \"end\" : END,\n",
    "        \"reflect\" : \"reflect\", \n",
    "    }\n",
    ")\n",
    "workflow.add_edge(\"reflect\", \"generate\")\n",
    "workflow.add_edge(\"counselor\", END)\n",
    "graph = workflow.compile()"
   ]
  },
  {
   "cell_type": "code",
   "execution_count": 110,
   "metadata": {},
   "outputs": [
    {
     "name": "stdout",
     "output_type": "stream",
     "text": [
      "---GENERATE---\n",
      "{'generate': {'messages': [AIMessage(content=\"As the Chief Product Officer, I believe the most suitable product modality for this task would be a Markdown file. Markdown is a lightweight markup language that is easy to read and write, and it can be easily converted to HTML, which is the standard format for websites. By converting the website content to a Markdown file, we can preserve the structure and formatting of the original content, including any images that are present.\\n\\nAdditionally, Markdown files are widely used in the software development community, making them a familiar and accessible format for our customers. They can be easily shared, version-controlled, and integrated into various workflows, such as documentation, project management, and content management systems.\\n\\nCompared to other product modalities, such as Word documents, PowerPoint presentations, or PDF files, Markdown offers a more streamlined and efficient solution for this task. It is lightweight, easy to generate, and can be easily integrated into our existing product offerings.\\n\\nTherefore, I believe the Markdown file format is the most suitable product modality for this task, as it aligns with our company's capabilities, the customer's requirements, and the broader industry trends.\", response_metadata={'model_id': 'anthropic.claude-3-haiku-20240307-v1:0'}, id='run-3f076e45-67d9-4fef-94bc-44f45d3ef047-0')], 'env': {'DemandAnalysis': ''}}}\n",
      "---\n",
      "{'reflect': {'messages': [AIMessage(content=\"I agree with your assessment that a Markdown file is the most suitable product modality for this task. Markdown is a lightweight, easy-to-use format that can effectively capture the content and structure of the website, including any images. It aligns well with our company's existing capabilities and the customer's requirements.\\n\\nBy converting the website content to a Markdown file, we can provide a solution that is easy to share, version-control, and integrate into various workflows. This format also maintains the readability and accessibility of the original content, which is important for our customer.\\n\\nCompared to other product modalities, such as Word documents or PDF files, Markdown offers a more streamlined and efficient solution that is well-suited for this specific task. It allows us to deliver a high-quality product that meets the customer's needs while leveraging our existing expertise and capabilities.\\n\\n<INFO> Markdown\", response_metadata={'model_id': 'anthropic.claude-3-haiku-20240307-v1:0'}, id='run-972f127e-d258-422b-bc3a-2837ec3c6c48-0')], 'env': {'DemandAnalysis': ''}}}\n",
      "---\n",
      "---GENERATE---\n",
      "{'generate': {'messages': [AIMessage(content='<INFO> Markdown', response_metadata={'model_id': 'anthropic.claude-3-haiku-20240307-v1:0'}, id='run-c5ec6cdd-ebcb-4c6b-a9a5-0367cbec70e0-0')], 'env': {'DemandAnalysis': 'Markdown'}}}\n",
      "---\n"
     ]
    }
   ],
   "source": [
    "results = None\n",
    "async for event in graph.astream(input={\"messages\":[request]}):\n",
    "    print(event)\n",
    "    print(\"---\")\n",
    "    results = event\n"
   ]
  },
  {
   "cell_type": "markdown",
   "metadata": {},
   "source": []
  },
  {
   "cell_type": "code",
   "execution_count": 111,
   "metadata": {},
   "outputs": [
    {
     "data": {
      "text/plain": [
       "{'DemandAnalysis': 'Markdown'}"
      ]
     },
     "execution_count": 111,
     "metadata": {},
     "output_type": "execute_result"
    }
   ],
   "source": [
    "results['generate']['env']"
   ]
  },
  {
   "cell_type": "code",
   "execution_count": 96,
   "metadata": {},
   "outputs": [
    {
     "name": "stdout",
     "output_type": "stream",
     "text": [
      "---GENERATE---\n",
      "---GENERATE---\n"
     ]
    }
   ],
   "source": [
    "results = None\n",
    "input={\"messages\":[request]}\n",
    "async for output in graph.astream_log(input,include_types=['llm']):\n",
    "    # print(output)\n",
    "    for op in output.ops:\n",
    "        if op[\"path\"] == \"/streamed_output/-\":\n",
    "            # this is the output from .stream()\n",
    "            ...\n",
    "        elif op[\"path\"].startswith(\"/logs/\") and op[\"path\"].endswith(\n",
    "            \"/streamed_output/-\"\n",
    "        ):\n",
    "            # because we chose to only include LLMs, these are LLM tokens\n",
    "            print(op[\"value\"])"
   ]
  },
  {
   "cell_type": "code",
   "execution_count": null,
   "metadata": {},
   "outputs": [],
   "source": []
  }
 ],
 "metadata": {
  "kernelspec": {
   "display_name": "pyautogen",
   "language": "python",
   "name": "python3"
  },
  "language_info": {
   "codemirror_mode": {
    "name": "ipython",
    "version": 3
   },
   "file_extension": ".py",
   "mimetype": "text/x-python",
   "name": "python",
   "nbconvert_exporter": "python",
   "pygments_lexer": "ipython3",
   "version": "3.10.13"
  }
 },
 "nbformat": 4,
 "nbformat_minor": 2
}
