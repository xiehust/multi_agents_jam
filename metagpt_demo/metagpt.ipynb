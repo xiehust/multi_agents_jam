{
 "cells": [
  {
   "cell_type": "code",
   "execution_count": null,
   "id": "bc2e886d-4c05-4112-b621-d23c5bc38b4e",
   "metadata": {},
   "outputs": [],
   "source": [
    "%pip install metagpt -q"
   ]
  },
  {
   "cell_type": "code",
   "execution_count": 8,
   "id": "df6abe14-eea8-4f44-b84e-f4f7e346a8d0",
   "metadata": {},
   "outputs": [],
   "source": [
    "import nest_asyncio\n",
    "nest_asyncio.apply()"
   ]
  },
  {
   "cell_type": "markdown",
   "id": "497579e8-75f4-44db-905f-2108c2fffc79",
   "metadata": {},
   "source": [
    "## 单一智能体"
   ]
  },
  {
   "cell_type": "markdown",
   "id": "6895fcb4-de8e-4306-af08-b57815c5258b",
   "metadata": {},
   "source": [
    "- 定义动作\n",
    "\n",
    "在 MetaGPT 中，类 Action 是动作的逻辑抽象。用户可以通过简单地调用 self._aask 函数令 LLM 赋予这个动作能力，即这个函数将在底层调用 LLM api。\n",
    "\n",
    "在我们的场景中，我们定义了一个 SimpleWriteCode 子类 Action。虽然它主要是一个围绕提示和 LLM 调用的包装器，但我们认为这个 Action 抽象更直观。在下游和高级任务中，使用它作为一个整体感觉更自然，而不是分别制作提示和调用 LLM，尤其是在智能体的框架内。"
   ]
  },
  {
   "cell_type": "code",
   "execution_count": 51,
   "id": "3e5e782f-6d57-48c0-9bbb-53ff9f071488",
   "metadata": {},
   "outputs": [],
   "source": [
    "from metagpt.actions import Action\n",
    "import re\n",
    "\n",
    "class SimpleWriteCode(Action):\n",
    "    PROMPT_TEMPLATE: str = \"\"\"\n",
    "    Write a python function that can {instruction} and provide two runnnable test cases.\n",
    "    Return ```python your_code_here ``` with NO other texts,\n",
    "    your code:\n",
    "    \"\"\"\n",
    "\n",
    "    name: str = \"SimpleWriteCode\"\n",
    "\n",
    "    async def run(self, instruction: str):\n",
    "        prompt = self.PROMPT_TEMPLATE.format(instruction=instruction)\n",
    "\n",
    "        rsp = await self._aask(prompt)\n",
    "\n",
    "        code_text = SimpleWriteCode.parse_code(rsp)\n",
    "\n",
    "        return code_text\n",
    "\n",
    "    @staticmethod\n",
    "    def parse_code(rsp):\n",
    "        pattern = r\"```python(.*)```\"\n",
    "        match = re.search(pattern, rsp, re.DOTALL)\n",
    "        code_text = match.group(1) if match else rsp\n",
    "        return code_text"
   ]
  },
  {
   "cell_type": "markdown",
   "id": "2f73e4d6-480e-4ebc-8789-7bac0916c862",
   "metadata": {},
   "source": [
    "- 定义角色\n",
    "\n",
    "在 MetaGPT 中，Role 类是智能体的逻辑抽象。一个 Role 能执行特定的 Action，拥有记忆、思考并采用各种策略行动。基本上，它充当一个将所有这些组件联系在一起的凝聚实体。目前，让我们只关注一个执行动作的智能体，并看看如何定义一个最简单的 Role。\n",
    "\n",
    "在这个示例中，我们创建了一个 SimpleCoder，它能够根据人类的自然语言描述编写代码。步骤如下：\n",
    "\n",
    "    我们为其指定一个名称和配置文件。\n",
    "    我们使用 self._init_action 函数为其配备期望的动作 SimpleWriteCode。\n",
    "    我们覆盖 _act 函数，其中包含智能体具体行动逻辑。我们写入，我们的智能体将从最新的记忆中获取人类指令，运行配备的动作，MetaGPT将其作为待办事项 (self.rc.todo) 在幕后处理，最后返回一个完整的消息。"
   ]
  },
  {
   "cell_type": "code",
   "execution_count": 52,
   "id": "e9488d6c-45c2-47c9-bb8d-9191ac9d8585",
   "metadata": {},
   "outputs": [],
   "source": [
    "from metagpt.roles import Role\n",
    "from metagpt.actions import Action\n",
    "from metagpt.logs import logger\n",
    "from metagpt.roles.role import Role, RoleReactMode\n",
    "from metagpt.schema import Message\n",
    "\n",
    "class SimpleCoder(Role):\n",
    "    name: str = \"Alice\"\n",
    "    profile: str = \"SimpleCoder\"\n",
    "\n",
    "    def __init__(self, **kwargs):\n",
    "        super().__init__(**kwargs)\n",
    "        self.set_actions([SimpleWriteCode])\n",
    "\n",
    "    async def _act(self) -> Message:\n",
    "        logger.info(f\"{self._setting}: to do {self.rc.todo}({self.rc.todo.name})\")\n",
    "        todo = self.rc.todo  # todo will be SimpleWriteCode()\n",
    "\n",
    "        msg = self.get_memories(k=1)[0]  # find the most recent messages\n",
    "        code_text = await todo.run(msg.content)\n",
    "        msg = Message(content=code_text, role=self.profile, cause_by=type(todo))\n",
    "\n",
    "        return msg"
   ]
  },
  {
   "cell_type": "code",
   "execution_count": 14,
   "id": "900ab1af-cdba-4ef0-a56d-22afadc5890c",
   "metadata": {},
   "outputs": [
    {
     "name": "stderr",
     "output_type": "stream",
     "text": [
      "2024-05-11 14:38:07.432 | INFO     | __main__:main:9 - write a function that calculates the sum of a list\n",
      "2024-05-11 14:38:07.433 | INFO     | __main__:_act:16 - Alice(SimpleCoder): to do SimpleWriteCode(SimpleWriteCode)\n"
     ]
    },
    {
     "name": "stdout",
     "output_type": "stream",
     "text": [
      "```python\n",
      "def calculate_sum(lst):\n",
      "    return sum(lst)\n",
      "\n",
      "# Test cases\n",
      "print(calculate_sum([1, 2, 3]))  # Output should be 6\n",
      "print(calculate_sum([4, 5, 6]))  # Output should be 15\n",
      "```\n",
      "Warning: gpt-3.5-turbo may update over time. Returning num tokens assuming gpt-3.5-turbo-0125.\n"
     ]
    },
    {
     "name": "stderr",
     "output_type": "stream",
     "text": [
      "2024-05-11 14:38:09.002 | INFO     | metagpt.utils.cost_manager:update_cost:57 - Total running cost: $0.000 | Max budget: $10.000 | Current cost: $0.000, prompt_tokens: 70, completion_tokens: 60\n",
      "2024-05-11 14:38:09.003 | INFO     | __main__:main:11 - SimpleCoder: \n",
      "def calculate_sum(lst):\n",
      "    return sum(lst)\n",
      "\n",
      "# Test cases\n",
      "print(calculate_sum([1, 2, 3]))  # Output should be 6\n",
      "print(calculate_sum([4, 5, 6]))  # Output should be 15\n",
      "\n"
     ]
    }
   ],
   "source": [
    "import asyncio\n",
    "\n",
    "from metagpt.context import Context\n",
    "\n",
    "async def main():\n",
    "    msg = \"write a function that calculates the sum of a list\"\n",
    "    context = Context()\n",
    "    role = SimpleCoder(context=context)\n",
    "    logger.info(msg)\n",
    "    result = await role.run(msg)\n",
    "    logger.info(result)\n",
    "\n",
    "await main()"
   ]
  },
  {
   "cell_type": "markdown",
   "id": "3db2a76a-91fd-4344-9336-f1a3bc51a4b7",
   "metadata": {},
   "source": [
    "## 多智能体入门\n",
    "\n",
    "在上一章中，我们简要讨论了单智能体的创建。虽然对许多情况来说，单智能体可能已经足够，但更复杂的任务通常需要协作和团队合作，这也就是多智能体为什么必不可少的原因。MetaGPT的核心优势也在于轻松灵活地开发一个智能体团队。在MetaGPT框架下，用户可以通过少量代码实现智能体之间的交互。\n",
    "\n",
    "完成本节，你将能够：\n",
    "\n",
    "    理解智能体之间如何进行交互\n",
    "    开发你的第一个智能体团队"
   ]
  },
  {
   "cell_type": "code",
   "execution_count": 53,
   "id": "c17564d9-45ed-4b35-a56d-488d490f68d1",
   "metadata": {},
   "outputs": [],
   "source": [
    "from metagpt.actions import Action, UserRequirement\n",
    "from metagpt.logs import logger\n",
    "from metagpt.roles import Role\n",
    "from metagpt.schema import Message\n",
    "from metagpt.team import Team"
   ]
  },
  {
   "cell_type": "code",
   "execution_count": 54,
   "id": "77370291-e2f0-4deb-a6ed-48b2a3654447",
   "metadata": {},
   "outputs": [],
   "source": [
    "def parse_code(rsp):\n",
    "    pattern = r\"```python(.*)```\"\n",
    "    match = re.search(pattern, rsp, re.DOTALL)\n",
    "    code_text = match.group(1) if match else rsp\n",
    "    return code_text"
   ]
  },
  {
   "cell_type": "code",
   "execution_count": 55,
   "id": "146bbcd8-6702-43a7-a4b5-d0945f582954",
   "metadata": {},
   "outputs": [],
   "source": [
    "class SimpleWriteCode(Action):\n",
    "    PROMPT_TEMPLATE: str = \"\"\"\n",
    "    Write a python function that can {instruction}.\n",
    "    Return ```python your_code_here ``` with NO other texts,\n",
    "    your code:\n",
    "    \"\"\"\n",
    "    name: str = \"SimpleWriteCode\"\n",
    "\n",
    "    async def run(self, instruction: str):\n",
    "        prompt = self.PROMPT_TEMPLATE.format(instruction=instruction)\n",
    "\n",
    "        rsp = await self._aask(prompt)\n",
    "\n",
    "        code_text = parse_code(rsp)\n",
    "\n",
    "        return code_text"
   ]
  },
  {
   "cell_type": "code",
   "execution_count": 56,
   "id": "b915c392-eb51-4577-81f2-cea2f8774662",
   "metadata": {},
   "outputs": [],
   "source": [
    "class SimpleWriteTest(Action):\n",
    "    PROMPT_TEMPLATE: str = \"\"\"\n",
    "    Context: {context}\n",
    "    Write {k} unit tests using pytest for the given function, assuming you have imported it.\n",
    "    Return ```python your_code_here ``` with NO other texts,\n",
    "    your code:\n",
    "    \"\"\"\n",
    "\n",
    "    name: str = \"SimpleWriteTest\"\n",
    "\n",
    "    async def run(self, context: str, k: int = 3):\n",
    "        prompt = self.PROMPT_TEMPLATE.format(context=context, k=k)\n",
    "\n",
    "        rsp = await self._aask(prompt)\n",
    "\n",
    "        code_text = parse_code(rsp)\n",
    "\n",
    "        return code_text"
   ]
  },
  {
   "cell_type": "code",
   "execution_count": 57,
   "id": "9a5e4093-c49b-446b-955b-e301aaf9064c",
   "metadata": {},
   "outputs": [],
   "source": [
    "class SimpleWriteReview(Action):\n",
    "    PROMPT_TEMPLATE: str = \"\"\"\n",
    "    Context: {context}\n",
    "    Review the test cases and provide one critical comments:\n",
    "    \"\"\"\n",
    "\n",
    "    name: str = \"SimpleWriteReview\"\n",
    "\n",
    "    async def run(self, context: str):\n",
    "        prompt = self.PROMPT_TEMPLATE.format(context=context)\n",
    "\n",
    "        rsp = await self._aask(prompt)\n",
    "\n",
    "        return rsp"
   ]
  },
  {
   "cell_type": "markdown",
   "id": "097f3e55-e3f8-4e20-be56-6026d9bfc4d4",
   "metadata": {},
   "source": [
    "在许多多智能体场景中，定义Role可能只需几行代码。对于SimpleCoder，我们做了两件事：\n",
    "\n",
    "    使用 set_actions 为Role配备适当的 Action，这与设置单智能体相同\n",
    "    多智能体操作逻辑：我们使Role _watch 来自用户或其他智能体的重要上游消息。回想我们的SOP，SimpleCoder接收用户指令，这是由MetaGPT中的UserRequirement引起的Message。因此，我们添加了 self._watch([UserRequirement])。\n",
    "\n",
    "这就是用户需要做的全部。对于那些对底层机制感兴趣的人，请参见本教程的本章中的机制解释。"
   ]
  },
  {
   "cell_type": "code",
   "execution_count": 58,
   "id": "cfdc5e4c-ccc4-4c42-a84f-3fa061305a3f",
   "metadata": {},
   "outputs": [],
   "source": [
    "class SimpleCoder(Role):\n",
    "    name: str = \"Alice\"\n",
    "    profile: str = \"SimpleCoder\"\n",
    "\n",
    "    def __init__(self, **kwargs):\n",
    "        super().__init__(**kwargs)\n",
    "        self._watch([UserRequirement])\n",
    "        self.set_actions([SimpleWriteCode])"
   ]
  },
  {
   "cell_type": "code",
   "execution_count": 71,
   "id": "42aca455-4829-48a1-80b4-21e53e6e93b8",
   "metadata": {},
   "outputs": [],
   "source": [
    "class SimpleTester(Role):\n",
    "    name: str = \"Bob\"\n",
    "    profile: str = \"SimpleTester\"\n",
    "\n",
    "    def __init__(self, **kwargs):\n",
    "        super().__init__(**kwargs)\n",
    "        self.set_actions([SimpleWriteTest])\n",
    "        self._watch([SimpleWriteCode, SimpleWriteReview])  # feel free to try this too\n",
    "\n",
    "    async def _act(self) -> Message:\n",
    "        logger.info(f\"{self._setting}: to do {self.rc.todo}({self.rc.todo.name})\")\n",
    "        todo = self.rc.todo\n",
    "\n",
    "        # context = self.get_memories(k=1)[0].content # use the most recent memory as context\n",
    "        context = self.get_memories()  # use all memories as context\n",
    "\n",
    "        code_text = await todo.run(context, k=5)  # specify arguments\n",
    "        msg = Message(content=code_text, role=self.profile, cause_by=type(todo))\n",
    "\n",
    "        return msg"
   ]
  },
  {
   "cell_type": "code",
   "execution_count": 72,
   "id": "eb4cdb0c-2fa4-457b-8868-059628379639",
   "metadata": {},
   "outputs": [],
   "source": [
    "class SimpleReviewer(Role):\n",
    "    name: str = \"Charlie\"\n",
    "    profile: str = \"SimpleReviewer\"\n",
    "\n",
    "    def __init__(self, **kwargs):\n",
    "        super().__init__(**kwargs)\n",
    "        self.set_actions([SimpleWriteReview])\n",
    "        self._watch([SimpleWriteTest])"
   ]
  },
  {
   "cell_type": "markdown",
   "id": "80953134-0b13-4f3f-84d0-2eefff0d9393",
   "metadata": {},
   "source": [
    "## 创建一个团队并添加角色\n",
    "\n",
    "现在我们已经定义了三个 Role，是时候将它们放在一起了。我们初始化所有角色，设置一个 Team，并hire 它们。\n",
    "\n",
    "运行 Team，我们应该会看到它们之间的协作！"
   ]
  },
  {
   "cell_type": "code",
   "execution_count": 75,
   "id": "e6d689eb-3826-40e0-90a8-325e420b6dee",
   "metadata": {},
   "outputs": [],
   "source": [
    "import asyncio\n",
    "import typer\n",
    "from metagpt.logs import logger\n",
    "from metagpt.team import Team\n",
    "app = typer.Typer()\n",
    "from pydantic import Field\n",
    "\n",
    "@app.command()\n",
    "async def main( \n",
    "    idea: str,\n",
    "    investment:float = 3.0 , # Field(default=3.0, description=\"Dollar amount to invest in the AI company.\"),\n",
    "    n_round: int = 8 #int = Field(default=5, description=\"Number of rounds for the simulation.\"),\n",
    "):\n",
    "    logger.info(idea)\n",
    "\n",
    "    team = Team()\n",
    "    team.hire(\n",
    "        [\n",
    "            SimpleCoder(),\n",
    "            SimpleTester(),\n",
    "            SimpleReviewer(),\n",
    "        ]\n",
    "    )\n",
    "\n",
    "    team.invest(investment=investment)\n",
    "    team.run_project(idea)\n",
    "    await team.run(n_round=n_round)"
   ]
  },
  {
   "cell_type": "code",
   "execution_count": 76,
   "id": "0e2258ae-00b4-4db0-a8e2-66b9fe6d6b40",
   "metadata": {},
   "outputs": [
    {
     "name": "stderr",
     "output_type": "stream",
     "text": [
      "2024-05-11 15:01:28.770 | INFO     | __main__:main:14 - write a function that calculates the product of a list\n",
      "2024-05-11 15:01:28.801 | INFO     | metagpt.team:invest:90 - Investment: $3.0.\n",
      "2024-05-11 15:01:28.803 | INFO     | metagpt.roles.role:_act:391 - Alice(SimpleCoder): to do SimpleWriteCode(SimpleWriteCode)\n"
     ]
    },
    {
     "name": "stdout",
     "output_type": "stream",
     "text": [
      "```python\n",
      "def calculate_product(lst):\n",
      "    product = 1\n",
      "    for num in lst:\n",
      "        product *= num"
     ]
    },
    {
     "name": "stderr",
     "output_type": "stream",
     "text": [
      "2024-05-11 15:01:29.672 | INFO     | metagpt.utils.cost_manager:update_cost:57 - Total running cost: $0.000 | Max budget: $3.000 | Current cost: $0.000, prompt_tokens: 65, completion_tokens: 30\n",
      "2024-05-11 15:01:29.674 | INFO     | __main__:_act:12 - Bob(SimpleTester): to do SimpleWriteTest(SimpleWriteTest)\n"
     ]
    },
    {
     "name": "stdout",
     "output_type": "stream",
     "text": [
      "\n",
      "    return product\n",
      "```\n",
      "Warning: gpt-3.5-turbo may update over time. Returning num tokens assuming gpt-3.5-turbo-0125.\n",
      "```python\n",
      "import pytest\n",
      "\n",
      "def test_empty_list():\n",
      "    assert calculate_product([]) == 1\n",
      "\n",
      "def test_single_element():\n",
      "    assert calculate_product([5]) == 5\n",
      "\n",
      "def test_positive_numbers():\n",
      "    assert calculate_product([2, 3, 4]) == 24\n",
      "\n",
      "def test_negative_numbers():\n",
      "    assert calculate_product([-2, -3, -4]) == -24\n",
      "\n",
      "def test_mixed_numbers():\n",
      "    assert calculate_product([2, -3, 4])"
     ]
    },
    {
     "name": "stderr",
     "output_type": "stream",
     "text": [
      "2024-05-11 15:01:31.869 | INFO     | metagpt.utils.cost_manager:update_cost:57 - Total running cost: $0.001 | Max budget: $3.000 | Current cost: $0.000, prompt_tokens: 111, completion_tokens: 105\n",
      "2024-05-11 15:01:31.871 | INFO     | metagpt.roles.role:_act:391 - Charlie(SimpleReviewer): to do SimpleWriteReview(SimpleWriteReview)\n"
     ]
    },
    {
     "name": "stdout",
     "output_type": "stream",
     "text": [
      " == -24\n",
      "```\n",
      "Warning: gpt-3.5-turbo may update over time. Returning num tokens assuming gpt-3.5-turbo-0125.\n",
      "One critical comment on the test cases provided is that there is no test case for a list containing a zero value. Including a test case for a list with a zero value would be beneficial to ensure that the function"
     ]
    },
    {
     "name": "stderr",
     "output_type": "stream",
     "text": [
      "2024-05-11 15:01:33.029 | INFO     | metagpt.utils.cost_manager:update_cost:57 - Total running cost: $0.001 | Max budget: $3.000 | Current cost: $0.000, prompt_tokens: 192, completion_tokens: 59\n",
      "2024-05-11 15:01:33.031 | INFO     | __main__:_act:12 - Bob(SimpleTester): to do SimpleWriteTest(SimpleWriteTest)\n"
     ]
    },
    {
     "name": "stdout",
     "output_type": "stream",
     "text": [
      " handles this scenario correctly, as multiplying by zero can have specific implications in mathematical operations.\n",
      "Warning: gpt-3.5-turbo may update over time. Returning num tokens assuming gpt-3.5-turbo-0125.\n",
      "```python \n",
      "import pytest\n",
      "\n",
      "def test_empty_list():\n",
      "    assert calculate_product([]) == 1\n",
      "\n",
      "def test_single_element():\n",
      "    assert calculate_product([5]) == 5\n",
      "\n",
      "def test_positive_numbers():\n",
      "    assert calculate_product([2, 3, 4]) == 24\n",
      "\n",
      "def test_negative_numbers():\n",
      "    assert calculate_product([-2, -3, -4]) == -24\n",
      "\n",
      "def test_mixed_numbers():\n",
      "    assert calculate_product([2, -3, 4]) == -24\n",
      "\n",
      "def test_list_with_zero():\n",
      "    assert calculate_product([2, 0, 4])"
     ]
    },
    {
     "name": "stderr",
     "output_type": "stream",
     "text": [
      "2024-05-11 15:01:35.425 | INFO     | metagpt.utils.cost_manager:update_cost:57 - Total running cost: $0.002 | Max budget: $3.000 | Current cost: $0.001, prompt_tokens: 280, completion_tokens: 128\n",
      "2024-05-11 15:01:35.427 | INFO     | metagpt.roles.role:_act:391 - Charlie(SimpleReviewer): to do SimpleWriteReview(SimpleWriteReview)\n"
     ]
    },
    {
     "name": "stdout",
     "output_type": "stream",
     "text": [
      " == 0\n",
      "```\n",
      "Warning: gpt-3.5-turbo may update over time. Returning num tokens assuming gpt-3.5-turbo-0125.\n",
      "One critical comment on the test cases provided is that there is no test case for edge cases where the list contains very large numbers. Including a test case with large numbers would be beneficial to ensure that the function can handle such scenarios without encountering overflow or other"
     ]
    },
    {
     "name": "stderr",
     "output_type": "stream",
     "text": [
      "2024-05-11 15:01:36.725 | INFO     | metagpt.utils.cost_manager:update_cost:57 - Total running cost: $0.002 | Max budget: $3.000 | Current cost: $0.001, prompt_tokens: 383, completion_tokens: 53\n",
      "2024-05-11 15:01:36.727 | INFO     | __main__:_act:12 - Bob(SimpleTester): to do SimpleWriteTest(SimpleWriteTest)\n"
     ]
    },
    {
     "name": "stdout",
     "output_type": "stream",
     "text": [
      " numerical issues.\n",
      "Warning: gpt-3.5-turbo may update over time. Returning num tokens assuming gpt-3.5-turbo-0125.\n",
      "```python \n",
      "import pytest\n",
      "\n",
      "def test_empty_list():\n",
      "    assert calculate_product([]) == 1\n",
      "\n",
      "def test_single_element():\n",
      "    assert calculate_product([5]) == 5\n",
      "\n",
      "def test_positive_numbers():\n",
      "    assert calculate_product([2, 3, 4]) == 24\n",
      "\n",
      "def test_negative_numbers():\n",
      "    assert calculate_product([-2, -3, -4]) == -24\n",
      "\n",
      "def test_mixed_numbers():\n",
      "    assert calculate_product([2, -3, 4]) == -24\n",
      "\n",
      "def test_list_with_zero():\n",
      "    assert calculate_product([2, 0, 4]) == 0\n",
      "\n",
      "def test_large_numbers():\n",
      "    assert calculate_product([1000000, 1000000]) == 1000000000000\n",
      "\n",
      "def test_large_negative_numbers():\n",
      "    assert calculate_product([-1000000, -1000000]) == 1000000000000\n",
      "\n",
      "def test_large_mixed_numbers():\n",
      "    assert calculate_product([1000000, -1000000]) == -1000000000000\n",
      "\n",
      "def test_large_list():\n",
      "    assert calculate_product([2, 3, 4, 5, 6, 7, 8, 9"
     ]
    },
    {
     "name": "stderr",
     "output_type": "stream",
     "text": [
      "2024-05-11 15:01:41.691 | INFO     | metagpt.utils.cost_manager:update_cost:57 - Total running cost: $0.004 | Max budget: $3.000 | Current cost: $0.001, prompt_tokens: 465, completion_tokens: 255\n",
      "2024-05-11 15:01:41.694 | INFO     | metagpt.roles.role:_act:391 - Charlie(SimpleReviewer): to do SimpleWriteReview(SimpleWriteReview)\n"
     ]
    },
    {
     "name": "stdout",
     "output_type": "stream",
     "text": [
      ", 10]) == 3628800\n",
      "```  \n",
      "Warning: gpt-3.5-turbo may update over time. Returning num tokens assuming gpt-3.5-turbo-0125.\n",
      "As a SimpleReviewer, one critical comment on the test cases provided is that there is no test case for handling floating-point numbers. Including a test case with floating-point numbers would be beneficial to ensure that the function can handle decimal values correctly and does not encounter any precision issues during the calculation"
     ]
    },
    {
     "name": "stderr",
     "output_type": "stream",
     "text": [
      "2024-05-11 15:01:42.914 | INFO     | metagpt.utils.cost_manager:update_cost:57 - Total running cost: $0.005 | Max budget: $3.000 | Current cost: $0.001, prompt_tokens: 694, completion_tokens: 61\n",
      "2024-05-11 15:01:42.916 | INFO     | __main__:_act:12 - Bob(SimpleTester): to do SimpleWriteTest(SimpleWriteTest)\n"
     ]
    },
    {
     "name": "stdout",
     "output_type": "stream",
     "text": [
      " of the product.\n",
      "Warning: gpt-3.5-turbo may update over time. Returning num tokens assuming gpt-3.5-turbo-0125.\n",
      "```python\n",
      "import pytest\n",
      "\n",
      "def test_empty_list():\n",
      "    assert calculate_product([]) == 1\n",
      "\n",
      "def test_single_element():\n",
      "    assert calculate_product([5]) == 5\n",
      "\n",
      "def test_positive_numbers():\n",
      "    assert calculate_product([2, 3, 4]) == 24\n",
      "\n",
      "def test_negative_numbers():\n",
      "    assert calculate_product([-2, -3, -4]) == -24\n",
      "\n",
      "def test_mixed_numbers():\n",
      "    assert calculate_product([2, -3,"
     ]
    },
    {
     "name": "stderr",
     "output_type": "stream",
     "text": [
      "2024-05-11 15:01:44.750 | INFO     | metagpt.utils.cost_manager:update_cost:57 - Total running cost: $0.006 | Max budget: $3.000 | Current cost: $0.001, prompt_tokens: 784, completion_tokens: 105\n"
     ]
    },
    {
     "name": "stdout",
     "output_type": "stream",
     "text": [
      " 4]) == -24\n",
      "```\n",
      "Warning: gpt-3.5-turbo may update over time. Returning num tokens assuming gpt-3.5-turbo-0125.\n"
     ]
    }
   ],
   "source": [
    "await main(idea='write a function that calculates the product of a list')"
   ]
  },
  {
   "cell_type": "code",
   "execution_count": null,
   "id": "2ce23046-e967-439f-b7ca-cbff69776bb6",
   "metadata": {},
   "outputs": [],
   "source": []
  }
 ],
 "metadata": {
  "kernelspec": {
   "display_name": "Python 3 (ipykernel)",
   "language": "python",
   "name": "python3"
  },
  "language_info": {
   "codemirror_mode": {
    "name": "ipython",
    "version": 3
   },
   "file_extension": ".py",
   "mimetype": "text/x-python",
   "name": "python",
   "nbconvert_exporter": "python",
   "pygments_lexer": "ipython3",
   "version": "3.10.14"
  }
 },
 "nbformat": 4,
 "nbformat_minor": 5
}
